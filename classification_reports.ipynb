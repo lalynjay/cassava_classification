{
 "cells": [
  {
   "cell_type": "markdown",
   "id": "83a5d68d",
   "metadata": {},
   "source": [
    "# Classification reports"
   ]
  },
  {
   "cell_type": "markdown",
   "id": "ea35d0c8",
   "metadata": {},
   "source": [
    "## full dataset models - 64 x 64 pixels"
   ]
  },
  {
   "cell_type": "markdown",
   "id": "fe622731",
   "metadata": {},
   "source": [
    "## small dataset models - 128 x 128 pixels"
   ]
  },
  {
   "cell_type": "markdown",
   "id": "9a633ae5",
   "metadata": {},
   "source": [
    "### Basic neural network model"
   ]
  },
  {
   "cell_type": "markdown",
   "id": "00dbf6ba",
   "metadata": {},
   "source": [
    " precision    recall  f1-score   support\n",
    "\n",
    "           0       0.00      0.00      0.00       103\n",
    "           1       0.43      0.54      0.48       268\n",
    "           2       0.29      0.06      0.10       159\n",
    "           3       0.58      0.82      0.68       536\n",
    "           4       0.25      0.02      0.03        66\n",
    "\n",
    "    accuracy                           0.53      1132\n",
    "    \n",
    "    macro avg     0.31      0.29      0.26      1132\n",
    "   \n",
    "    weighted avg  0.43      0.53      0.45      1132\n",
    "     \n",
    "  \n",
    "     precision    recall  f1-score   support\n",
    "\n",
    "           0       0.25      0.76      0.38        55\n",
    "           1       0.00      0.00      0.00        61\n",
    "           2       0.67      0.03      0.06        69\n",
    "           3       0.00      0.00      0.00        66\n",
    "           4       0.21      0.55      0.30        49\n",
    "\n",
    "        accuracy                           0.24       300\n",
    "       macro avg       0.23      0.27      0.15       300\n",
    "    weighted avg       0.23      0.24      0.13       300\n"
   ]
  },
  {
   "cell_type": "markdown",
   "id": "832b4a48",
   "metadata": {},
   "source": [
    "### Neural network with 1 hidden layer"
   ]
  },
  {
   "cell_type": "markdown",
   "id": "ae5fedf9",
   "metadata": {},
   "source": [
    "       precision    recall  f1-score   support\n",
    "\n",
    "           0       0.28      0.07      0.11        97\n",
    "           1       0.42      0.55      0.48       287\n",
    "           2       0.18      0.02      0.03       165\n",
    "           3       0.56      0.76      0.64       526\n",
    "           4       0.00      0.00      0.00        57\n",
    "\n",
    "    accuracy                           0.50      1132\n",
    "    macro avg       0.29      0.28      0.25      1132\n",
    "    weighted avg       0.42      0.50      0.43      1132\n",
    "    \n",
    "    precision    recall  f1-score   support\n",
    "\n",
    "           0       0.34      0.47      0.40        55\n",
    "           1       0.20      0.08      0.12        61\n",
    "           2       0.36      0.23      0.28        69\n",
    "           3       0.29      0.42      0.34        66\n",
    "           4       0.27      0.31      0.29        49\n",
    "\n",
    "    accuracy                           0.30       300\n",
    "    macro avg     0.29      0.30      0.28       300\n"
   ]
  },
  {
   "cell_type": "markdown",
   "id": "97f49a85",
   "metadata": {},
   "source": [
    "### Neural nettwork model with 2 hidden layers"
   ]
  },
  {
   "cell_type": "markdown",
   "id": "8ada71ba",
   "metadata": {},
   "source": [
    "precision    recall  f1-score   support\n",
    "\n",
    "           0       0.28      0.07      0.11        97\n",
    "           1       0.42      0.55      0.48       287\n",
    "           2       0.18      0.02      0.03       165\n",
    "           3       0.56      0.76      0.64       526\n",
    "           4       0.00      0.00      0.00        57\n",
    "\n",
    "    accuracy                           0.50      1132\n",
    "    macro avg       0.29      0.28      0.25      1132\n",
    "    weighted avg       0.42      0.50      0.43      1132\n",
    "    \n",
    "    precision    recall  f1-score   support\n",
    "\n",
    "           0       0.00      0.00      0.00        55\n",
    "           1       0.00      0.00      0.00        61\n",
    "           2       0.00      0.00      0.00        69\n",
    "           3       0.00      0.00      0.00        66\n",
    "           4       0.16      1.00      0.28        49\n",
    "\n",
    "    accuracy                           0.16       300\n",
    "    macro avg       0.03      0.20      0.06       300\n",
    "    weighted avg       0.03      0.16      0.05       300"
   ]
  },
  {
   "cell_type": "markdown",
   "id": "7d856b87",
   "metadata": {},
   "source": [
    "### Grid search to find optimal parameters"
   ]
  },
  {
   "cell_type": "markdown",
   "id": "8707a42f",
   "metadata": {},
   "source": [
    "precision    recall  f1-score   support\n",
    "\n",
    "           0       0.34      0.36      0.35        66\n",
    "           1       0.50      0.05      0.09        60\n",
    "           2       0.17      0.02      0.03        60\n",
    "           3       0.31      0.17      0.22        58\n",
    "           4       0.25      0.82      0.38        56\n",
    "\n",
    "    accuracy                           0.28       300\n",
    "    macro avg       0.31      0.28      0.22       300\n",
    "    weighted avg       0.31      0.28      0.22       300"
   ]
  },
  {
   "cell_type": "markdown",
   "id": "8d28ef64",
   "metadata": {},
   "source": [
    "### Neural Network model with L2 regularization"
   ]
  },
  {
   "cell_type": "markdown",
   "id": "f5fa2177",
   "metadata": {},
   "source": [
    " precision    recall  f1-score   support\n",
    "\n",
    "           0       0.28      0.07      0.11        97\n",
    "           1       0.42      0.55      0.48       287\n",
    "           2       0.18      0.02      0.03       165\n",
    "           3       0.56      0.76      0.64       526\n",
    "           4       0.00      0.00      0.00        57\n",
    "\n",
    "    accuracy                           0.50      1132\n",
    "    macro avg       0.29      0.28      0.25      1132\n",
    "    weighted avg       0.42      0.50      0.43      1132\n",
    "    \n",
    "     precision    recall  f1-score   support\n",
    "\n",
    "           0       0.34      0.62      0.44        55\n",
    "           1       0.27      0.13      0.18        61\n",
    "           2       0.50      0.03      0.05        69\n",
    "           3       0.36      0.47      0.41        66\n",
    "           4       0.29      0.49      0.37        49\n",
    "\n",
    "    accuracy                           0.33       300\n",
    "    macro avg       0.35      0.35      0.29       300\n",
    "    weighted avg       0.36      0.33      0.28       300"
   ]
  },
  {
   "cell_type": "markdown",
   "id": "38d81cbb",
   "metadata": {},
   "source": [
    "### Neural network model with L1 regularization"
   ]
  },
  {
   "cell_type": "markdown",
   "id": "ee26e6d0",
   "metadata": {},
   "source": [
    "precision    recall  f1-score   support\n",
    "\n",
    "           0       0.28      0.07      0.11        97\n",
    "           1       0.42      0.55      0.48       287\n",
    "           2       0.18      0.02      0.03       165\n",
    "           3       0.56      0.76      0.64       526\n",
    "           4       0.00      0.00      0.00        57\n",
    "\n",
    "    accuracy                           0.50      1132\n",
    "    macro avg       0.29      0.28      0.25      1132\n",
    "    weighted avg       0.42      0.50      0.43      1132\n",
    "    \n",
    "     precision    recall  f1-score   support\n",
    "\n",
    "           0       0.18      1.00      0.31        55\n",
    "           1       0.00      0.00      0.00        61\n",
    "           2       0.00      0.00      0.00        69\n",
    "           3       0.00      0.00      0.00        66\n",
    "           4       0.00      0.00      0.00        49\n",
    "\n",
    "    accuracy                           0.18       300\n",
    "    macro avg       0.04      0.20      0.06       300\n",
    "    weighted avg       0.03      0.18      0.06       300"
   ]
  },
  {
   "cell_type": "markdown",
   "id": "0773ce93",
   "metadata": {},
   "source": [
    "### Neural network with dropout regularization"
   ]
  },
  {
   "cell_type": "markdown",
   "id": "b3412752",
   "metadata": {},
   "source": [
    "precision    recall  f1-score   support\n",
    "\n",
    "           0       0.28      0.07      0.11        97\n",
    "           1       0.42      0.55      0.48       287\n",
    "           2       0.18      0.02      0.03       165\n",
    "           3       0.56      0.76      0.64       526\n",
    "           4       0.00      0.00      0.00        57\n",
    "\n",
    "    accuracy                           0.50      1132\n",
    "    macro avg       0.29      0.28      0.25      1132\n",
    "    weighted avg       0.42      0.50      0.43      1132\n",
    "    \n",
    "    precision    recall  f1-score   support\n",
    "\n",
    "           0       0.00      0.00      0.00        55\n",
    "           1       0.00      0.00      0.00        61\n",
    "           2       0.00      0.00      0.00        69\n",
    "           3       0.00      0.00      0.00        66\n",
    "           4       0.16      1.00      0.28        49\n",
    "\n",
    "    accuracy                           0.16       300\n",
    "    macro avg       0.03      0.20      0.06       300\n",
    "    weighted avg       0.03      0.16      0.05       300"
   ]
  },
  {
   "cell_type": "markdown",
   "id": "20dda660",
   "metadata": {},
   "source": [
    "### Convoluted Neural Network (CNN) model"
   ]
  },
  {
   "cell_type": "markdown",
   "id": "cb2df202",
   "metadata": {},
   "source": []
  },
  {
   "cell_type": "markdown",
   "id": "473675bd",
   "metadata": {},
   "source": [
    "precision    recall  f1-score   support\n",
    "\n",
    "           0       0.67      0.02      0.04       110\n",
    "           1       0.67      0.61      0.64       308\n",
    "           2       0.00      0.00      0.00       145\n",
    "           3       0.70      0.87      0.78       508\n",
    "           4       0.40      0.20      0.26        61\n",
    "\n",
    "    micro avg       0.68      0.57      0.62      1132\n",
    "    macro avg       0.49      0.34      0.34      1132\n",
    "\n",
    "\n",
    "precision    recall  f1-score   support\n",
    "\n",
    "           0       0.47      0.49      0.48        55\n",
    "           1       0.38      0.59      0.46        61\n",
    "           2       0.30      0.87      0.45        69\n",
    "           3       0.32      0.91      0.48        66\n",
    "           4       0.42      0.10      0.16        49\n",
    "\n",
    "       micro avg       0.34      0.63      0.44       300\n",
    "       macro avg       0.38      0.59      0.41       300\n",
    "    weighted avg       0.37      0.63      0.42       300\n",
    "     samples avg       0.34      0.63      0.43       300"
   ]
  },
  {
   "cell_type": "markdown",
   "id": "304877fe",
   "metadata": {},
   "source": [
    "# Binary classification"
   ]
  },
  {
   "cell_type": "markdown",
   "id": "84492a97",
   "metadata": {},
   "source": []
  },
  {
   "cell_type": "markdown",
   "id": "0b2d3e6a",
   "metadata": {},
   "source": [
    "### basic network binary"
   ]
  },
  {
   "cell_type": "markdown",
   "id": "61c7557f",
   "metadata": {},
   "source": [
    "    precision    recall  f1-score   support\n",
    "\n",
    "    0       0.00      0.00      0.00        57\n",
    "    1       0.95      1.00      0.97      1075\n",
    "\n",
    "    micro avg       0.95      0.95      0.95      1132\n",
    "    macro avg       0.47      0.50      0.49      1132\n",
    "\n",
    "\n",
    "precision    recall  f1-score   support\n",
    "\n",
    "           0       0.56      0.10      0.17        49\n",
    "           1       0.85      0.98      0.91       251\n",
    "\n",
    "          micro avg       0.84      0.84      0.84       300\n",
    "       macro avg       0.70      0.54      0.54       300\n",
    "    weighted avg       0.80      0.84      0.79       300\n",
    "     samples avg       0.84      0.84      0.84       300\n"
   ]
  },
  {
   "cell_type": "markdown",
   "id": "ab700867",
   "metadata": {},
   "source": [
    "### Network with 1 hidden layer- binary"
   ]
  },
  {
   "cell_type": "markdown",
   "id": "90117c57",
   "metadata": {},
   "source": [
    "    precision    recall  f1-score   support\n",
    "\n",
    "           0       0.00      0.00      0.00        57\n",
    "           1       0.95      1.00      0.97      1075\n",
    "\n",
    "       micro avg       0.95      0.95      0.95      1132\n",
    "       macro avg       0.47      0.50      0.49      1132\n",
    "       \n",
    "        precision    recall  f1-score   support\n",
    "\n",
    "           0       0.00      0.00      0.00        49\n",
    "           1       0.84      1.00      0.91       251\n",
    "\n",
    "       micro avg       0.84      0.84      0.84       300\n",
    "       macro avg       0.42      0.50      0.46       300\n",
    "    weighted avg       0.70      0.84      0.76       300\n",
    "     samples avg       0.84      0.84      0.84       300"
   ]
  },
  {
   "cell_type": "markdown",
   "id": "15433a21",
   "metadata": {},
   "source": [
    "### Network model with 2 hidden layers - binary"
   ]
  },
  {
   "cell_type": "markdown",
   "id": "c98d7686",
   "metadata": {},
   "source": [
    "    precision    recall  f1-score   support\n",
    "\n",
    "           0       0.00      0.00      0.00        57\n",
    "           1       0.95      1.00      0.97      1075\n",
    "\n",
    "       micro avg       0.95      0.95      0.95      1132\n",
    "       macro avg       0.47      0.50      0.49      1132\n",
    "       \n",
    "        precision    recall  f1-score   support\n",
    "\n",
    "           0       0.00      0.00      0.00        56\n",
    "           1       0.81      1.00      0.90       244\n",
    "\n",
    "       micro avg       0.81      0.81      0.81       300\n",
    "       macro avg       0.41      0.50      0.45       300\n"
   ]
  },
  {
   "cell_type": "markdown",
   "id": "ce8b2573",
   "metadata": {},
   "source": [
    "### grid search to find best params in binary model"
   ]
  },
  {
   "cell_type": "markdown",
   "id": "a8520afd",
   "metadata": {},
   "source": [
    "precision    recall  f1-score   support\n",
    "\n",
    "           0       0.40      0.45      0.42        49\n",
    "           1       0.89      0.86      0.87       251\n",
    "\n",
    "     micro avg       0.80      0.79      0.79       300\n",
    "     macro avg       0.64      0.65      0.65       300"
   ]
  },
  {
   "cell_type": "markdown",
   "id": "8f9cbada",
   "metadata": {},
   "source": [
    "### L2 reg."
   ]
  },
  {
   "cell_type": "markdown",
   "id": "be373d8b",
   "metadata": {},
   "source": [
    "    precision    recall  f1-score   support\n",
    "\n",
    "           0       0.00      0.00      0.00        57\n",
    "           1       0.95      1.00      0.97      1075\n",
    "\n",
    "       micro avg       0.95      0.95      0.95      1132\n",
    "       macro avg       0.47      0.50      0.49      1132\n",
    "       \n",
    "        precision    recall  f1-score   support\n",
    "\n",
    "           0       0.33      0.41      0.37        49\n",
    "           1       0.88      0.84      0.86       251\n",
    "\n",
    "     micro avg       0.77      0.77      0.77       300\n",
    "     macro avg       0.61      0.62      0.61       300"
   ]
  },
  {
   "cell_type": "markdown",
   "id": "ca535b2c",
   "metadata": {},
   "source": [
    "### L1 reg"
   ]
  },
  {
   "cell_type": "markdown",
   "id": "960970cc",
   "metadata": {},
   "source": [
    "    precision    recall  f1-score   support\n",
    "\n",
    "           0       0.00      0.00      0.00        57\n",
    "           1       0.95      1.00      0.97      1075\n",
    "\n",
    "       micro avg       0.95      0.95      0.95      1132\n",
    "       macro avg       0.47      0.50      0.49      1132\n",
    "       \n",
    "        precision    recall  f1-score   support\n",
    "\n",
    "           0       0.00      0.00      0.00        49\n",
    "           1       0.84      1.00      0.91       251\n",
    "\n",
    "    micro avg       0.84      0.84      0.84       300\n",
    "    macro avg       0.42      0.50      0.46       300\n"
   ]
  },
  {
   "cell_type": "markdown",
   "id": "c6763058",
   "metadata": {},
   "source": [
    "### dropout reg"
   ]
  },
  {
   "cell_type": "markdown",
   "id": "20564fc8",
   "metadata": {},
   "source": [
    "    precision    recall  f1-score   support\n",
    "\n",
    "           0       0.00      0.00      0.00        57\n",
    "           1       0.95      1.00      0.97      1075\n",
    "\n",
    "       micro avg       0.95      0.95      0.95      1132\n",
    "       macro avg       0.47      0.50      0.49      1132\n",
    "       \n",
    "       precision    recall  f1-score   support\n",
    "\n",
    "           0       0.00      0.00      0.00        49\n",
    "           1       0.84      1.00      0.91       251\n",
    "\n",
    "    micro avg       0.84      0.84      0.84       300\n",
    "    macro avg       0.42      0.50      0.46       300"
   ]
  },
  {
   "cell_type": "markdown",
   "id": "7ddf545b",
   "metadata": {},
   "source": [
    "### Binary CNN model"
   ]
  },
  {
   "cell_type": "markdown",
   "id": "34dc0464",
   "metadata": {},
   "source": [
    "    precision    recall  f1-score   support\n",
    "\n",
    "           0       0.00      0.00      0.00        57\n",
    "           1       0.95      1.00      0.97      1075\n",
    "\n",
    "       micro avg       0.95      0.95      0.95      1132\n",
    "       macro avg       0.47      0.50      0.49      1132\n",
    "       \n",
    "       precision    recall  f1-score   support\n",
    "\n",
    "           0       0.25      0.02      0.04        49\n",
    "           1       0.84      0.99      0.91       251\n",
    "\n",
    "    micro avg       0.83      0.83      0.83       300\n",
    "    macro avg       0.54      0.50      0.47       300"
   ]
  },
  {
   "cell_type": "markdown",
   "id": "2c530f3b",
   "metadata": {},
   "source": [
    "# All data resnet model"
   ]
  },
  {
   "cell_type": "markdown",
   "id": "68de181b",
   "metadata": {},
   "source": [
    "    precision    recall  f1-score   support\n",
    "\n",
    "           0       0.30      0.10      0.15        89\n",
    "           1       0.49      0.46      0.47       286\n",
    "           2       0.00      0.00      0.00       151\n",
    "           3       0.62      0.01      0.03       540\n",
    "           4       0.12      0.12      0.12        66\n",
    "\n",
    "       micro avg       0.41      0.14      0.21      1132\n",
    "    macro avg       0.31      0.14      0.15      1132\n",
    "    \n",
    "    \n",
    "     precision    recall  f1-score   support\n",
    "\n",
    "           0       0.26      0.87      0.40        55\n",
    "           1       0.28      0.82      0.42        61\n",
    "           2       0.32      0.75      0.45        69\n",
    "           3       0.40      0.94      0.56        66\n",
    "           4       0.34      0.92      0.49        49\n",
    "\n",
    "    micro avg       0.32      0.86      0.46       300\n",
    "    macro avg       0.32      0.86      0.46       300"
   ]
  },
  {
   "cell_type": "markdown",
   "id": "f49cd336",
   "metadata": {},
   "source": [
    "# pretrained binary model"
   ]
  },
  {
   "cell_type": "markdown",
   "id": "678abddc",
   "metadata": {},
   "source": [
    "    precision    recall  f1-score   support\n",
    "\n",
    "           0       0.16      0.24      0.19        66\n",
    "           1       0.95      0.97      0.96      1066\n",
    "\n",
    "       micro avg       0.88      0.92      0.90      1132\n",
    "       macro avg       0.55      0.60      0.57      1132\n",
    "    weighted avg       0.90      0.92      0.91      1132\n",
    "     samples avg       0.89      0.92      0.90      1132        \n",
    "     \n",
    "     \n",
    "     precision    recall  f1-score   support\n",
    "\n",
    "           0       0.67      0.57      0.62        49\n",
    "           1       0.89      0.94      0.92       251\n",
    "\n",
    "    micro avg       0.86      0.88      0.87       300\n",
    "    macro avg       0.78      0.76      0.77       300"
   ]
  }
 ],
 "metadata": {
  "kernelspec": {
   "display_name": "Python 3 (ipykernel)",
   "language": "python",
   "name": "python3"
  },
  "language_info": {
   "codemirror_mode": {
    "name": "ipython",
    "version": 3
   },
   "file_extension": ".py",
   "mimetype": "text/x-python",
   "name": "python",
   "nbconvert_exporter": "python",
   "pygments_lexer": "ipython3",
   "version": "3.9.13"
  }
 },
 "nbformat": 4,
 "nbformat_minor": 5
}
