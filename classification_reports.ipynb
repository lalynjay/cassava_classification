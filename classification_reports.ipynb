{
 "cells": [
  {
   "cell_type": "markdown",
   "id": "e2eb3f9f",
   "metadata": {},
   "source": [
    "# Classification reports"
   ]
  },
  {
   "cell_type": "markdown",
   "id": "84b64ce1",
   "metadata": {},
   "source": [
    "## full dataset models - 64 x 64 pixels"
   ]
  },
  {
   "cell_type": "markdown",
   "id": "9a633ae5",
   "metadata": {},
   "source": [
    "### Basic neural network model"
   ]
  },
  {
   "cell_type": "markdown",
   "id": "20e5cb87",
   "metadata": {},
   "source": [
    " precision    recall  f1-score   support\n",
    "\n",
    "           0       0.00      0.00      0.00       103\n",
    "           1       0.43      0.54      0.48       268\n",
    "           2       0.29      0.06      0.10       159\n",
    "           3       0.58      0.82      0.68       536\n",
    "           4       0.25      0.02      0.03        66\n",
    "\n",
    "    accuracy                           0.53      1132\n",
    "    \n",
    "    macro avg     0.31      0.29      0.26      1132\n",
    "   \n",
    "    weighted avg  0.43      0.53      0.45      1132"
   ]
  },
  {
   "cell_type": "markdown",
   "id": "832b4a48",
   "metadata": {},
   "source": [
    "### Neural network with 1 hidden layer"
   ]
  },
  {
   "cell_type": "markdown",
   "id": "a16a2c08",
   "metadata": {},
   "source": [
    "       precision    recall  f1-score   support\n",
    "\n",
    "           0       0.28      0.07      0.11        97\n",
    "           1       0.42      0.55      0.48       287\n",
    "           2       0.18      0.02      0.03       165\n",
    "           3       0.56      0.76      0.64       526\n",
    "           4       0.00      0.00      0.00        57\n",
    "\n",
    "    accuracy                           0.50      1132\n",
    "    macro avg       0.29      0.28      0.25      1132\n",
    "    weighted avg       0.42      0.50      0.43      1132"
   ]
  },
  {
   "cell_type": "markdown",
   "id": "97f49a85",
   "metadata": {},
   "source": [
    "### Neural nettwork model with 2 hidden layers"
   ]
  },
  {
   "cell_type": "markdown",
   "id": "cb66121c",
   "metadata": {},
   "source": [
    "precision    recall  f1-score   support\n",
    "\n",
    "           0       0.28      0.07      0.11        97\n",
    "           1       0.42      0.55      0.48       287\n",
    "           2       0.18      0.02      0.03       165\n",
    "           3       0.56      0.76      0.64       526\n",
    "           4       0.00      0.00      0.00        57\n",
    "\n",
    "    accuracy                           0.50      1132\n",
    "    macro avg       0.29      0.28      0.25      1132\n",
    "    weighted avg       0.42      0.50      0.43      1132"
   ]
  },
  {
   "cell_type": "markdown",
   "id": "7d856b87",
   "metadata": {},
   "source": [
    "### Grid search to find optimal parameters"
   ]
  },
  {
   "cell_type": "markdown",
   "id": "89559de3",
   "metadata": {},
   "source": []
  },
  {
   "cell_type": "markdown",
   "id": "8d28ef64",
   "metadata": {},
   "source": [
    "### Neural Network model with L2 regularization"
   ]
  },
  {
   "cell_type": "markdown",
   "id": "f60c61f1",
   "metadata": {},
   "source": [
    " precision    recall  f1-score   support\n",
    "\n",
    "           0       0.28      0.07      0.11        97\n",
    "           1       0.42      0.55      0.48       287\n",
    "           2       0.18      0.02      0.03       165\n",
    "           3       0.56      0.76      0.64       526\n",
    "           4       0.00      0.00      0.00        57\n",
    "\n",
    "    accuracy                           0.50      1132\n",
    "    macro avg       0.29      0.28      0.25      1132\n",
    "    weighted avg       0.42      0.50      0.43      1132"
   ]
  },
  {
   "cell_type": "markdown",
   "id": "38d81cbb",
   "metadata": {},
   "source": [
    "### Neural network model with L1 regularization"
   ]
  },
  {
   "cell_type": "markdown",
   "id": "f127e3b8",
   "metadata": {},
   "source": [
    "precision    recall  f1-score   support\n",
    "\n",
    "           0       0.28      0.07      0.11        97\n",
    "           1       0.42      0.55      0.48       287\n",
    "           2       0.18      0.02      0.03       165\n",
    "           3       0.56      0.76      0.64       526\n",
    "           4       0.00      0.00      0.00        57\n",
    "\n",
    "    accuracy                           0.50      1132\n",
    "    macro avg       0.29      0.28      0.25      1132\n",
    "    weighted avg       0.42      0.50      0.43      1132"
   ]
  },
  {
   "cell_type": "markdown",
   "id": "0773ce93",
   "metadata": {},
   "source": [
    "### Neural network with dropout regularization"
   ]
  },
  {
   "cell_type": "markdown",
   "id": "696aaba0",
   "metadata": {},
   "source": [
    "precision    recall  f1-score   support\n",
    "\n",
    "           0       0.28      0.07      0.11        97\n",
    "           1       0.42      0.55      0.48       287\n",
    "           2       0.18      0.02      0.03       165\n",
    "           3       0.56      0.76      0.64       526\n",
    "           4       0.00      0.00      0.00        57\n",
    "\n",
    "    accuracy                           0.50      1132\n",
    "    macro avg       0.29      0.28      0.25      1132\n",
    "    weighted avg       0.42      0.50      0.43      1132"
   ]
  },
  {
   "cell_type": "markdown",
   "id": "20dda660",
   "metadata": {},
   "source": [
    "### Convoluted Neural Network (CNN) model"
   ]
  },
  {
   "cell_type": "markdown",
   "id": "b3efd359",
   "metadata": {},
   "source": []
  },
  {
   "cell_type": "markdown",
   "id": "8ce48706",
   "metadata": {},
   "source": []
  },
  {
   "cell_type": "markdown",
   "id": "304877fe",
   "metadata": {},
   "source": [
    "# Binary classification"
   ]
  },
  {
   "cell_type": "markdown",
   "id": "991d95ff",
   "metadata": {},
   "source": []
  },
  {
   "cell_type": "markdown",
   "id": "0b2d3e6a",
   "metadata": {},
   "source": [
    "### basic network binary"
   ]
  },
  {
   "cell_type": "markdown",
   "id": "021ead94",
   "metadata": {},
   "source": [
    "    precision    recall  f1-score   support\n",
    "\n",
    "    0       0.00      0.00      0.00        57\n",
    "    1       0.95      1.00      0.97      1075\n",
    "\n",
    "    micro avg       0.95      0.95      0.95      1132\n",
    "    macro avg       0.47      0.50      0.49      1132\n"
   ]
  },
  {
   "cell_type": "markdown",
   "id": "ab700867",
   "metadata": {},
   "source": [
    "### Network with 1 hidden layer- binary"
   ]
  },
  {
   "cell_type": "markdown",
   "id": "6a725729",
   "metadata": {},
   "source": [
    "    precision    recall  f1-score   support\n",
    "\n",
    "           0       0.00      0.00      0.00        57\n",
    "           1       0.95      1.00      0.97      1075\n",
    "\n",
    "       micro avg       0.95      0.95      0.95      1132\n",
    "       macro avg       0.47      0.50      0.49      1132"
   ]
  },
  {
   "cell_type": "markdown",
   "id": "15433a21",
   "metadata": {},
   "source": [
    "### Network model with 2 hidden layers - binary"
   ]
  },
  {
   "cell_type": "markdown",
   "id": "e45bcca3",
   "metadata": {},
   "source": [
    "    precision    recall  f1-score   support\n",
    "\n",
    "           0       0.00      0.00      0.00        57\n",
    "           1       0.95      1.00      0.97      1075\n",
    "\n",
    "       micro avg       0.95      0.95      0.95      1132\n",
    "       macro avg       0.47      0.50      0.49      1132"
   ]
  },
  {
   "cell_type": "markdown",
   "id": "ce8b2573",
   "metadata": {},
   "source": [
    "### grid search to find best params in binary model"
   ]
  },
  {
   "cell_type": "markdown",
   "id": "3fca64dc",
   "metadata": {},
   "source": []
  },
  {
   "cell_type": "markdown",
   "id": "8f9cbada",
   "metadata": {},
   "source": [
    "### L2 reg."
   ]
  },
  {
   "cell_type": "markdown",
   "id": "84a68709",
   "metadata": {},
   "source": [
    "    precision    recall  f1-score   support\n",
    "\n",
    "           0       0.00      0.00      0.00        57\n",
    "           1       0.95      1.00      0.97      1075\n",
    "\n",
    "       micro avg       0.95      0.95      0.95      1132\n",
    "       macro avg       0.47      0.50      0.49      1132"
   ]
  },
  {
   "cell_type": "markdown",
   "id": "ca535b2c",
   "metadata": {},
   "source": [
    "### L1 reg"
   ]
  },
  {
   "cell_type": "markdown",
   "id": "83edabdc",
   "metadata": {},
   "source": [
    "    precision    recall  f1-score   support\n",
    "\n",
    "           0       0.00      0.00      0.00        57\n",
    "           1       0.95      1.00      0.97      1075\n",
    "\n",
    "       micro avg       0.95      0.95      0.95      1132\n",
    "       macro avg       0.47      0.50      0.49      1132"
   ]
  },
  {
   "cell_type": "markdown",
   "id": "c6763058",
   "metadata": {},
   "source": [
    "### dropout reg"
   ]
  },
  {
   "cell_type": "markdown",
   "id": "1860f76d",
   "metadata": {},
   "source": [
    "    precision    recall  f1-score   support\n",
    "\n",
    "           0       0.00      0.00      0.00        57\n",
    "           1       0.95      1.00      0.97      1075\n",
    "\n",
    "       micro avg       0.95      0.95      0.95      1132\n",
    "       macro avg       0.47      0.50      0.49      1132"
   ]
  },
  {
   "cell_type": "markdown",
   "id": "7ddf545b",
   "metadata": {},
   "source": [
    "### Binary CNN model"
   ]
  },
  {
   "cell_type": "markdown",
   "id": "eec33ae5",
   "metadata": {},
   "source": [
    "    precision    recall  f1-score   support\n",
    "\n",
    "           0       0.00      0.00      0.00        57\n",
    "           1       0.95      1.00      0.97      1075\n",
    "\n",
    "       micro avg       0.95      0.95      0.95      1132\n",
    "       macro avg       0.47      0.50      0.49      1132"
   ]
  },
  {
   "cell_type": "markdown",
   "id": "2c530f3b",
   "metadata": {},
   "source": [
    "# All data resnet model"
   ]
  },
  {
   "cell_type": "markdown",
   "id": "0092d275",
   "metadata": {},
   "source": [
    "    precision    recall  f1-score   support\n",
    "\n",
    "           0       0.30      0.10      0.15        89\n",
    "           1       0.49      0.46      0.47       286\n",
    "           2       0.00      0.00      0.00       151\n",
    "           3       0.62      0.01      0.03       540\n",
    "           4       0.12      0.12      0.12        66\n",
    "\n",
    "       micro avg       0.41      0.14      0.21      1132\n",
    "       macro avg       0.31      0.14      0.15      1132"
   ]
  },
  {
   "cell_type": "markdown",
   "id": "f49cd336",
   "metadata": {},
   "source": [
    "# pretrained binary model"
   ]
  },
  {
   "cell_type": "markdown",
   "id": "b190dd94",
   "metadata": {},
   "source": [
    "    precision    recall  f1-score   support\n",
    "\n",
    "           0       0.16      0.24      0.19        66\n",
    "           1       0.95      0.97      0.96      1066\n",
    "\n",
    "       micro avg       0.88      0.92      0.90      1132\n",
    "       macro avg       0.55      0.60      0.57      1132\n",
    "    weighted avg       0.90      0.92      0.91      1132\n",
    "     samples avg       0.89      0.92      0.90      1132"
   ]
  },
  {
   "cell_type": "markdown",
   "id": "c70eaac3",
   "metadata": {},
   "source": []
  },
  {
   "cell_type": "markdown",
   "id": "4153db32",
   "metadata": {},
   "source": []
  },
  {
   "cell_type": "markdown",
   "id": "10e8e06a",
   "metadata": {},
   "source": []
  },
  {
   "cell_type": "markdown",
   "id": "963c70bb",
   "metadata": {},
   "source": []
  },
  {
   "cell_type": "markdown",
   "id": "f7da259b",
   "metadata": {},
   "source": []
  }
 ],
 "metadata": {
  "kernelspec": {
   "display_name": "Python 3 (ipykernel)",
   "language": "python",
   "name": "python3"
  },
  "language_info": {
   "codemirror_mode": {
    "name": "ipython",
    "version": 3
   },
   "file_extension": ".py",
   "mimetype": "text/x-python",
   "name": "python",
   "nbconvert_exporter": "python",
   "pygments_lexer": "ipython3",
   "version": "3.9.13"
  }
 },
 "nbformat": 4,
 "nbformat_minor": 5
}
