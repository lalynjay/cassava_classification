{
 "cells": [
  {
   "cell_type": "markdown",
   "id": "4eb8bfca",
   "metadata": {},
   "source": [
    "\n",
    "# Cassava Leaf Disease Detection\n",
    "\n",
    "\n",
    "## Using Neural Network Models to Identify Diseased Plants\n",
    "\n",
    "### Lynn Anderson\n",
    "\n",
    "\n",
    "# Overview\n",
    "\n",
    "The objective of this project was to build a neural network classification model  that can accurately identify diseased cassava plants. Cassava roots are an important source of calories and nutrition for many people, especially in\n",
    "sub-Saharan Africa. As the human population increases, it is increasingly important to prioritize\n",
    "crop health, as fertile land is finite and precious. Identifying diseased plants and appropriately\n",
    "treating them in a timely manner is important to ensure adequate yields. \n",
    "\n",
    "In this project, models were trained on labelled images with the goal that, when given an image of a Cassava plant, could accurately classify it as healthy or diseased. Initially, multiclass classification models were investigated, with the aim of the model being able to identify the specific disease condition if the plant was not healthy. However, model performance was very unreliable, thus a binary classification systems was used to identify a plant as either healthy or diseased. A basic neural network was the baseline model, with models consisting of different numbers of hidden layers, and different regularization techniques examined. CNN models and Pre-trained networks were then trained and evaluated, since the basic neural network models were all unsatisfactory. Precision, recall, and F-1 score of the test data used to evaluate overall model performance.\n",
    "\n",
    "# Business Understanding\n",
    "\n",
    "An agricultural company specializing in treating plant diseases is seeking to implement a model to identify diseased Cassava plants. It is important they can accurately identify plants in need of treatment and determine the best solutions for their customers. However, it is time consuming for the team of plant experts to manually go through images from farmers, and would be much more time efficient to automate the process of identifying diseased cassava plants. \n",
    "\n",
    "\n",
    "# Data \n",
    "\n",
    "The data for this project was sourced  from the Kaggle Cassava Disease dataset- https://www.kaggle.com/c/cassava-disease/overview. \n",
    "\n",
    "The data consisted of leaf images for the cassava plant belonging to one of 5 classes- healthy or four disease\n",
    "conditions- Cassava Mosaic Disease (CMD), Cassava Bacterial Blight (CBB), Cassava Greem Mite (CGM), and Cassava Brown Streak Disease (CBSD). There were a total of 5,656 labelled images in the dataset. The number of images per class were heavily unbalanced, with two disease classes- CMD and CBSD- representing 72% of the images, and healthy plants only made up 5% of the dataset.\n",
    "\n",
    "Due to challenges with very poor performance and long run times and resource usage when training models with the full dataset, a smaller dataset consisting of 1,200 images (300 from each class) was initially used, with the most performant models then investigated on the full dataset. Images were split into training and test sets to validate model performance. \n"
   ]
  },
  {
   "cell_type": "markdown",
   "id": "7d9a7307",
   "metadata": {},
   "source": [
    "# Data Preparation\n",
    "\n",
    "To prepare the data for modeling, the raw data files first needed to be unzipped. Then, they were augumented, preprocessed, and (for basic NN models) reshaped as needed for neural network modeling. Lastly, a dataset for binary classification was develpoed."
   ]
  },
  {
   "cell_type": "markdown",
   "id": "a5cbf3a3",
   "metadata": {},
   "source": [
    "*install the following libraries*"
   ]
  },
  {
   "cell_type": "code",
   "execution_count": 1,
   "id": "948a99f6",
   "metadata": {},
   "outputs": [],
   "source": [
    "# uncomment and run to install\n",
    "\n",
    "#pip install tensorflow-datasets\n",
    "#pip install tensorflow\n",
    "#pip install scikeras\n",
    "#pip install keras\n",
    "#pip install lime"
   ]
  },
  {
   "cell_type": "code",
   "execution_count": 28,
   "id": "1e248e14",
   "metadata": {},
   "outputs": [],
   "source": [
    "# imports\n",
    "import pandas as pd\n",
    "import os\n",
    "import numpy as np\n",
    "import seaborn as sns\n",
    "import tensorflow as tf\n",
    "import tensorflow.keras as keras\n",
    "import matplotlib.pyplot as plt\n",
    "from keras import layers\n",
    "from keras import models\n",
    "from keras import regularizers\n",
    "from keras import optimizers\n",
    "from keras.preprocessing.image import ImageDataGenerator\n",
    "from tensorflow.keras.utils import array_to_img, img_to_array, load_img\n",
    "from sklearn.model_selection import train_test_split, GridSearchCV, cross_val_predict\n",
    "from sklearn.preprocessing import StandardScaler, OneHotEncoder, LabelBinarizer\n",
    "from sklearn.metrics import mean_squared_error\n",
    "from scikeras.wrappers import KerasClassifier, KerasRegressor\n",
    "from sklearn.metrics import classification_report, confusion_matrix, ConfusionMatrixDisplay\n",
    "import PIL.Image as Image\n",
    "from keras.applications import ResNet50V2 \n",
    "import lime\n",
    "import warnings\n",
    "warnings.simplefilter(\"ignore\")\n",
    "\n",
    "%matplotlib inline\n"
   ]
  },
  {
   "cell_type": "markdown",
   "id": "cbfbf1c6",
   "metadata": {},
   "source": [
    "### Function to visualize model performance\n",
    "\n",
    "This function plots the accuracy of both training and validation data across the number of epochs."
   ]
  },
  {
   "cell_type": "code",
   "execution_count": 29,
   "id": "b5c533bc",
   "metadata": {},
   "outputs": [],
   "source": [
    "def visualize_training_results(results):\n",
    "    \n",
    "    history = results.history\n",
    "    \n",
    "    plt.figure(figsize=(5, 3))\n",
    "    plt.plot(history['val_acc'])\n",
    "    plt.plot(history['acc'])\n",
    "    plt.legend(['val_acc', 'acc'])\n",
    "    plt.title('Accuracy')\n",
    "    plt.xlabel('Epochs')\n",
    "    plt.ylabel('Accuracy')\n",
    "    plt.show()\n"
   ]
  },
  {
   "cell_type": "markdown",
   "id": "5e6e0ebb",
   "metadata": {},
   "source": [
    "### preview files"
   ]
  },
  {
   "cell_type": "code",
   "execution_count": 30,
   "id": "f95e0051",
   "metadata": {},
   "outputs": [
    {
     "data": {
      "text/plain": [
       "['cassava-disease.zip',\n",
       " 'extraimages.zip',\n",
       " 'random.txt',\n",
       " 'sample_submission_file.csv',\n",
       " 'short',\n",
       " 'test',\n",
       " 'test.zip',\n",
       " 'train',\n",
       " 'train.zip']"
      ]
     },
     "execution_count": 30,
     "metadata": {},
     "output_type": "execute_result"
    }
   ],
   "source": [
    "os.listdir('./data')"
   ]
  },
  {
   "cell_type": "markdown",
   "id": "6bf7111f",
   "metadata": {},
   "source": [
    "##  ***run to unzip files***\n",
    "\n",
    "run the following cells to unzip the files "
   ]
  },
  {
   "cell_type": "markdown",
   "id": "27dcc94b",
   "metadata": {},
   "source": [
    "#### unzip the Cassava Disease file"
   ]
  },
  {
   "cell_type": "code",
   "execution_count": 31,
   "id": "a60b376e",
   "metadata": {},
   "outputs": [],
   "source": [
    "from zipfile import ZipFile\n",
    "  \n",
    "# loading the temp.zip and creating a zip object\n",
    "with ZipFile(\"data/cassava-disease.zip\", 'r') as zObject:\n",
    "  \n",
    "    # Extracting all the members of the zip \n",
    "    # into a specific location.\n",
    "    zObject.extractall(\n",
    "        path='./data')"
   ]
  },
  {
   "cell_type": "markdown",
   "id": "af5d9108",
   "metadata": {},
   "source": [
    "#### unzip test folder"
   ]
  },
  {
   "cell_type": "code",
   "execution_count": 6,
   "id": "edbfb3b6",
   "metadata": {},
   "outputs": [],
   "source": [
    "with ZipFile(\"data/test.zip\", 'r') as zObject:\n",
    "  \n",
    "    # Extracting all the members of the zip \n",
    "    # into a specific location.\n",
    "    zObject.extractall(\n",
    "        path='./data')"
   ]
  },
  {
   "cell_type": "markdown",
   "id": "e3f48237",
   "metadata": {},
   "source": [
    "#### unzip train folder"
   ]
  },
  {
   "cell_type": "code",
   "execution_count": 7,
   "id": "3924b4fe",
   "metadata": {},
   "outputs": [],
   "source": [
    "with ZipFile(\"data/train.zip\", 'r') as zObject:\n",
    "  \n",
    "    # Extracting all the members of the zip \n",
    "    # into a specific location.\n",
    "    zObject.extractall(\n",
    "        path='./data')"
   ]
  },
  {
   "cell_type": "markdown",
   "id": "f1aea7a2",
   "metadata": {},
   "source": [
    "#### preview files"
   ]
  },
  {
   "cell_type": "code",
   "execution_count": 8,
   "id": "885f3efc",
   "metadata": {},
   "outputs": [
    {
     "name": "stdout",
     "output_type": "stream",
     "text": [
      "['cassava-disease.zip', 'extraimages.zip', 'random.txt', 'sample_submission_file.csv', 'short', 'test', 'test.zip', 'train', 'train.zip']\n"
     ]
    }
   ],
   "source": [
    "print(os.listdir(\"./data\"))"
   ]
  },
  {
   "cell_type": "markdown",
   "id": "58958256",
   "metadata": {},
   "source": [
    "## ***Resume here if files are unzipped***"
   ]
  },
  {
   "cell_type": "markdown",
   "id": "80aec67d",
   "metadata": {},
   "source": [
    "### preview train folder"
   ]
  },
  {
   "cell_type": "code",
   "execution_count": 9,
   "id": "86141c88",
   "metadata": {},
   "outputs": [
    {
     "name": "stdout",
     "output_type": "stream",
     "text": [
      "['cbb', 'cbsd', 'cgm', 'cmd', 'healthy']\n",
      "(5,)\n"
     ]
    }
   ],
   "source": [
    "print(os.listdir(\"./data/train\"))\n",
    "print(np.shape(os.listdir(\"./data/train\")))"
   ]
  },
  {
   "cell_type": "markdown",
   "id": "ec5979b5",
   "metadata": {},
   "source": [
    "There are 5 files in the train folder, one for each class."
   ]
  },
  {
   "cell_type": "code",
   "execution_count": 10,
   "id": "6725ef3d",
   "metadata": {},
   "outputs": [
    {
     "name": "stdout",
     "output_type": "stream",
     "text": [
      "['train-cbb-0.jpg', 'train-cbb-1.jpg', 'train-cbb-10.jpg', 'train-cbb-100.jpg', 'train-cbb-101.jpg']\n",
      "(300,)\n",
      "['train-cbsd-0.jpg', 'train-cbsd-1.jpg', 'train-cbsd-10.jpg', 'train-cbsd-100.jpg', 'train-cbsd-101.jpg']\n",
      "(300,)\n",
      "['train-cgm-0.jpg', 'train-cgm-1.jpg', 'train-cgm-10.jpg', 'train-cgm-100.jpg', 'train-cgm-101.jpg']\n",
      "(300,)\n",
      "['train-cmd-0.jpg', 'train-cmd-1.jpg', 'train-cmd-10.jpg', 'train-cmd-100.jpg', 'train-cmd-101.jpg']\n",
      "(300,)\n",
      "['train-healthy-0.jpg', 'train-healthy-1.jpg', 'train-healthy-10.jpg', 'train-healthy-100.jpg', 'train-healthy-101.jpg']\n",
      "(300,)\n"
     ]
    }
   ],
   "source": [
    "# preview image names and counts\n",
    "for sub in os.listdir(\"./data/short\"):\n",
    "    print(os.listdir(\"./data/short/\" + sub)[:5])\n",
    "    print(np.shape(os.listdir(\"./data/short/\" + sub)))"
   ]
  },
  {
   "cell_type": "markdown",
   "id": "93d37622",
   "metadata": {},
   "source": [
    "Each subdirectory contains its respective class of images in a jpg format."
   ]
  },
  {
   "cell_type": "code",
   "execution_count": 11,
   "id": "43ad88dd",
   "metadata": {},
   "outputs": [
    {
     "name": "stdout",
     "output_type": "stream",
     "text": [
      "['0']\n",
      "(1,)\n"
     ]
    }
   ],
   "source": [
    "# preview structure of test folder\n",
    "print(os.listdir(\"./data/test\"))\n",
    "print(np.shape(os.listdir(\"./data/test\")))"
   ]
  },
  {
   "cell_type": "markdown",
   "id": "3f268347",
   "metadata": {},
   "source": [
    "The data in the test directory is not labelled and was used for a competion. I will not be using it in this project, and instead conduct train-test splits in order to validate model performance."
   ]
  },
  {
   "cell_type": "markdown",
   "id": "22fcb140",
   "metadata": {},
   "source": [
    "### Preprocess images"
   ]
  },
  {
   "cell_type": "code",
   "execution_count": 32,
   "id": "9ca3c1a5",
   "metadata": {},
   "outputs": [
    {
     "name": "stdout",
     "output_type": "stream",
     "text": [
      "Found 1500 images belonging to 5 classes.\n"
     ]
    }
   ],
   "source": [
    "# augments and preprocesses images \n",
    "\n",
    "train_data_dir = 'data/short'\n",
    "\n",
    "# Get all the data in the directory data/short and reshape \n",
    "train_generator = ImageDataGenerator().flow_from_directory(\n",
    "        train_data_dir, \n",
    "        target_size=(128, 128), batch_size=1500)\n",
    "\n",
    "# Create the datasets\n",
    "train_images, y_train = next(train_generator)\n"
   ]
  },
  {
   "cell_type": "markdown",
   "id": "1d566775",
   "metadata": {},
   "source": [
    "#### preview image labels"
   ]
  },
  {
   "cell_type": "code",
   "execution_count": 33,
   "id": "b919fa33",
   "metadata": {},
   "outputs": [
    {
     "data": {
      "text/plain": [
       "array([[0., 0., 0., 1., 0.],\n",
       "       [0., 0., 0., 0., 1.],\n",
       "       [0., 1., 0., 0., 0.],\n",
       "       ...,\n",
       "       [0., 0., 1., 0., 0.],\n",
       "       [0., 0., 0., 0., 1.],\n",
       "       [0., 0., 0., 1., 0.]], dtype=float32)"
      ]
     },
     "execution_count": 33,
     "metadata": {},
     "output_type": "execute_result"
    }
   ],
   "source": [
    "y_train"
   ]
  },
  {
   "cell_type": "markdown",
   "id": "19de22c3",
   "metadata": {},
   "source": [
    "The labels are already in a format suited for modeling."
   ]
  },
  {
   "cell_type": "code",
   "execution_count": 34,
   "id": "10fb2f9f",
   "metadata": {},
   "outputs": [
    {
     "name": "stdout",
     "output_type": "stream",
     "text": [
      "(1500, 128, 128, 3)\n",
      "(1500, 5)\n"
     ]
    }
   ],
   "source": [
    "# preview shape\n",
    "print(np.shape(train_images))\n",
    "print(np.shape(y_train))"
   ]
  },
  {
   "cell_type": "markdown",
   "id": "26a01b13",
   "metadata": {},
   "source": [
    "### reshape images\n",
    "\n",
    "The images must be reshaped into a tensor before being input into a neural network model."
   ]
  },
  {
   "cell_type": "code",
   "execution_count": 60,
   "id": "367f1f21",
   "metadata": {},
   "outputs": [
    {
     "name": "stdout",
     "output_type": "stream",
     "text": [
      "(1500, 49152)\n"
     ]
    }
   ],
   "source": [
    "train_img_unrow = train_images.reshape(1500, -1)\n",
    "\n",
    "# Preview the shape of train_img_unrow\n",
    "print(np.shape(train_img_unrow))"
   ]
  },
  {
   "cell_type": "markdown",
   "id": "54c5135b",
   "metadata": {},
   "source": [
    "#### normalize pixel values"
   ]
  },
  {
   "cell_type": "code",
   "execution_count": 61,
   "id": "88b27d65",
   "metadata": {},
   "outputs": [],
   "source": [
    "train_img_unrow /= 255."
   ]
  },
  {
   "cell_type": "markdown",
   "id": "53210743",
   "metadata": {},
   "source": [
    "# Binary labeling\n",
    "\n",
    "Label the data as belonging to one of 2 classes, healthy or diseased. First, a dataframe was made from the dataset for easier manipulation."
   ]
  },
  {
   "cell_type": "code",
   "execution_count": 62,
   "id": "45d5cb0c",
   "metadata": {},
   "outputs": [
    {
     "data": {
      "text/html": [
       "<div>\n",
       "<style scoped>\n",
       "    .dataframe tbody tr th:only-of-type {\n",
       "        vertical-align: middle;\n",
       "    }\n",
       "\n",
       "    .dataframe tbody tr th {\n",
       "        vertical-align: top;\n",
       "    }\n",
       "\n",
       "    .dataframe thead th {\n",
       "        text-align: right;\n",
       "    }\n",
       "</style>\n",
       "<table border=\"1\" class=\"dataframe\">\n",
       "  <thead>\n",
       "    <tr style=\"text-align: right;\">\n",
       "      <th></th>\n",
       "      <th>0</th>\n",
       "      <th>1</th>\n",
       "      <th>2</th>\n",
       "      <th>3</th>\n",
       "      <th>4</th>\n",
       "    </tr>\n",
       "  </thead>\n",
       "  <tbody>\n",
       "    <tr>\n",
       "      <th>0</th>\n",
       "      <td>0.0</td>\n",
       "      <td>0.0</td>\n",
       "      <td>0.0</td>\n",
       "      <td>1.0</td>\n",
       "      <td>0.0</td>\n",
       "    </tr>\n",
       "    <tr>\n",
       "      <th>1</th>\n",
       "      <td>0.0</td>\n",
       "      <td>0.0</td>\n",
       "      <td>0.0</td>\n",
       "      <td>0.0</td>\n",
       "      <td>1.0</td>\n",
       "    </tr>\n",
       "    <tr>\n",
       "      <th>2</th>\n",
       "      <td>0.0</td>\n",
       "      <td>1.0</td>\n",
       "      <td>0.0</td>\n",
       "      <td>0.0</td>\n",
       "      <td>0.0</td>\n",
       "    </tr>\n",
       "    <tr>\n",
       "      <th>3</th>\n",
       "      <td>0.0</td>\n",
       "      <td>1.0</td>\n",
       "      <td>0.0</td>\n",
       "      <td>0.0</td>\n",
       "      <td>0.0</td>\n",
       "    </tr>\n",
       "    <tr>\n",
       "      <th>4</th>\n",
       "      <td>0.0</td>\n",
       "      <td>1.0</td>\n",
       "      <td>0.0</td>\n",
       "      <td>0.0</td>\n",
       "      <td>0.0</td>\n",
       "    </tr>\n",
       "  </tbody>\n",
       "</table>\n",
       "</div>"
      ],
      "text/plain": [
       "     0    1    2    3    4\n",
       "0  0.0  0.0  0.0  1.0  0.0\n",
       "1  0.0  0.0  0.0  0.0  1.0\n",
       "2  0.0  1.0  0.0  0.0  0.0\n",
       "3  0.0  1.0  0.0  0.0  0.0\n",
       "4  0.0  1.0  0.0  0.0  0.0"
      ]
     },
     "execution_count": 62,
     "metadata": {},
     "output_type": "execute_result"
    }
   ],
   "source": [
    "# make dataframe and preview\n",
    "df = pd.DataFrame(y_train)\n",
    "df.head()"
   ]
  },
  {
   "cell_type": "code",
   "execution_count": 63,
   "id": "8a7156ef",
   "metadata": {},
   "outputs": [
    {
     "data": {
      "text/html": [
       "<div>\n",
       "<style scoped>\n",
       "    .dataframe tbody tr th:only-of-type {\n",
       "        vertical-align: middle;\n",
       "    }\n",
       "\n",
       "    .dataframe tbody tr th {\n",
       "        vertical-align: top;\n",
       "    }\n",
       "\n",
       "    .dataframe thead th {\n",
       "        text-align: right;\n",
       "    }\n",
       "</style>\n",
       "<table border=\"1\" class=\"dataframe\">\n",
       "  <thead>\n",
       "    <tr style=\"text-align: right;\">\n",
       "      <th></th>\n",
       "      <th>0</th>\n",
       "      <th>1</th>\n",
       "      <th>2</th>\n",
       "      <th>3</th>\n",
       "      <th>4</th>\n",
       "      <th>Healthy</th>\n",
       "      <th>Diseased</th>\n",
       "    </tr>\n",
       "  </thead>\n",
       "  <tbody>\n",
       "    <tr>\n",
       "      <th>0</th>\n",
       "      <td>0.0</td>\n",
       "      <td>0.0</td>\n",
       "      <td>0.0</td>\n",
       "      <td>1.0</td>\n",
       "      <td>0.0</td>\n",
       "      <td>0.0</td>\n",
       "      <td>1.0</td>\n",
       "    </tr>\n",
       "    <tr>\n",
       "      <th>1</th>\n",
       "      <td>0.0</td>\n",
       "      <td>0.0</td>\n",
       "      <td>0.0</td>\n",
       "      <td>0.0</td>\n",
       "      <td>1.0</td>\n",
       "      <td>1.0</td>\n",
       "      <td>0.0</td>\n",
       "    </tr>\n",
       "    <tr>\n",
       "      <th>2</th>\n",
       "      <td>0.0</td>\n",
       "      <td>1.0</td>\n",
       "      <td>0.0</td>\n",
       "      <td>0.0</td>\n",
       "      <td>0.0</td>\n",
       "      <td>0.0</td>\n",
       "      <td>1.0</td>\n",
       "    </tr>\n",
       "    <tr>\n",
       "      <th>3</th>\n",
       "      <td>0.0</td>\n",
       "      <td>1.0</td>\n",
       "      <td>0.0</td>\n",
       "      <td>0.0</td>\n",
       "      <td>0.0</td>\n",
       "      <td>0.0</td>\n",
       "      <td>1.0</td>\n",
       "    </tr>\n",
       "    <tr>\n",
       "      <th>4</th>\n",
       "      <td>0.0</td>\n",
       "      <td>1.0</td>\n",
       "      <td>0.0</td>\n",
       "      <td>0.0</td>\n",
       "      <td>0.0</td>\n",
       "      <td>0.0</td>\n",
       "      <td>1.0</td>\n",
       "    </tr>\n",
       "  </tbody>\n",
       "</table>\n",
       "</div>"
      ],
      "text/plain": [
       "     0    1    2    3    4  Healthy  Diseased\n",
       "0  0.0  0.0  0.0  1.0  0.0      0.0       1.0\n",
       "1  0.0  0.0  0.0  0.0  1.0      1.0       0.0\n",
       "2  0.0  1.0  0.0  0.0  0.0      0.0       1.0\n",
       "3  0.0  1.0  0.0  0.0  0.0      0.0       1.0\n",
       "4  0.0  1.0  0.0  0.0  0.0      0.0       1.0"
      ]
     },
     "execution_count": 63,
     "metadata": {},
     "output_type": "execute_result"
    }
   ],
   "source": [
    "# add column for diseased and healthy\n",
    "df.loc[df[4]==1,\"Healthy\"]=1\n",
    "df.loc[df[4]==0,\"Healthy\"]=0\n",
    "df.loc[df[4]==1,\"Diseased\"]=0\n",
    "df.loc[df[4]==0,\"Diseased\"]=1\n",
    "df.head()"
   ]
  },
  {
   "cell_type": "code",
   "execution_count": 64,
   "id": "9fd8a23c",
   "metadata": {},
   "outputs": [
    {
     "data": {
      "text/html": [
       "<div>\n",
       "<style scoped>\n",
       "    .dataframe tbody tr th:only-of-type {\n",
       "        vertical-align: middle;\n",
       "    }\n",
       "\n",
       "    .dataframe tbody tr th {\n",
       "        vertical-align: top;\n",
       "    }\n",
       "\n",
       "    .dataframe thead th {\n",
       "        text-align: right;\n",
       "    }\n",
       "</style>\n",
       "<table border=\"1\" class=\"dataframe\">\n",
       "  <thead>\n",
       "    <tr style=\"text-align: right;\">\n",
       "      <th></th>\n",
       "      <th>Healthy</th>\n",
       "      <th>Diseased</th>\n",
       "    </tr>\n",
       "  </thead>\n",
       "  <tbody>\n",
       "    <tr>\n",
       "      <th>0</th>\n",
       "      <td>0.0</td>\n",
       "      <td>1.0</td>\n",
       "    </tr>\n",
       "    <tr>\n",
       "      <th>1</th>\n",
       "      <td>1.0</td>\n",
       "      <td>0.0</td>\n",
       "    </tr>\n",
       "    <tr>\n",
       "      <th>2</th>\n",
       "      <td>0.0</td>\n",
       "      <td>1.0</td>\n",
       "    </tr>\n",
       "    <tr>\n",
       "      <th>3</th>\n",
       "      <td>0.0</td>\n",
       "      <td>1.0</td>\n",
       "    </tr>\n",
       "    <tr>\n",
       "      <th>4</th>\n",
       "      <td>0.0</td>\n",
       "      <td>1.0</td>\n",
       "    </tr>\n",
       "  </tbody>\n",
       "</table>\n",
       "</div>"
      ],
      "text/plain": [
       "   Healthy  Diseased\n",
       "0      0.0       1.0\n",
       "1      1.0       0.0\n",
       "2      0.0       1.0\n",
       "3      0.0       1.0\n",
       "4      0.0       1.0"
      ]
     },
     "execution_count": 64,
     "metadata": {},
     "output_type": "execute_result"
    }
   ],
   "source": [
    "#drop other columns and preview\n",
    "df.drop([0, 1, 2, 3, 4], axis=1, inplace=True)\n",
    "df.head()"
   ]
  },
  {
   "cell_type": "code",
   "execution_count": 65,
   "id": "784fb22b",
   "metadata": {},
   "outputs": [
    {
     "data": {
      "text/plain": [
       "Healthy     0\n",
       "Diseased    0\n",
       "dtype: int64"
      ]
     },
     "execution_count": 65,
     "metadata": {},
     "output_type": "execute_result"
    }
   ],
   "source": [
    "# check for any null entries\n",
    "df.isnull().sum()"
   ]
  },
  {
   "cell_type": "code",
   "execution_count": 66,
   "id": "c9dba4ff",
   "metadata": {},
   "outputs": [
    {
     "data": {
      "text/plain": [
       "300.0"
      ]
     },
     "execution_count": 66,
     "metadata": {},
     "output_type": "execute_result"
    }
   ],
   "source": [
    "df['Healthy'].sum()\n"
   ]
  },
  {
   "cell_type": "code",
   "execution_count": 67,
   "id": "9a7bcdec",
   "metadata": {},
   "outputs": [
    {
     "data": {
      "text/plain": [
       "1200.0"
      ]
     },
     "execution_count": 67,
     "metadata": {},
     "output_type": "execute_result"
    }
   ],
   "source": [
    "df['Diseased'].sum()\n"
   ]
  },
  {
   "cell_type": "code",
   "execution_count": 68,
   "id": "fb4dd9b0",
   "metadata": {},
   "outputs": [
    {
     "data": {
      "image/png": "[encoded data removed]",
      "text/plain": [
       "<Figure size 640x480 with 1 Axes>"
      ]
     },
     "metadata": {},
     "output_type": "display_data"
    }
   ],
   "source": [
    "#visualize class imbalance\n",
    "df.sum().plot(kind='bar', xlabel='class', ylabel='count');"
   ]
  },
  {
   "cell_type": "markdown",
   "id": "4fca05f8",
   "metadata": {},
   "source": [
    "In this analysis, diseased plants outnumber healthy ones 4 to 1."
   ]
  },
  {
   "cell_type": "markdown",
   "id": "15212b27",
   "metadata": {},
   "source": [
    "# Modeling\n",
    "\n",
    "Initially, multiclass classification models were investigated, with the aim of accurately classifying plants as either healthy or identifying the specific disease. Due to unsatisfactory model performance, a binary classification system was then used to classify plants as either healthy or diseased. 10 different models for each classification system were looked at in total, with a summary of the models and scores below. For the full analysis with with every model, see \n",
    "[this notebook](https://github.com/lalynjay/cassava_classification/blob/main/Time_series_analysis.ipynb)  \n",
    "\n",
    "\n",
    "Then, a binary classification strategy was used to investigate models on classifying plants as either healthy or diseased. Rather than attempt to identify the specific disease using a neural network model, an important first step is to figure out if an image depict a plant that is healthy or diseased. Then, an expert, or perhaps more robust model, could accurately diagnose the specific disease condition. For this situation, minimizing false negatives is important, since a plant labelled as healthy when it is actually diseased would be detrimental to the customer, as their plants might go untreated would be the worst case. Thus, recall and F-1 score were used to evaluate model performance."
   ]
  },
  {
   "cell_type": "markdown",
   "id": "f293166b",
   "metadata": {},
   "source": [
    "# Multiclass summary\n",
    "\n",
    "| Model                  | Precision | Recall | F-1 Score |   |\n",
    "|------------------------|-----------|--------|-----------|---|\n",
    "| Basic Neural Network   | .23       | .27    | .15       |   |\n",
    "| 1 hidden layer         | .29       | .30    | .28       |   |\n",
    "| 2 hidden layer         | .03       | .20    | .06       |   |\n",
    "| Grid Search            | .31       | .28    | .22       |   |\n",
    "| L2 Regularization      | .35       | .35    | .29       |   |\n",
    "| L1 Regularization      | .04       | .20    | .06       |   |\n",
    "| Dropout Regularization | .03       | .20    | .06       |   |\n",
    "| CNN Model              | .38       | .59    | .41       |   |\n",
    "| ResNet50V2 Model       | .32       | .86    | .46       |   |\n",
    "| Full ResNet50V2        | .31       | .14    | .15       |   |\n",
    "|                        |           |        |           |   |\n",
    "\n",
    "# Binary summary\n",
    "\n",
    "| Model                  | Precision | Recall | F-1 Score |   |\n",
    "|------------------------|-----------|--------|-----------|---|\n",
    "| Basic Neural Network   | .70       | .54    | .54       |   |\n",
    "| 1 hidden layer         | .42       | .50    | .46       |   |\n",
    "| 2 hidden layer         | .41       | .50    | .45       |   |\n",
    "| Grid Search            | .64       | .65    | .65       |   |\n",
    "| L2 Regularization      | .61       | .62    | .61       |   |\n",
    "| L1 Regularization      | .42       | .50    | .46       |   |\n",
    "| Dropout Regularization | .42       | .50    | .46       |   |\n",
    "| CNN Model              | .54       | .50    | .47       |   |\n",
    "| ResNet50V2 Model       | .78       | .76    | .77       |   |\n",
    "| Full ResNet50V2        | .55       | .60    | .57       |   |\n",
    "|                        |           |        |           |   |\n",
    "\n"
   ]
  },
  {
   "cell_type": "markdown",
   "id": "cf83c899",
   "metadata": {},
   "source": [
    "## Multiclass Classification Models\n",
    "\n",
    "Among the multiclass classification models loked at, the CNN and pretrained ResNet models were the only models that demonstrated some competence- all others had F-1 scores below 0.3, and even the best model- the pretrained ResNet- had an F-1 score of .46. Thus, all models failed to satisfactorily classify the plants into the correct one of five categories it belonged to. \n",
    "\n",
    "Thw first two models in this notebook will demonstrate the multiclass classification model training and evaluation.\n"
   ]
  },
  {
   "cell_type": "markdown",
   "id": "20dda660",
   "metadata": {},
   "source": [
    "### Multiclass Convoluted Neural Network (CNN) model \n",
    "\n"
   ]
  },
  {
   "cell_type": "markdown",
   "id": "04376585",
   "metadata": {},
   "source": [
    "#### train-test split for CNN modeling"
   ]
  },
  {
   "cell_type": "code",
   "execution_count": 38,
   "id": "86341de7",
   "metadata": {},
   "outputs": [],
   "source": [
    "cnn_train, cnn_test, cnn_train_labels, cnn_test_labels= train_test_split(train_images, \n",
    "                                                                         y_train, \n",
    "                                                                         test_size=0.2, \n",
    "                                                                         random_state=42,\n",
    "                                                                         shuffle=True)"
   ]
  },
  {
   "cell_type": "code",
   "execution_count": 39,
   "id": "5e962169",
   "metadata": {},
   "outputs": [
    {
     "name": "stdout",
     "output_type": "stream",
     "text": [
      "WARNING:tensorflow:From C:\\Users\\lalyn\\anaconda3\\lib\\site-packages\\keras\\src\\optimizers\\__init__.py:309: The name tf.train.Optimizer is deprecated. Please use tf.compat.v1.train.Optimizer instead.\n",
      "\n",
      "Epoch 1/10\n",
      "75/75 [==============================] - 13s 145ms/step - loss: 1.6184 - acc: 0.2042 - auc: 0.4975 - val_loss: 1.6163 - val_acc: 0.2133 - val_auc: 0.5040\n",
      "Epoch 2/10\n",
      "75/75 [==============================] - 9s 123ms/step - loss: 1.6067 - acc: 0.2258 - auc: 0.5251 - val_loss: 1.6097 - val_acc: 0.2067 - val_auc: 0.5293\n",
      "Epoch 3/10\n",
      "75/75 [==============================] - 9s 115ms/step - loss: 1.6001 - acc: 0.2492 - auc: 0.5545 - val_loss: 1.6053 - val_acc: 0.2100 - val_auc: 0.5426\n",
      "Epoch 4/10\n",
      "75/75 [==============================] - 9s 114ms/step - loss: 1.5894 - acc: 0.2658 - auc: 0.5826 - val_loss: 1.5933 - val_acc: 0.2567 - val_auc: 0.5615\n",
      "Epoch 5/10\n",
      "75/75 [==============================] - 9s 121ms/step - loss: 1.5810 - acc: 0.2758 - auc: 0.5927 - val_loss: 1.5867 - val_acc: 0.2400 - val_auc: 0.5730\n",
      "Epoch 6/10\n",
      "75/75 [==============================] - 9s 122ms/step - loss: 1.5606 - acc: 0.2825 - auc: 0.6173 - val_loss: 1.5683 - val_acc: 0.3000 - val_auc: 0.6074\n",
      "Epoch 7/10\n",
      "75/75 [==============================] - 10s 130ms/step - loss: 1.5472 - acc: 0.2967 - auc: 0.6285 - val_loss: 1.5753 - val_acc: 0.2533 - val_auc: 0.5943\n",
      "Epoch 8/10\n",
      "75/75 [==============================] - 9s 126ms/step - loss: 1.5206 - acc: 0.3117 - auc: 0.6502 - val_loss: 1.5278 - val_acc: 0.3167 - val_auc: 0.6407\n",
      "Epoch 9/10\n",
      "75/75 [==============================] - 10s 134ms/step - loss: 1.5040 - acc: 0.3383 - auc: 0.6657 - val_loss: 1.5223 - val_acc: 0.3133 - val_auc: 0.6366\n",
      "Epoch 10/10\n",
      "75/75 [==============================] - 10s 130ms/step - loss: 1.4729 - acc: 0.3683 - auc: 0.6842 - val_loss: 1.4857 - val_acc: 0.3700 - val_auc: 0.6796\n"
     ]
    }
   ],
   "source": [
    "np.random.seed(42)\n",
    "cnn_model = models.Sequential()\n",
    "cnn_model.add(layers.Conv2D(32, (3, 3), activation='relu',\n",
    "                        input_shape=(128, 128, 3))) \n",
    "cnn_model.add(layers.MaxPooling2D((2, 2)))\n",
    "\n",
    "cnn_model.add(layers.Conv2D(32, (4, 4), activation='relu'))\n",
    "cnn_model.add(layers.MaxPooling2D((2, 2)))\n",
    "\n",
    "cnn_model.add(layers.Conv2D(64, (3, 3), activation='relu'))\n",
    "cnn_model.add(layers.MaxPooling2D((2, 2)))\n",
    "\n",
    "cnn_model.add(layers.Flatten())\n",
    "cnn_model.add(layers.Dense(64, activation='relu'))\n",
    "cnn_model.add(layers.Dense(5, activation='sigmoid'))\n",
    "\n",
    "cnn_model.compile(loss='categorical_crossentropy',\n",
    "              optimizer=\"sgd\",\n",
    "              metrics=['acc'])\n",
    "cnn_results = cnn_model.fit(cnn_train,\n",
    "                            cnn_train_labels, \n",
    "                            epochs=10,\n",
    "                            batch_size=16,\n",
    "                            validation_data=(cnn_test, cnn_test_labels))"
   ]
  },
  {
   "cell_type": "markdown",
   "id": "4aad35d1",
   "metadata": {},
   "source": [
    "### Evaluation"
   ]
  },
  {
   "cell_type": "code",
   "execution_count": 40,
   "id": "93c8b3fc",
   "metadata": {},
   "outputs": [
    {
     "name": "stdout",
     "output_type": "stream",
     "text": [
      "10/10 [==============================] - 1s 52ms/step\n"
     ]
    }
   ],
   "source": [
    "y_pred = cnn_model.predict(cnn_test)"
   ]
  },
  {
   "cell_type": "code",
   "execution_count": 41,
   "id": "7b1a2085",
   "metadata": {},
   "outputs": [
    {
     "name": "stdout",
     "output_type": "stream",
     "text": [
      "              precision    recall  f1-score   support\n",
      "\n",
      "           0       0.38      0.38      0.38        66\n",
      "           1       0.33      0.53      0.41        60\n",
      "           2       0.25      0.88      0.39        60\n",
      "           3       0.27      0.86      0.41        58\n",
      "           4       0.22      0.80      0.35        56\n",
      "\n",
      "   micro avg       0.27      0.68      0.39       300\n",
      "   macro avg       0.29      0.69      0.39       300\n",
      "weighted avg       0.30      0.68      0.39       300\n",
      " samples avg       0.28      0.68      0.39       300\n",
      "\n"
     ]
    }
   ],
   "source": [
    "print(classification_report(cnn_test_labels, np.round(y_pred)))"
   ]
  },
  {
   "cell_type": "code",
   "execution_count": 42,
   "id": "f5f9179e",
   "metadata": {
    "scrolled": true
   },
   "outputs": [
    {
     "data": {
      "image/png": "[encoded data removed]",
      "text/plain": [
       "<Figure size 500x300 with 1 Axes>"
      ]
     },
     "metadata": {},
     "output_type": "display_data"
    }
   ],
   "source": [
    "visualize_training_results(cnn_results)"
   ]
  },
  {
   "cell_type": "code",
   "execution_count": 43,
   "id": "afff8771",
   "metadata": {},
   "outputs": [
    {
     "data": {
      "image/png": "[encoded data removed]",
      "text/plain": [
       "<Figure size 640x480 with 2 Axes>"
      ]
     },
     "metadata": {},
     "output_type": "display_data"
    }
   ],
   "source": [
    "#confusion_matrix(y_test.values.argmax(axis=1), predictions.argmax(axis=1))\n",
    "\n",
    "cnf_matrix = confusion_matrix(cnn_test_labels.argmax(axis=1), y_pred.argmax(axis=1))\n",
    "disp = ConfusionMatrixDisplay(confusion_matrix=cnf_matrix)#, display_labels=all_cnn_test_labels)\n",
    "disp.plot(cmap=plt.cm.Blues);"
   ]
  },
  {
   "cell_type": "markdown",
   "id": "b0886463",
   "metadata": {},
   "source": [
    "The model was rather unreliable. "
   ]
  },
  {
   "cell_type": "markdown",
   "id": "f339663b",
   "metadata": {},
   "source": [
    "### Pretrained Multiclass ResNet Model"
   ]
  },
  {
   "cell_type": "markdown",
   "id": "3adc2e5f",
   "metadata": {},
   "source": [
    "Pre-trained models are pre-built machine learning models that have already been trained on large datasets, such as ImageNet or COCO. Such datasets often contain millions of images, which allows the models to learn a wide range of features and patterns. This makes them highly accurate and effective for a variety of tasks. Moreover, training a machine learning model from scratch can be a time-consuming process and by using pre-trained models, and typically much time and resources cab be saved by starting with a model that has already been trained.\n",
    "\n",
    "ResNet models were developed especially for image classification. ResNet-50 is a pretrained model Convolutional Neural Network(CNN) model. ResNet-50 is 50 layers deep and is trained on a million images of 1000 categories from the ImageNet database. \n",
    "\n",
    "Given the complexity of Resnet models compared to the previous ones, it was no surprise it performed better than all previous ones. "
   ]
  },
  {
   "cell_type": "markdown",
   "id": "3c7c0764",
   "metadata": {},
   "source": [
    "#### Instantiate and train Resnet model"
   ]
  },
  {
   "cell_type": "code",
   "execution_count": 21,
   "id": "fe6670f9",
   "metadata": {},
   "outputs": [],
   "source": [
    "from keras.applications import ResNet50V2"
   ]
  },
  {
   "cell_type": "code",
   "execution_count": 44,
   "id": "7b2824db",
   "metadata": {},
   "outputs": [],
   "source": [
    "# instantiate resnet\n",
    "resnet = ResNet50V2(weights='imagenet', \n",
    "                 include_top=False, \n",
    "                 input_shape=(128, 128, 3))"
   ]
  },
  {
   "cell_type": "code",
   "execution_count": 45,
   "id": "6d428efa",
   "metadata": {},
   "outputs": [],
   "source": [
    "#instantiate and train model \n",
    "np.random.seed(42)\n",
    "res_model = models.Sequential()\n",
    "res_model.add(resnet)\n",
    "res_model.add(layers.Flatten())\n",
    "res_model.add(layers.Dense(132, activation='relu'))\n",
    "res_model.add(layers.Dense(5, activation='sigmoid'))\n"
   ]
  },
  {
   "cell_type": "code",
   "execution_count": 46,
   "id": "4daa801b",
   "metadata": {},
   "outputs": [
    {
     "name": "stdout",
     "output_type": "stream",
     "text": [
      "resnet50v2 True\n",
      "flatten_3 True\n",
      "dense_6 True\n",
      "dense_7 True\n",
      "176\n"
     ]
    }
   ],
   "source": [
    "# preview trainable layers\n",
    "for layer in res_model.layers:\n",
    "    print(layer.name, layer.trainable)\n",
    "    \n",
    "# check how many trainable weights are in the model\n",
    "print(len(res_model.trainable_weights))"
   ]
  },
  {
   "cell_type": "code",
   "execution_count": 47,
   "id": "4eec6602",
   "metadata": {},
   "outputs": [],
   "source": [
    "# freeze resnet layer\n",
    "resnet.trainable = False"
   ]
  },
  {
   "cell_type": "code",
   "execution_count": 48,
   "id": "ce5342c3",
   "metadata": {},
   "outputs": [
    {
     "name": "stdout",
     "output_type": "stream",
     "text": [
      "resnet50v2 False\n",
      "flatten_3 True\n",
      "dense_6 True\n",
      "dense_7 True\n",
      "4\n"
     ]
    }
   ],
   "source": [
    "# verify resnet50v2 is set to False\n",
    "for layer in res_model.layers:\n",
    "    print(layer.name, layer.trainable)\n",
    "    \n",
    "# check how many trainable weights are in the model\n",
    "print(len(res_model.trainable_weights))"
   ]
  },
  {
   "cell_type": "code",
   "execution_count": 49,
   "id": "bf7e643c",
   "metadata": {},
   "outputs": [
    {
     "name": "stdout",
     "output_type": "stream",
     "text": [
      "Epoch 1/10\n",
      "27/27 [==============================] - 38s 1s/step - loss: 1.7654 - acc: 0.3350 - val_loss: 1.5362 - val_acc: 0.3900\n",
      "Epoch 2/10\n",
      "27/27 [==============================] - 34s 1s/step - loss: 1.1086 - acc: 0.5592 - val_loss: 1.4577 - val_acc: 0.4567\n",
      "Epoch 3/10\n",
      "27/27 [==============================] - 32s 1s/step - loss: 0.8290 - acc: 0.6900 - val_loss: 1.4704 - val_acc: 0.4500\n",
      "Epoch 4/10\n",
      "27/27 [==============================] - 32s 1s/step - loss: 0.6254 - acc: 0.7992 - val_loss: 1.4292 - val_acc: 0.4567\n",
      "Epoch 5/10\n",
      "27/27 [==============================] - 34s 1s/step - loss: 0.4777 - acc: 0.8717 - val_loss: 1.4437 - val_acc: 0.4667\n",
      "Epoch 6/10\n",
      "27/27 [==============================] - 33s 1s/step - loss: 0.3672 - acc: 0.9325 - val_loss: 1.4644 - val_acc: 0.4533\n",
      "Epoch 7/10\n",
      "27/27 [==============================] - 33s 1s/step - loss: 0.2804 - acc: 0.9617 - val_loss: 1.4507 - val_acc: 0.4733\n",
      "Epoch 8/10\n",
      "27/27 [==============================] - 32s 1s/step - loss: 0.2121 - acc: 0.9833 - val_loss: 1.4851 - val_acc: 0.4567\n",
      "Epoch 9/10\n",
      "27/27 [==============================] - 33s 1s/step - loss: 0.1619 - acc: 0.9933 - val_loss: 1.4768 - val_acc: 0.4767\n",
      "Epoch 10/10\n",
      "27/27 [==============================] - 33s 1s/step - loss: 0.1197 - acc: 0.9992 - val_loss: 1.5110 - val_acc: 0.4767\n"
     ]
    }
   ],
   "source": [
    "# compile and train the model\n",
    "\n",
    "res_model.compile(loss='categorical_crossentropy',\n",
    "              optimizer=optimizers.RMSprop(learning_rate=2e-5),\n",
    "              metrics=['acc'])\n",
    "\n",
    "res_history = res_model.fit(cnn_train,\n",
    "                    cnn_train_labels,\n",
    "                    steps_per_epoch=27,\n",
    "                    epochs=10,\n",
    "                    validation_data=(cnn_test, cnn_test_labels),\n",
    "                    validation_steps=10)"
   ]
  },
  {
   "cell_type": "markdown",
   "id": "47ef8989",
   "metadata": {},
   "source": [
    "### Evaluation"
   ]
  },
  {
   "cell_type": "code",
   "execution_count": 50,
   "id": "f80c21fb",
   "metadata": {},
   "outputs": [
    {
     "name": "stdout",
     "output_type": "stream",
     "text": [
      "10/10 [==============================] - 8s 685ms/step\n"
     ]
    }
   ],
   "source": [
    "y_pred = res_model.predict(cnn_test)"
   ]
  },
  {
   "cell_type": "code",
   "execution_count": 51,
   "id": "32bb6979",
   "metadata": {},
   "outputs": [
    {
     "name": "stdout",
     "output_type": "stream",
     "text": [
      "              precision    recall  f1-score   support\n",
      "\n",
      "           0       0.33      0.86      0.48        66\n",
      "           1       0.27      0.88      0.41        60\n",
      "           2       0.26      0.87      0.40        60\n",
      "           3       0.32      0.86      0.47        58\n",
      "           4       0.35      0.82      0.49        56\n",
      "\n",
      "   micro avg       0.30      0.86      0.45       300\n",
      "   macro avg       0.31      0.86      0.45       300\n",
      "weighted avg       0.31      0.86      0.45       300\n",
      " samples avg       0.34      0.86      0.47       300\n",
      "\n"
     ]
    }
   ],
   "source": [
    "print(classification_report(cnn_test_labels, np.round(y_pred)))"
   ]
  },
  {
   "cell_type": "code",
   "execution_count": 53,
   "id": "c5460011",
   "metadata": {},
   "outputs": [
    {
     "data": {
      "image/png": "[encoded data removed]",
      "text/plain": [
       "<Figure size 500x300 with 1 Axes>"
      ]
     },
     "metadata": {},
     "output_type": "display_data"
    }
   ],
   "source": [
    "visualize_training_results(res_history)"
   ]
  },
  {
   "cell_type": "code",
   "execution_count": 54,
   "id": "a0838591",
   "metadata": {},
   "outputs": [
    {
     "data": {
      "image/png": "[encoded data removed]",
      "text/plain": [
       "<Figure size 640x480 with 2 Axes>"
      ]
     },
     "metadata": {},
     "output_type": "display_data"
    }
   ],
   "source": [
    "#confusion_matrix(y_test.values.argmax(axis=1), predictions.argmax(axis=1))\n",
    "\n",
    "cnf_matrix = confusion_matrix(cnn_test_labels.argmax(axis=1), y_pred.argmax(axis=1))\n",
    "disp = ConfusionMatrixDisplay(confusion_matrix=cnf_matrix)#, display_labels=all_cnn_test_labels)\n",
    "disp.plot(cmap=plt.cm.Blues);"
   ]
  },
  {
   "cell_type": "markdown",
   "id": "21c38490",
   "metadata": {},
   "source": [
    "This model was the best yet and had fairly high recall scores, but the precision and F-1 are still rather low. This means there are many false positives (yet few false negatives) in the predictions, meaning a predicted positive cannot be trusted. "
   ]
  },
  {
   "cell_type": "markdown",
   "id": "304877fe",
   "metadata": {},
   "source": [
    "## Binary classification Modeling\n",
    "\n",
    "While it is ideal to be able to identify specific diseases, simply detecting disease is an important first step. This next section seeked to classify images into one of two categories- healthy or diseased. Again, baseline neural network models were investigated, followed by a CNN and Resnet model. Images of diseased plants consisted of 80% of the dataset, so it was still quite imbalanced. In many of the models, it appeared to indiscriminately classify plants as diseased. However, the pretrained model far outperformed all others. "
   ]
  },
  {
   "cell_type": "markdown",
   "id": "ab700867",
   "metadata": {},
   "source": [
    "### Basic neural network with 2 hidden layers"
   ]
  },
  {
   "cell_type": "markdown",
   "id": "bc826e59",
   "metadata": {},
   "source": [
    "#### Train-test split for binary classification networks"
   ]
  },
  {
   "cell_type": "code",
   "execution_count": 30,
   "id": "f4ee9114",
   "metadata": {},
   "outputs": [],
   "source": [
    "binary_train, binary_test, binary_train_labels, binary_test_labels= train_test_split(train_img_unrow, df, \n",
    "                                                                                     test_size=0.2, \n",
    "                                                                                     random_state=42,\n",
    "                                                                                     shuffle=True)"
   ]
  },
  {
   "cell_type": "code",
   "execution_count": 69,
   "id": "e9822c83",
   "metadata": {},
   "outputs": [
    {
     "name": "stdout",
     "output_type": "stream",
     "text": [
      "Epoch 1/10\n",
      "75/75 [==============================] - 5s 60ms/step - loss: 0.5179 - acc: 0.8058 - val_loss: 0.5694 - val_acc: 0.7667\n",
      "Epoch 2/10\n",
      "75/75 [==============================] - 5s 61ms/step - loss: 0.4880 - acc: 0.8083 - val_loss: 0.5926 - val_acc: 0.7667\n",
      "Epoch 3/10\n",
      "75/75 [==============================] - 4s 54ms/step - loss: 0.4835 - acc: 0.8083 - val_loss: 0.5658 - val_acc: 0.7667\n",
      "Epoch 4/10\n",
      "75/75 [==============================] - 4s 55ms/step - loss: 0.4638 - acc: 0.8083 - val_loss: 0.5212 - val_acc: 0.7667\n",
      "Epoch 5/10\n",
      "75/75 [==============================] - 4s 55ms/step - loss: 0.4542 - acc: 0.8083 - val_loss: 0.5445 - val_acc: 0.7667\n",
      "Epoch 6/10\n",
      "75/75 [==============================] - 4s 54ms/step - loss: 0.4493 - acc: 0.8083 - val_loss: 0.5260 - val_acc: 0.7667\n",
      "Epoch 7/10\n",
      "75/75 [==============================] - 4s 54ms/step - loss: 0.4396 - acc: 0.8083 - val_loss: 0.5189 - val_acc: 0.7667\n",
      "Epoch 8/10\n",
      "75/75 [==============================] - 4s 53ms/step - loss: 0.4347 - acc: 0.8075 - val_loss: 0.5491 - val_acc: 0.7667\n",
      "Epoch 9/10\n",
      "75/75 [==============================] - 4s 54ms/step - loss: 0.4323 - acc: 0.8033 - val_loss: 0.5902 - val_acc: 0.7667\n",
      "Epoch 10/10\n",
      "75/75 [==============================] - 4s 55ms/step - loss: 0.4253 - acc: 0.8083 - val_loss: 0.5196 - val_acc: 0.7667\n"
     ]
    }
   ],
   "source": [
    "np.random.seed(123)\n",
    "binary_model_2 = models.Sequential()\n",
    "binary_model_2.add(layers.Dense(256, activation='relu', input_shape=(49152,))) \n",
    "binary_model_2.add(layers.Dense(32, activation='relu'))\n",
    "binary_model_2.add(layers.Dense(2, activation='sigmoid'))\n",
    "binary_model_2.compile(optimizer='sgd',\n",
    "              loss='binary_crossentropy',\n",
    "              metrics=['acc'])\n",
    "\n",
    "binary_results_2 = binary_model_2.fit(binary_train, \n",
    "                        binary_train_labels,\n",
    "                        epochs=10,\n",
    "                        batch_size=16,\n",
    "                        validation_data=(binary_test, binary_test_labels))"
   ]
  },
  {
   "cell_type": "markdown",
   "id": "ec79db97",
   "metadata": {},
   "source": [
    "### Evaluation"
   ]
  },
  {
   "cell_type": "code",
   "execution_count": 70,
   "id": "972c8e66",
   "metadata": {},
   "outputs": [
    {
     "name": "stdout",
     "output_type": "stream",
     "text": [
      "10/10 [==============================] - 0s 15ms/step\n"
     ]
    }
   ],
   "source": [
    "y_pred = binary_model_2.predict(binary_test)"
   ]
  },
  {
   "cell_type": "code",
   "execution_count": 71,
   "id": "61dadf65",
   "metadata": {},
   "outputs": [
    {
     "name": "stdout",
     "output_type": "stream",
     "text": [
      "              precision    recall  f1-score   support\n",
      "\n",
      "           0       0.00      0.00      0.00        70\n",
      "           1       0.77      1.00      0.87       230\n",
      "\n",
      "   micro avg       0.77      0.77      0.77       300\n",
      "   macro avg       0.38      0.50      0.43       300\n",
      "weighted avg       0.59      0.77      0.67       300\n",
      " samples avg       0.77      0.77      0.77       300\n",
      "\n"
     ]
    }
   ],
   "source": [
    "print(classification_report(binary_test_labels, np.round(y_pred)))"
   ]
  },
  {
   "cell_type": "markdown",
   "id": "e408d7c8",
   "metadata": {},
   "source": [
    "This model failed to correctly identify any healthy plants- appearing to predict most as diseased. "
   ]
  },
  {
   "cell_type": "code",
   "execution_count": 72,
   "id": "787ad51d",
   "metadata": {},
   "outputs": [
    {
     "data": {
      "image/png": "[encoded data removed]",
      "text/plain": [
       "<Figure size 500x300 with 1 Axes>"
      ]
     },
     "metadata": {},
     "output_type": "display_data"
    }
   ],
   "source": [
    "visualize_training_results(binary_results_2)"
   ]
  },
  {
   "cell_type": "code",
   "execution_count": 77,
   "id": "e85911b3",
   "metadata": {},
   "outputs": [
    {
     "data": {
      "image/png": "[encoded data removed]",
      "text/plain": [
       "<Figure size 640x480 with 2 Axes>"
      ]
     },
     "metadata": {},
     "output_type": "display_data"
    }
   ],
   "source": [
    "#confusion_matrix\n",
    "\n",
    "cnf_matrix = confusion_matrix(binary_test_labels.values.argmax(axis=1), y_pred.argmax(axis=1))\n",
    "disp = ConfusionMatrixDisplay(confusion_matrix=cnf_matrix, display_labels=binary_test_labels)\n",
    "disp.plot(cmap=plt.cm.Blues);"
   ]
  },
  {
   "cell_type": "markdown",
   "id": "cdfcec6d",
   "metadata": {},
   "source": [
    "The model simply predicted every image as belonging to a diseased plant, thus was useless."
   ]
  },
  {
   "cell_type": "markdown",
   "id": "7ddf545b",
   "metadata": {},
   "source": [
    "###  CNN Binary Classification Model\n",
    "\n",
    "This one performed much better than the basic neural network models, but still was unreliable in identifying healthy plants."
   ]
  },
  {
   "cell_type": "markdown",
   "id": "e4e481c7",
   "metadata": {},
   "source": [
    "#### train-test split"
   ]
  },
  {
   "cell_type": "code",
   "execution_count": 57,
   "id": "39913a43",
   "metadata": {},
   "outputs": [],
   "source": [
    "cnn_binary_train, cnn_binary_test, cnn_binary_train_labels, cnn_binary_test_labels= train_test_split(train_images,\n",
    "                                                                                                     df, \n",
    "                                                                                                     test_size=0.2, \n",
    "                                                                                                     random_state=42,\n",
    "                                                                                                     shuffle=True)"
   ]
  },
  {
   "cell_type": "code",
   "execution_count": 58,
   "id": "122301be",
   "metadata": {},
   "outputs": [
    {
     "name": "stdout",
     "output_type": "stream",
     "text": [
      "WARNING:tensorflow:From C:\\Users\\lalyn\\anaconda3\\lib\\site-packages\\keras\\src\\layers\\pooling\\max_pooling2d.py:161: The name tf.nn.max_pool is deprecated. Please use tf.nn.max_pool2d instead.\n",
      "\n",
      "Epoch 1/10\n",
      "75/75 [==============================] - 11s 133ms/step - loss: 0.4953 - acc: 0.8033 - val_loss: 0.5314 - val_acc: 0.7667\n",
      "Epoch 2/10\n",
      "75/75 [==============================] - 9s 120ms/step - loss: 0.4765 - acc: 0.8083 - val_loss: 0.5157 - val_acc: 0.7667\n",
      "Epoch 3/10\n",
      "75/75 [==============================] - 10s 132ms/step - loss: 0.4607 - acc: 0.8083 - val_loss: 0.5392 - val_acc: 0.7667\n",
      "Epoch 4/10\n",
      "75/75 [==============================] - 9s 122ms/step - loss: 0.4417 - acc: 0.8092 - val_loss: 0.4844 - val_acc: 0.7667\n",
      "Epoch 5/10\n",
      "75/75 [==============================] - 9s 123ms/step - loss: 0.4259 - acc: 0.8083 - val_loss: 0.4884 - val_acc: 0.7667\n",
      "Epoch 6/10\n",
      "75/75 [==============================] - 9s 122ms/step - loss: 0.4102 - acc: 0.8058 - val_loss: 0.4980 - val_acc: 0.7667\n",
      "Epoch 7/10\n",
      "75/75 [==============================] - 9s 122ms/step - loss: 0.3992 - acc: 0.8125 - val_loss: 0.5933 - val_acc: 0.7667\n",
      "Epoch 8/10\n",
      "75/75 [==============================] - 10s 132ms/step - loss: 0.3601 - acc: 0.8300 - val_loss: 0.4818 - val_acc: 0.7767\n",
      "Epoch 9/10\n",
      "75/75 [==============================] - 9s 124ms/step - loss: 0.3164 - acc: 0.8467 - val_loss: 0.7107 - val_acc: 0.7733\n",
      "Epoch 10/10\n",
      "75/75 [==============================] - 9s 126ms/step - loss: 0.2825 - acc: 0.8700 - val_loss: 0.5655 - val_acc: 0.7800\n"
     ]
    }
   ],
   "source": [
    "np.random.seed(42)\n",
    "binary_cnn_model = models.Sequential()\n",
    "binary_cnn_model.add(layers.Conv2D(32, (3, 3), activation='relu',\n",
    "                        input_shape=(128, 128, 3))) \n",
    "binary_cnn_model.add(layers.MaxPooling2D((2, 2)))\n",
    "\n",
    "binary_cnn_model.add(layers.Conv2D(32, (4, 4), activation='relu'))\n",
    "binary_cnn_model.add(layers.MaxPooling2D((2, 2)))\n",
    "\n",
    "binary_cnn_model.add(layers.Conv2D(64, (3, 3), activation='relu'))\n",
    "binary_cnn_model.add(layers.MaxPooling2D((2, 2)))\n",
    "\n",
    "binary_cnn_model.add(layers.Flatten())\n",
    "binary_cnn_model.add(layers.Dense(64, activation='relu'))\n",
    "binary_cnn_model.add(layers.Dense(2, activation='softmax'))\n",
    "\n",
    "binary_cnn_model.compile(loss='binary_crossentropy',\n",
    "              optimizer=\"adam\",\n",
    "              metrics=['acc'])\n",
    "binary_cnn_results = binary_cnn_model.fit(cnn_binary_train,\n",
    "                            cnn_binary_train_labels,\n",
    "                            epochs=10,\n",
    "                            batch_size=16,\n",
    "                            validation_data=(cnn_binary_test, cnn_binary_test_labels))"
   ]
  },
  {
   "cell_type": "markdown",
   "id": "ab9a3565",
   "metadata": {
    "scrolled": true
   },
   "source": [
    "### Evaluation"
   ]
  },
  {
   "cell_type": "code",
   "execution_count": 62,
   "id": "bd67b432",
   "metadata": {},
   "outputs": [
    {
     "name": "stdout",
     "output_type": "stream",
     "text": [
      "10/10 [==============================] - 1s 62ms/step\n"
     ]
    }
   ],
   "source": [
    "y_pred = binary_cnn_model.predict(cnn_binary_test)"
   ]
  },
  {
   "cell_type": "code",
   "execution_count": 63,
   "id": "e98c6cbf",
   "metadata": {},
   "outputs": [
    {
     "name": "stdout",
     "output_type": "stream",
     "text": [
      "              precision    recall  f1-score   support\n",
      "\n",
      "           0       0.58      0.20      0.30        70\n",
      "           1       0.80      0.96      0.87       230\n",
      "\n",
      "   micro avg       0.78      0.78      0.78       300\n",
      "   macro avg       0.69      0.58      0.58       300\n",
      "weighted avg       0.75      0.78      0.74       300\n",
      " samples avg       0.78      0.78      0.78       300\n",
      "\n"
     ]
    }
   ],
   "source": [
    "print(classification_report(cnn_binary_test_labels, np.round(y_pred)))"
   ]
  },
  {
   "cell_type": "markdown",
   "id": "15ff425e",
   "metadata": {},
   "source": [
    "Although a small improvement, like most models, this one is still failing to accurately classify healthy plants."
   ]
  },
  {
   "cell_type": "code",
   "execution_count": 61,
   "id": "dd5b3faa",
   "metadata": {},
   "outputs": [
    {
     "data": {
      "image/png": "[encoded data removed]",
      "text/plain": [
       "<Figure size 500x300 with 1 Axes>"
      ]
     },
     "metadata": {},
     "output_type": "display_data"
    }
   ],
   "source": [
    "visualize_training_results(binary_cnn_results)"
   ]
  },
  {
   "cell_type": "code",
   "execution_count": 64,
   "id": "363c8a66",
   "metadata": {},
   "outputs": [
    {
     "data": {
      "image/png": "[encoded data removed]",
      "text/plain": [
       "<Figure size 640x480 with 2 Axes>"
      ]
     },
     "metadata": {},
     "output_type": "display_data"
    }
   ],
   "source": [
    "#confusion_matrix\n",
    "\n",
    "cnf_matrix = confusion_matrix(cnn_binary_test_labels.values.argmax(axis=1), y_pred.argmax(axis=1))\n",
    "disp = ConfusionMatrixDisplay(confusion_matrix=cnf_matrix, display_labels=cnn_binary_test_labels)\n",
    "disp.plot(cmap=plt.cm.Blues);"
   ]
  },
  {
   "cell_type": "markdown",
   "id": "4a5f4dca",
   "metadata": {},
   "source": [
    "Clearly an improvement from the basic model, but still unreliable performance."
   ]
  },
  {
   "cell_type": "markdown",
   "id": "c2ff3b9b",
   "metadata": {},
   "source": [
    "### Pretrained ResNet Model"
   ]
  },
  {
   "cell_type": "markdown",
   "id": "1660c2ff",
   "metadata": {},
   "source": [
    "This model far outperformed any others."
   ]
  },
  {
   "cell_type": "code",
   "execution_count": 30,
   "id": "d7dcc862",
   "metadata": {},
   "outputs": [],
   "source": [
    "from keras.applications import ResNet50V2"
   ]
  },
  {
   "cell_type": "code",
   "execution_count": 29,
   "id": "e3b1d98f",
   "metadata": {},
   "outputs": [],
   "source": [
    "#instantiate and train model  \n",
    "np.random.seed(42)\n",
    "binary_res_model = models.Sequential()\n",
    "binary_res_model.add(resnet)\n",
    "binary_res_model.add(layers.Flatten())\n",
    "binary_res_model.add(layers.Dense(132, activation='relu'))\n",
    "binary_res_model.add(layers.Dense(2, activation='sigmoid'))"
   ]
  },
  {
   "cell_type": "code",
   "execution_count": 30,
   "id": "71aba276",
   "metadata": {},
   "outputs": [
    {
     "name": "stdout",
     "output_type": "stream",
     "text": [
      "resnet50v2 False\n",
      "flatten True\n",
      "dense True\n",
      "dense_1 True\n",
      "4\n"
     ]
    }
   ],
   "source": [
    "# freeze resnet layer and verify\n",
    "resnet.trainable = False\n",
    "\n",
    "for layer in binary_res_model.layers:\n",
    "    print(layer.name, layer.trainable)\n",
    "    \n",
    "\n",
    "print(len(binary_res_model.trainable_weights))"
   ]
  },
  {
   "cell_type": "code",
   "execution_count": 31,
   "id": "3af79e38",
   "metadata": {},
   "outputs": [
    {
     "name": "stdout",
     "output_type": "stream",
     "text": [
      "Epoch 1/10\n",
      "WARNING:tensorflow:From C:\\Users\\lalyn\\anaconda3\\lib\\site-packages\\keras\\src\\utils\\tf_utils.py:492: The name tf.ragged.RaggedTensorValue is deprecated. Please use tf.compat.v1.ragged.RaggedTensorValue instead.\n",
      "\n",
      "WARNING:tensorflow:From C:\\Users\\lalyn\\anaconda3\\lib\\site-packages\\keras\\src\\engine\\base_layer_utils.py:384: The name tf.executing_eagerly_outside_functions is deprecated. Please use tf.compat.v1.executing_eagerly_outside_functions instead.\n",
      "\n",
      "27/27 [==============================] - 81s 3s/step - loss: 0.4753 - acc: 0.8325 - val_loss: 0.4490 - val_acc: 0.8200\n",
      "Epoch 2/10\n",
      "27/27 [==============================] - 65s 2s/step - loss: 0.3253 - acc: 0.8650 - val_loss: 0.3947 - val_acc: 0.8233\n",
      "Epoch 3/10\n",
      "27/27 [==============================] - 66s 2s/step - loss: 0.2531 - acc: 0.8975 - val_loss: 0.3529 - val_acc: 0.8400\n",
      "Epoch 4/10\n",
      "27/27 [==============================] - 68s 3s/step - loss: 0.2056 - acc: 0.9225 - val_loss: 0.3480 - val_acc: 0.8267\n",
      "Epoch 5/10\n",
      "27/27 [==============================] - 69s 3s/step - loss: 0.1661 - acc: 0.9458 - val_loss: 0.3263 - val_acc: 0.8633\n",
      "Epoch 6/10\n",
      "27/27 [==============================] - 77s 3s/step - loss: 0.1369 - acc: 0.9667 - val_loss: 0.3263 - val_acc: 0.8567\n",
      "Epoch 7/10\n",
      "27/27 [==============================] - 80s 3s/step - loss: 0.1138 - acc: 0.9717 - val_loss: 0.3102 - val_acc: 0.8600\n",
      "Epoch 8/10\n",
      "27/27 [==============================] - 79s 3s/step - loss: 0.0931 - acc: 0.9792 - val_loss: 0.3285 - val_acc: 0.8567\n",
      "Epoch 9/10\n",
      "27/27 [==============================] - 82s 3s/step - loss: 0.0767 - acc: 0.9875 - val_loss: 0.3127 - val_acc: 0.8667\n",
      "Epoch 10/10\n",
      "27/27 [==============================] - 75s 3s/step - loss: 0.0631 - acc: 0.9933 - val_loss: 0.3199 - val_acc: 0.8567\n"
     ]
    }
   ],
   "source": [
    "# train model\n",
    "binary_res_model.compile(loss='binary_crossentropy',\n",
    "              optimizer=optimizers.RMSprop(learning_rate=2e-5),\n",
    "              metrics=['acc'])\n",
    "\n",
    "#np.random.seed(42) \n",
    "\n",
    "binary_res_history = binary_res_model.fit(cnn_binary_train,\n",
    "                    cnn_binary_train_labels,\n",
    "                    steps_per_epoch=27,\n",
    "                    epochs=10,\n",
    "                    validation_data=(cnn_binary_test, cnn_binary_test_labels),                   \n",
    "                    validation_steps=10)"
   ]
  },
  {
   "cell_type": "markdown",
   "id": "6d73c08a",
   "metadata": {},
   "source": [
    "### Evaluation"
   ]
  },
  {
   "cell_type": "code",
   "execution_count": 32,
   "id": "b80c1046",
   "metadata": {},
   "outputs": [
    {
     "name": "stdout",
     "output_type": "stream",
     "text": [
      "10/10 [==============================] - 20s 1s/step\n"
     ]
    }
   ],
   "source": [
    "y_pred = binary_res_model.predict(cnn_binary_test)"
   ]
  },
  {
   "cell_type": "code",
   "execution_count": 33,
   "id": "9a864e34",
   "metadata": {},
   "outputs": [
    {
     "name": "stdout",
     "output_type": "stream",
     "text": [
      "              precision    recall  f1-score   support\n",
      "\n",
      "           0       0.83      0.54      0.66        72\n",
      "           1       0.84      0.97      0.90       228\n",
      "\n",
      "   micro avg       0.84      0.87      0.85       300\n",
      "   macro avg       0.84      0.76      0.78       300\n",
      "weighted avg       0.84      0.87      0.84       300\n",
      " samples avg       0.83      0.87      0.85       300\n",
      "\n"
     ]
    },
    {
     "name": "stderr",
     "output_type": "stream",
     "text": [
      "C:\\Users\\lalyn\\anaconda3\\lib\\site-packages\\sklearn\\metrics\\_classification.py:1318: UndefinedMetricWarning: Precision and F-score are ill-defined and being set to 0.0 in samples with no predicted labels. Use `zero_division` parameter to control this behavior.\n",
      "  _warn_prf(average, modifier, msg_start, len(result))\n"
     ]
    }
   ],
   "source": [
    "print(classification_report(cnn_binary_test_labels, np.round(y_pred)))"
   ]
  },
  {
   "cell_type": "code",
   "execution_count": 34,
   "id": "32902849",
   "metadata": {},
   "outputs": [
    {
     "data": {
      "image/png": "[encoded data removed]",
      "text/plain": [
       "<Figure size 500x300 with 1 Axes>"
      ]
     },
     "metadata": {},
     "output_type": "display_data"
    }
   ],
   "source": [
    "visualize_training_results(binary_res_history)"
   ]
  },
  {
   "cell_type": "code",
   "execution_count": 35,
   "id": "3a9bcab1",
   "metadata": {},
   "outputs": [
    {
     "data": {
      "image/png": "[encoded data removed]",
      "text/plain": [
       "<Figure size 640x480 with 2 Axes>"
      ]
     },
     "metadata": {},
     "output_type": "display_data"
    }
   ],
   "source": [
    "#confusion_matrix\n",
    "\n",
    "cnf_matrix = confusion_matrix(cnn_binary_test_labels.values.argmax(axis=1), y_pred.argmax(axis=1))\n",
    "disp = ConfusionMatrixDisplay(confusion_matrix=cnf_matrix, display_labels=cnn_binary_test_labels)\n",
    "disp.plot(cmap=plt.cm.Blues);"
   ]
  },
  {
   "cell_type": "markdown",
   "id": "e228f6e6",
   "metadata": {},
   "source": [
    "While there is certainly room for improvement, this model is by far the best, as it is able to identify healthy and diseased plants at a rate that could be acceptable."
   ]
  },
  {
   "cell_type": "markdown",
   "id": "2c530f3b",
   "metadata": {},
   "source": [
    "# Resnet model on full dataset"
   ]
  },
  {
   "cell_type": "markdown",
   "id": "52e7f67b",
   "metadata": {},
   "source": [
    "After selecting the best performing model, a Resnet model was then trained and evaluated on the entire dataset. Initially, the Resnet model trained on the small dataset was evaluated on the full dataset, with extremely poor performance. A multiclass model on the entire dataset was trained and evaluated as well, again with sub-par results. The binary classification Resnet model trained and evaluated on the full dataset demonstrated some level of competency, although there is room for improvement. "
   ]
  },
  {
   "cell_type": "markdown",
   "id": "9e495938",
   "metadata": {},
   "source": [
    "#### data preparation"
   ]
  },
  {
   "cell_type": "code",
   "execution_count": 79,
   "id": "d097df69",
   "metadata": {},
   "outputs": [
    {
     "name": "stdout",
     "output_type": "stream",
     "text": [
      "Found 5656 images belonging to 5 classes.\n"
     ]
    }
   ],
   "source": [
    "full_data_dir = 'data/train'\n",
    "\n",
    "# Get all the data in the directory data/train (790 images), and reshape them\n",
    "full_train_generator = ImageDataGenerator().flow_from_directory(\n",
    "        full_data_dir, \n",
    "        target_size=(128, 128), batch_size=5656)\n",
    "\n",
    "# Create the datasets\n",
    "all_train_images, all_y_train = next(full_train_generator)\n"
   ]
  },
  {
   "cell_type": "markdown",
   "id": "e21d95e4",
   "metadata": {},
   "source": [
    "#### preview image labels"
   ]
  },
  {
   "cell_type": "code",
   "execution_count": 80,
   "id": "a223e4a4",
   "metadata": {},
   "outputs": [
    {
     "name": "stdout",
     "output_type": "stream",
     "text": [
      "(5656, 128, 128, 3)\n",
      "(5656, 5)\n"
     ]
    }
   ],
   "source": [
    "# preview shape\n",
    "print(np.shape(all_train_images))\n",
    "print(np.shape(all_y_train))"
   ]
  },
  {
   "cell_type": "markdown",
   "id": "492b164d",
   "metadata": {},
   "source": [
    "#### Binary labeling\n"
   ]
  },
  {
   "cell_type": "code",
   "execution_count": 81,
   "id": "9e591bbb",
   "metadata": {},
   "outputs": [
    {
     "data": {
      "text/html": [
       "<div>\n",
       "<style scoped>\n",
       "    .dataframe tbody tr th:only-of-type {\n",
       "        vertical-align: middle;\n",
       "    }\n",
       "\n",
       "    .dataframe tbody tr th {\n",
       "        vertical-align: top;\n",
       "    }\n",
       "\n",
       "    .dataframe thead th {\n",
       "        text-align: right;\n",
       "    }\n",
       "</style>\n",
       "<table border=\"1\" class=\"dataframe\">\n",
       "  <thead>\n",
       "    <tr style=\"text-align: right;\">\n",
       "      <th></th>\n",
       "      <th>Healthy</th>\n",
       "      <th>Diseased</th>\n",
       "    </tr>\n",
       "  </thead>\n",
       "  <tbody>\n",
       "    <tr>\n",
       "      <th>0</th>\n",
       "      <td>0.0</td>\n",
       "      <td>1.0</td>\n",
       "    </tr>\n",
       "    <tr>\n",
       "      <th>1</th>\n",
       "      <td>0.0</td>\n",
       "      <td>1.0</td>\n",
       "    </tr>\n",
       "    <tr>\n",
       "      <th>2</th>\n",
       "      <td>0.0</td>\n",
       "      <td>1.0</td>\n",
       "    </tr>\n",
       "    <tr>\n",
       "      <th>3</th>\n",
       "      <td>0.0</td>\n",
       "      <td>1.0</td>\n",
       "    </tr>\n",
       "    <tr>\n",
       "      <th>4</th>\n",
       "      <td>0.0</td>\n",
       "      <td>1.0</td>\n",
       "    </tr>\n",
       "  </tbody>\n",
       "</table>\n",
       "</div>"
      ],
      "text/plain": [
       "   Healthy  Diseased\n",
       "0      0.0       1.0\n",
       "1      0.0       1.0\n",
       "2      0.0       1.0\n",
       "3      0.0       1.0\n",
       "4      0.0       1.0"
      ]
     },
     "execution_count": 81,
     "metadata": {},
     "output_type": "execute_result"
    }
   ],
   "source": [
    "# make dataframe and preview\n",
    "all_df = pd.DataFrame(all_y_train)\n",
    "all_df.loc[all_df[4]==1,\"Healthy\"]=1\n",
    "all_df.loc[all_df[4]==0,\"Healthy\"]=0\n",
    "all_df.loc[all_df[4]==1,\"Diseased\"]=0\n",
    "all_df.loc[all_df[4]==0,\"Diseased\"]=1\n",
    "all_df.drop([0, 1, 2, 3, 4], axis=1, inplace=True)\n",
    "all_df.head()"
   ]
  },
  {
   "cell_type": "code",
   "execution_count": 82,
   "id": "3fe1f7b8",
   "metadata": {},
   "outputs": [
    {
     "data": {
      "text/plain": [
       "Healthy     0\n",
       "Diseased    0\n",
       "dtype: int64"
      ]
     },
     "execution_count": 82,
     "metadata": {},
     "output_type": "execute_result"
    }
   ],
   "source": [
    "# check for any null entries\n",
    "all_df.isnull().sum()"
   ]
  },
  {
   "cell_type": "code",
   "execution_count": 106,
   "id": "c987c673",
   "metadata": {},
   "outputs": [
    {
     "name": "stdout",
     "output_type": "stream",
     "text": [
      "healthy:  316.0\n",
      "diseased:  5340.0\n",
      "Percent of images belonging to healthy plants:  5.92\n"
     ]
    }
   ],
   "source": [
    "print(\"healthy: \", all_df['Healthy'].sum())\n",
    "print(\"diseased: \", all_df['Diseased'].sum())\n",
    "\n",
    "print(\"Percent of images belonging to healthy plants: \", round(all_df['Healthy'].sum() / all_df['Diseased'].sum() * 100, 2))"
   ]
  },
  {
   "cell_type": "code",
   "execution_count": 84,
   "id": "0d8134b5",
   "metadata": {},
   "outputs": [
    {
     "data": {
      "image/png": "[encoded data removed]",
      "text/plain": [
       "<Figure size 640x480 with 1 Axes>"
      ]
     },
     "metadata": {},
     "output_type": "display_data"
    }
   ],
   "source": [
    "all_df.sum().plot(kind='bar');"
   ]
  },
  {
   "cell_type": "markdown",
   "id": "ef9eb320",
   "metadata": {},
   "source": [
    "#### train-test split"
   ]
  },
  {
   "cell_type": "code",
   "execution_count": 85,
   "id": "897e9904",
   "metadata": {},
   "outputs": [],
   "source": [
    "all_cnn_binary_train, all_cnn_binary_test, all_cnn_binary_train_labels, all_cnn_binary_test_labels= train_test_split(all_train_images,\n",
    "                                                                                                                     all_df, test_size=0.2, \n",
    "                                                                                                                     random_state=42,\n",
    "                                                                                                                     shuffle=True)\n"
   ]
  },
  {
   "cell_type": "markdown",
   "id": "f49cd336",
   "metadata": {},
   "source": [
    "## Resnet binary classification model- full dataset\n"
   ]
  },
  {
   "cell_type": "code",
   "execution_count": 12,
   "id": "11061b28",
   "metadata": {},
   "outputs": [
    {
     "name": "stdout",
     "output_type": "stream",
     "text": [
      "WARNING:tensorflow:From C:\\Users\\lalyn\\anaconda3\\lib\\site-packages\\keras\\src\\backend.py:1398: The name tf.executing_eagerly_outside_functions is deprecated. Please use tf.compat.v1.executing_eagerly_outside_functions instead.\n",
      "\n",
      "WARNING:tensorflow:From C:\\Users\\lalyn\\anaconda3\\lib\\site-packages\\keras\\src\\layers\\pooling\\max_pooling2d.py:161: The name tf.nn.max_pool is deprecated. Please use tf.nn.max_pool2d instead.\n",
      "\n"
     ]
    }
   ],
   "source": [
    "#instantiate and train model  \n",
    "resnet = ResNet50V2(weights='imagenet', \n",
    "                 include_top=False, \n",
    "                 input_shape=(128, 128, 3))\n",
    "all_binary_res_model = models.Sequential()\n",
    "all_binary_res_model.add(resnet)\n",
    "all_binary_res_model.add(layers.Flatten())\n",
    "all_binary_res_model.add(layers.Dense(132, activation='relu'))\n",
    "all_binary_res_model.add(layers.Dense(2, activation='sigmoid'))"
   ]
  },
  {
   "cell_type": "code",
   "execution_count": 13,
   "id": "531f6325",
   "metadata": {},
   "outputs": [],
   "source": [
    "resnet.trainable = False"
   ]
  },
  {
   "cell_type": "code",
   "execution_count": 14,
   "id": "8320eb16",
   "metadata": {},
   "outputs": [
    {
     "name": "stdout",
     "output_type": "stream",
     "text": [
      "resnet50v2 False\n",
      "flatten True\n",
      "dense True\n",
      "dense_1 True\n",
      "4\n"
     ]
    }
   ],
   "source": [
    "for layer in all_binary_res_model.layers:\n",
    "    print(layer.name, layer.trainable)\n",
    "    \n",
    "# Similarly, we can check how many trainable weights are in the model\n",
    "print(len(all_binary_res_model.trainable_weights))"
   ]
  },
  {
   "cell_type": "code",
   "execution_count": 15,
   "id": "0e354f64",
   "metadata": {},
   "outputs": [
    {
     "name": "stdout",
     "output_type": "stream",
     "text": [
      "Epoch 1/10\n",
      "WARNING:tensorflow:From C:\\Users\\lalyn\\anaconda3\\lib\\site-packages\\keras\\src\\utils\\tf_utils.py:492: The name tf.ragged.RaggedTensorValue is deprecated. Please use tf.compat.v1.ragged.RaggedTensorValue instead.\n",
      "\n",
      "WARNING:tensorflow:From C:\\Users\\lalyn\\anaconda3\\lib\\site-packages\\keras\\src\\engine\\base_layer_utils.py:384: The name tf.executing_eagerly_outside_functions is deprecated. Please use tf.compat.v1.executing_eagerly_outside_functions instead.\n",
      "\n",
      "27/27 [==============================] - 238s 8s/step - loss: 8.1307 - acc: 0.9047 - val_loss: 5.0235 - val_acc: 0.9417\n",
      "Epoch 2/10\n",
      "27/27 [==============================] - 227s 8s/step - loss: 4.8344 - acc: 0.9304 - val_loss: 4.2549 - val_acc: 0.9417\n",
      "Epoch 3/10\n",
      "27/27 [==============================] - 222s 8s/step - loss: 4.4966 - acc: 0.9224 - val_loss: 3.0947 - val_acc: 0.9302\n",
      "Epoch 4/10\n",
      "27/27 [==============================] - 235s 9s/step - loss: 3.7092 - acc: 0.9332 - val_loss: 4.2473 - val_acc: 0.9417\n",
      "Epoch 5/10\n",
      "27/27 [==============================] - 226s 8s/step - loss: 3.3666 - acc: 0.9330 - val_loss: 4.0339 - val_acc: 0.9417\n",
      "Epoch 6/10\n",
      "27/27 [==============================] - 229s 9s/step - loss: 2.8326 - acc: 0.9344 - val_loss: 2.3271 - val_acc: 0.8843\n",
      "Epoch 7/10\n",
      "27/27 [==============================] - 228s 9s/step - loss: 2.8290 - acc: 0.9381 - val_loss: 3.0782 - val_acc: 0.8295\n",
      "Epoch 8/10\n",
      "27/27 [==============================] - 228s 9s/step - loss: 2.5911 - acc: 0.9302 - val_loss: 2.0456 - val_acc: 0.9408\n",
      "Epoch 9/10\n",
      "27/27 [==============================] - 229s 9s/step - loss: 2.4912 - acc: 0.9341 - val_loss: 2.6251 - val_acc: 0.9426\n",
      "Epoch 10/10\n",
      "27/27 [==============================] - 262s 10s/step - loss: 2.6581 - acc: 0.9273 - val_loss: 2.0369 - val_acc: 0.9408\n"
     ]
    }
   ],
   "source": [
    "np.random.seed(42)\n",
    "\n",
    "all_binary_res_model.compile(loss='binary_crossentropy',\n",
    "              optimizer=optimizers.RMSprop(learning_rate=2e-5),\n",
    "              metrics=['acc'])\n",
    "all_binary_res_history = all_binary_res_model.fit(all_cnn_binary_train,\n",
    "                    all_cnn_binary_train_labels,\n",
    "                    steps_per_epoch=27,\n",
    "                    epochs=10,\n",
    "                    validation_data=(all_cnn_binary_test, all_cnn_binary_test_labels),                   \n",
    "                    validation_steps=10)"
   ]
  },
  {
   "cell_type": "markdown",
   "id": "93a5470c",
   "metadata": {},
   "source": [
    "### Evaluation"
   ]
  },
  {
   "cell_type": "code",
   "execution_count": 16,
   "id": "f356e831",
   "metadata": {},
   "outputs": [
    {
     "name": "stdout",
     "output_type": "stream",
     "text": [
      "36/36 [==============================] - 55s 1s/step\n"
     ]
    }
   ],
   "source": [
    "y_pred = all_binary_res_model.predict(all_cnn_binary_test)"
   ]
  },
  {
   "cell_type": "code",
   "execution_count": 17,
   "id": "0ba09e4f",
   "metadata": {},
   "outputs": [
    {
     "name": "stdout",
     "output_type": "stream",
     "text": [
      "              precision    recall  f1-score   support\n",
      "\n",
      "           0       0.30      0.12      0.17        66\n",
      "           1       0.95      0.99      0.97      1066\n",
      "\n",
      "   micro avg       0.93      0.94      0.93      1132\n",
      "   macro avg       0.62      0.55      0.57      1132\n",
      "weighted avg       0.91      0.94      0.92      1132\n",
      " samples avg       0.93      0.94      0.93      1132\n",
      "\n"
     ]
    },
    {
     "name": "stderr",
     "output_type": "stream",
     "text": [
      "C:\\Users\\lalyn\\anaconda3\\lib\\site-packages\\sklearn\\metrics\\_classification.py:1318: UndefinedMetricWarning: Precision and F-score are ill-defined and being set to 0.0 in samples with no predicted labels. Use `zero_division` parameter to control this behavior.\n",
      "  _warn_prf(average, modifier, msg_start, len(result))\n"
     ]
    }
   ],
   "source": [
    "print(classification_report(all_cnn_binary_test_labels, np.round(y_pred)))"
   ]
  },
  {
   "cell_type": "markdown",
   "id": "dd2d88a1",
   "metadata": {},
   "source": [
    "This model performs significantly worse than the same one trained with the smaller dataset. "
   ]
  },
  {
   "cell_type": "code",
   "execution_count": 18,
   "id": "d78e6652",
   "metadata": {},
   "outputs": [
    {
     "data": {
      "image/png": "[encoded data removed]",
      "text/plain": [
       "<Figure size 500x300 with 1 Axes>"
      ]
     },
     "metadata": {},
     "output_type": "display_data"
    }
   ],
   "source": [
    "visualize_training_results(all_binary_res_history)"
   ]
  },
  {
   "cell_type": "code",
   "execution_count": 19,
   "id": "56adbe53",
   "metadata": {},
   "outputs": [
    {
     "data": {
      "image/png": "[encoded data removed]",
      "text/plain": [
       "<Figure size 640x480 with 2 Axes>"
      ]
     },
     "metadata": {},
     "output_type": "display_data"
    }
   ],
   "source": [
    "#confusion_matrix(y_test.values.argmax(axis=1), predictions.argmax(axis=1))\n",
    "\n",
    "cnf_matrix = confusion_matrix(all_cnn_binary_test_labels.values.argmax(axis=1), y_pred.argmax(axis=1))\n",
    "disp = ConfusionMatrixDisplay(confusion_matrix=cnf_matrix, display_labels=all_cnn_binary_test_labels)\n",
    "disp.plot(cmap=plt.cm.Blues);"
   ]
  },
  {
   "cell_type": "markdown",
   "id": "61a4e255",
   "metadata": {},
   "source": [
    "# Multiclass summary\n",
    "\n",
    "| Model                  | Precision | Recall | F-1 Score |   |\n",
    "|------------------------|-----------|--------|-----------|---|\n",
    "| Basic Neural Network   | .23       | .27    | .15       |   |\n",
    "| 1 hidden layer         | .29       | .30    | .28       |   |\n",
    "| 2 hidden layer         | .03       | .20    | .06       |   |\n",
    "| Grid Search            | .31       | .28    | .22       |   |\n",
    "| L2 Regularization      | .35       | .35    | .29       |   |\n",
    "| L1 Regularization      | .04       | .20    | .06       |   |\n",
    "| Dropout Regularization | .03       | .20    | .06       |   |\n",
    "| CNN Model              | .38       | .59    | .41       |   |\n",
    "| ResNet50V2 Model       | .32       | .86    | .46       |   |\n",
    "| Full ResNet50V2        | .31       | .14    | .15       |   |\n",
    "|                        |           |        |           |   |\n",
    "\n",
    "# Binary summary\n",
    "\n",
    "| Model                  | Precision | Recall | F-1 Score |   |\n",
    "|------------------------|-----------|--------|-----------|---|\n",
    "| Basic Neural Network   | .70       | .54    | .54       |   |\n",
    "| 1 hidden layer         | .42       | .50    | .46       |   |\n",
    "| 2 hidden layer         | .41       | .50    | .45       |   |\n",
    "| Grid Search            | .64       | .65    | .65       |   |\n",
    "| L2 Regularization      | .61       | .62    | .61       |   |\n",
    "| L1 Regularization      | .42       | .50    | .46       |   |\n",
    "| Dropout Regularization | .42       | .50    | .46       |   |\n",
    "| CNN Model              | .54       | .50    | .47       |   |\n",
    "| ResNet50V2 Model       | .78       | .76    | .77       |   |\n",
    "| Full ResNet50V2        | .55       | .60    | .57       |   |\n",
    "|                        |           |        |           |   |\n",
    "\n"
   ]
  },
  {
   "cell_type": "code",
   "execution_count": null,
   "id": "4118bfa0",
   "metadata": {},
   "outputs": [],
   "source": []
  }
 ],
 "metadata": {
  "kernelspec": {
   "display_name": "Python 3 (ipykernel)",
   "language": "python",
   "name": "python3"
  },
  "language_info": {
   "codemirror_mode": {
    "name": "ipython",
    "version": 3
   },
   "file_extension": ".py",
   "mimetype": "text/x-python",
   "name": "python",
   "nbconvert_exporter": "python",
   "pygments_lexer": "ipython3",
   "version": "3.9.13"
  }
 },
 "nbformat": 4,
 "nbformat_minor": 5
}
