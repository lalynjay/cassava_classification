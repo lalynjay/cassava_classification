{
 "cells": [
  {
   "cell_type": "markdown",
   "id": "4eb8bfca",
   "metadata": {},
   "source": [
    "\n",
    "# Cassava Leaf Disease Detection\n",
    "\n",
    "\n",
    "## Using TImage Recognition to identify Disease\n",
    "\n",
    "### Lynn Anderson\n",
    "\n",
    "\n",
    "# Overview\n",
    "\n",
    "The objective of this project was to use time series analysis to build a model that accurately predict future real estate values in San Jose, CA. Cassava roots are an important source of calories and nutrition for many people, especially in\n",
    "sub-Saharan Africa. As the human population increases, it is increasingly important to prioritize\n",
    "crop health, as fertile land is finite and precious. Identifying diseased plants and appropriately\n",
    "treating them in a timely manner is important to ensure adequate yields. In this project, I will\n",
    "train and develop an algorithm that, when given images of Cassava leaves, can accurately\n",
    "classify that plant as healthy or belonging to a diseased plant. Aimed at an agricultural company\n",
    "specializing in treating plant diseases, this project will assist them in identifying diseased plants\n",
    "and determining the best solutions for their customers.\n",
    "\n",
    "# Business Understanding\n",
    "\n",
    "An investment company is looking to invest in real estate in the San Jose metro area. Many tech start ups are based in this location, and, with an influx of high-income tech workers, there is lkely to be a demand for property in the future. To give enough time to allow values to appreciate, yet minimize risks that come with uncertainty of trying to predict far into the future, they are initially looking for 3 year investments. Therefore, in order to make informed decisions, they want to know the 5 zipcodes predicted to provide the highest 3 year return on investment. Additionally, they are mindful of their starting budget, and are most interested in areas whose average price is under $2 million.\n",
    "\n",
    "# Data \n",
    "\n",
    "The data for this project will come from the Tensorflow Cassava dataset -\n",
    "https://www.tensorflow.org/datasets/catalog/cassava\n",
    "The data consists of leaf images for the cassava plant depicting healthy and four disease\n",
    "conditions- Cassava Mosaic Disease (CMD), Cassava Bacterial Blight (CBB), Cassava Greem\n",
    "Mite (CGM), and Cassava Brown Streak Disease (CBSD). There are a total of 9,430 labeled\n",
    "images, split into a training set (5,656 images), a test set (1,885 images) and a validation set\n",
    "(1,889 images). The data consists of two folders- a training folder that in turn contains 5\n",
    "subfolders for the respective images for the different 5 classes, and a test folder containing\n",
    "validation and test images.\n",
    "The number of images per class are unbalanced, with the two disease classes CMD and CBSD\n",
    "having 72% of the images. Dealing with this will require some experimenting and manipulation\u0002for example, I might need to generate additional training data, or train the algorithm to only\n",
    "identify “diseased” vs normal plants.\n",
    "The primary modeling techniques to be investigated will be those based on neural networks,\n",
    "particularly, I anticipate, Multi Layer Perceptrons (MLPs) and Convolutional Neural Networks\n",
    "(CNNs). The target variable is categorical, with 5 possible categories- normal or belonging to\n",
    "one of the 4 diseases. Some essential libraries I plan to use include Tensorflow, Keras, Pandas,\n",
    "and Numpy. A basic neural network will be the baseline model, with accuracy of the test data\n",
    "used to determine model performance. I will explore models with different numbers of hidden\n",
    "layers, different regularization techniques, and early stopping. I will also investigate pre-trained\n",
    "networks and see if models based on those are higher performing.\n",
    "\n",
    "\n"
   ]
  },
  {
   "cell_type": "markdown",
   "id": "7d9a7307",
   "metadata": {},
   "source": [
    "# Data Preparation"
   ]
  },
  {
   "cell_type": "code",
   "execution_count": 2,
   "id": "948a99f6",
   "metadata": {},
   "outputs": [],
   "source": [
    "# run if needed \n",
    "#pip install tensorflow-datasets\n",
    "#pip install tensorflow\n",
    "#pip install scikeras"
   ]
  },
  {
   "cell_type": "code",
   "execution_count": null,
   "id": "f2587b1a",
   "metadata": {},
   "outputs": [],
   "source": []
  },
  {
   "cell_type": "code",
   "execution_count": null,
   "id": "8c1b678e",
   "metadata": {},
   "outputs": [],
   "source": []
  },
  {
   "cell_type": "code",
   "execution_count": 3,
   "id": "1e248e14",
   "metadata": {},
   "outputs": [
    {
     "name": "stdout",
     "output_type": "stream",
     "text": [
      "WARNING:tensorflow:From C:\\Users\\lalyn\\anaconda3\\lib\\site-packages\\keras\\src\\losses.py:2976: The name tf.losses.sparse_softmax_cross_entropy is deprecated. Please use tf.compat.v1.losses.sparse_softmax_cross_entropy instead.\n",
      "\n"
     ]
    }
   ],
   "source": [
    "import pandas as pd\n",
    "import os\n",
    "import numpy as np\n",
    "import seaborn as sns\n",
    "import tensorflow as tf\n",
    "import matplotlib.pyplot as plt\n",
    "%matplotlib inline\n",
    "import tensorflow as tf\n",
    "from keras.layers import Dense\n",
    "from keras import layers\n",
    "from keras.preprocessing.image import ImageDataGenerator\n",
    "from tensorflow.keras.utils import array_to_img, img_to_array, load_img\n",
    "#import tensorflow_datasets as tdfs\n",
    "from sklearn.model_selection import train_test_split\n",
    "from sklearn.preprocessing import StandardScaler, OneHotEncoder\n",
    "from sklearn.impute import SimpleImputer\n",
    "from sklearn.metrics import mean_squared_error\n",
    "from sklearn.model_selection import cross_val_predict\n",
    "from keras import models\n",
    "from keras import layers\n",
    "from keras import regularizers\n",
    "#from scikeras.wrappers import KerasRegressor\n",
    "from keras.preprocessing.image import ImageDataGenerator\n",
    "from tensorflow.keras.utils import array_to_img, img_to_array, load_img\n",
    "from keras import optimizers\n",
    "\n",
    "from sklearn import preprocessing \n",
    "from sklearn.preprocessing import StandardScaler, LabelBinarizer\n",
    "import tensorflow.keras as keras\n",
    "import matplotlib.pyplot as plt\n",
    "import PIL.Image as Image\n",
    "\n",
    "#import tensorflow_addons as tfa"
   ]
  },
  {
   "cell_type": "code",
   "execution_count": 4,
   "id": "492ea44a",
   "metadata": {},
   "outputs": [
    {
     "data": {
      "text/plain": [
       "'cassava_data = tfds.load(\"cassava\")\\ncassava_train, cassava_test = cassava_data[\"train\"], cassava_data[\"test\"]\\nassert isinstance(cassava_train, tf.data.Dataset)'"
      ]
     },
     "execution_count": 4,
     "metadata": {},
     "output_type": "execute_result"
    }
   ],
   "source": [
    "#import tensorflow_datasets as tfds\n",
    "\"\"\"cassava_data = tfds.load(\"cassava\")\n",
    "cassava_train, cassava_test = cassava_data[\"train\"], cassava_data[\"test\"]\n",
    "assert isinstance(cassava_train, tf.data.Dataset)\"\"\""
   ]
  },
  {
   "cell_type": "markdown",
   "id": "5e6e0ebb",
   "metadata": {},
   "source": [
    "### preview files"
   ]
  },
  {
   "cell_type": "code",
   "execution_count": 5,
   "id": "c9e225bd",
   "metadata": {},
   "outputs": [
    {
     "name": "stdout",
     "output_type": "stream",
     "text": [
      "['cassava-disease.zip', 'extraimages.zip', 'random.txt', 'sample_submission_file.csv', 'test', 'test.zip', 'train', 'train.zip']\n"
     ]
    }
   ],
   "source": [
    "print(os.listdir(\"data\"))\n",
    "#print(os.listdir(\"../data/train/\"))"
   ]
  },
  {
   "cell_type": "code",
   "execution_count": 6,
   "id": "f95e0051",
   "metadata": {},
   "outputs": [
    {
     "data": {
      "text/plain": [
       "['cassava-disease.zip',\n",
       " 'extraimages.zip',\n",
       " 'random.txt',\n",
       " 'sample_submission_file.csv',\n",
       " 'test',\n",
       " 'test.zip',\n",
       " 'train',\n",
       " 'train.zip']"
      ]
     },
     "execution_count": 6,
     "metadata": {},
     "output_type": "execute_result"
    }
   ],
   "source": [
    "os.listdir('./data')"
   ]
  },
  {
   "cell_type": "markdown",
   "id": "27dcc94b",
   "metadata": {},
   "source": [
    "#### unzip the file"
   ]
  },
  {
   "cell_type": "code",
   "execution_count": 7,
   "id": "a60b376e",
   "metadata": {},
   "outputs": [],
   "source": [
    "from zipfile import ZipFile\n",
    "  \n",
    "# loading the temp.zip and creating a zip object\n",
    "with ZipFile(\"data/cassava-disease.zip\", 'r') as zObject:\n",
    "  \n",
    "    # Extracting all the members of the zip \n",
    "    # into a specific location.\n",
    "    zObject.extractall(\n",
    "        path='./data')"
   ]
  },
  {
   "cell_type": "markdown",
   "id": "af5d9108",
   "metadata": {},
   "source": [
    "#### unzip test folder"
   ]
  },
  {
   "cell_type": "code",
   "execution_count": 8,
   "id": "edbfb3b6",
   "metadata": {},
   "outputs": [],
   "source": [
    "with ZipFile(\"data/test.zip\", 'r') as zObject:\n",
    "  \n",
    "    # Extracting all the members of the zip \n",
    "    # into a specific location.\n",
    "    zObject.extractall(\n",
    "        path='./data')"
   ]
  },
  {
   "cell_type": "markdown",
   "id": "e3f48237",
   "metadata": {},
   "source": [
    "#### unzip train folder"
   ]
  },
  {
   "cell_type": "code",
   "execution_count": 9,
   "id": "3924b4fe",
   "metadata": {},
   "outputs": [],
   "source": [
    "with ZipFile(\"data/train.zip\", 'r') as zObject:\n",
    "  \n",
    "    # Extracting all the members of the zip \n",
    "    # into a specific location.\n",
    "    zObject.extractall(\n",
    "        path='./data')"
   ]
  },
  {
   "cell_type": "markdown",
   "id": "f1aea7a2",
   "metadata": {},
   "source": [
    "#### preview files"
   ]
  },
  {
   "cell_type": "code",
   "execution_count": 10,
   "id": "885f3efc",
   "metadata": {},
   "outputs": [
    {
     "name": "stdout",
     "output_type": "stream",
     "text": [
      "['cassava-disease.zip', 'extraimages.zip', 'random.txt', 'sample_submission_file.csv', 'test', 'test.zip', 'train', 'train.zip']\n"
     ]
    }
   ],
   "source": [
    "print(os.listdir(\"./data\"))"
   ]
  },
  {
   "cell_type": "markdown",
   "id": "3a1a8984",
   "metadata": {},
   "source": [
    "### preview image file names"
   ]
  },
  {
   "cell_type": "code",
   "execution_count": 11,
   "id": "5a0cf589",
   "metadata": {},
   "outputs": [
    {
     "data": {
      "text/plain": [
       "['./data/train\\\\cbb\\\\train-cbb-0.jpg',\n",
       " './data/train\\\\cbb\\\\train-cbb-1.jpg',\n",
       " './data/train\\\\cbb\\\\train-cbb-10.jpg',\n",
       " './data/train\\\\cbb\\\\train-cbb-100.jpg',\n",
       " './data/train\\\\cbb\\\\train-cbb-101.jpg']"
      ]
     },
     "execution_count": 11,
     "metadata": {},
     "output_type": "execute_result"
    }
   ],
   "source": [
    "import os\n",
    "Id = []\n",
    "for dirname, _, filenames in os.walk('./data/train'):\n",
    "    for filename in filenames:\n",
    "        Id.append(os.path.join(dirname, filename))\n",
    "Id[:5]"
   ]
  },
  {
   "cell_type": "markdown",
   "id": "e858781c",
   "metadata": {},
   "source": [
    "### Make into dataframe"
   ]
  },
  {
   "cell_type": "code",
   "execution_count": 12,
   "id": "f8e4a03b",
   "metadata": {},
   "outputs": [
    {
     "data": {
      "text/html": [
       "<div>\n",
       "<style scoped>\n",
       "    .dataframe tbody tr th:only-of-type {\n",
       "        vertical-align: middle;\n",
       "    }\n",
       "\n",
       "    .dataframe tbody tr th {\n",
       "        vertical-align: top;\n",
       "    }\n",
       "\n",
       "    .dataframe thead th {\n",
       "        text-align: right;\n",
       "    }\n",
       "</style>\n",
       "<table border=\"1\" class=\"dataframe\">\n",
       "  <thead>\n",
       "    <tr style=\"text-align: right;\">\n",
       "      <th></th>\n",
       "      <th>filename</th>\n",
       "    </tr>\n",
       "  </thead>\n",
       "  <tbody>\n",
       "    <tr>\n",
       "      <th>0</th>\n",
       "      <td>./data/train\\cbb\\train-cbb-0.jpg</td>\n",
       "    </tr>\n",
       "    <tr>\n",
       "      <th>1</th>\n",
       "      <td>./data/train\\cbb\\train-cbb-1.jpg</td>\n",
       "    </tr>\n",
       "    <tr>\n",
       "      <th>2</th>\n",
       "      <td>./data/train\\cbb\\train-cbb-10.jpg</td>\n",
       "    </tr>\n",
       "    <tr>\n",
       "      <th>3</th>\n",
       "      <td>./data/train\\cbb\\train-cbb-100.jpg</td>\n",
       "    </tr>\n",
       "    <tr>\n",
       "      <th>4</th>\n",
       "      <td>./data/train\\cbb\\train-cbb-101.jpg</td>\n",
       "    </tr>\n",
       "  </tbody>\n",
       "</table>\n",
       "</div>"
      ],
      "text/plain": [
       "                             filename\n",
       "0    ./data/train\\cbb\\train-cbb-0.jpg\n",
       "1    ./data/train\\cbb\\train-cbb-1.jpg\n",
       "2   ./data/train\\cbb\\train-cbb-10.jpg\n",
       "3  ./data/train\\cbb\\train-cbb-100.jpg\n",
       "4  ./data/train\\cbb\\train-cbb-101.jpg"
      ]
     },
     "execution_count": 12,
     "metadata": {},
     "output_type": "execute_result"
    }
   ],
   "source": [
    "train=pd.DataFrame()\n",
    "train=train.assign(filename=Id)\n",
    "train.head()"
   ]
  },
  {
   "cell_type": "markdown",
   "id": "80aec67d",
   "metadata": {},
   "source": [
    "### preview train folder"
   ]
  },
  {
   "cell_type": "code",
   "execution_count": 13,
   "id": "86141c88",
   "metadata": {},
   "outputs": [
    {
     "name": "stdout",
     "output_type": "stream",
     "text": [
      "['cbb', 'cbsd', 'cgm', 'cmd', 'healthy']\n",
      "(5,)\n"
     ]
    }
   ],
   "source": [
    "print(os.listdir(\"./data/train\"))\n",
    "print(np.shape(os.listdir(\"./data/train\")))"
   ]
  },
  {
   "cell_type": "markdown",
   "id": "3f268347",
   "metadata": {},
   "source": [
    "There are 5 subfolders in the train directory"
   ]
  },
  {
   "cell_type": "markdown",
   "id": "22fcb140",
   "metadata": {},
   "source": [
    "### Preprocess images"
   ]
  },
  {
   "cell_type": "code",
   "execution_count": 14,
   "id": "9ca3c1a5",
   "metadata": {},
   "outputs": [
    {
     "name": "stdout",
     "output_type": "stream",
     "text": [
      "Found 3774 images belonging to 1 classes.\n",
      "Found 5656 images belonging to 5 classes.\n"
     ]
    }
   ],
   "source": [
    "train_data_dir = 'data/train'\n",
    "test_data_dir = 'data/test'\n",
    "\n",
    "# Get all the data in the directory data/validation (132 images), and reshape them\n",
    "test_generator = ImageDataGenerator().flow_from_directory(\n",
    "        test_data_dir, \n",
    "        target_size=(64, 64), batch_size=3774)\n",
    "\n",
    "# Get all the data in the directory data/train (790 images), and reshape them\n",
    "train_generator = ImageDataGenerator().flow_from_directory(\n",
    "        train_data_dir, \n",
    "        target_size=(64, 64), batch_size=5656)\n",
    "\n",
    "# Create the datasets\n",
    "train_images, y_train = next(train_generator)\n",
    "test_images, y_test = next(test_generator)"
   ]
  },
  {
   "cell_type": "markdown",
   "id": "1d566775",
   "metadata": {},
   "source": [
    "#### preview image labels"
   ]
  },
  {
   "cell_type": "code",
   "execution_count": 16,
   "id": "b919fa33",
   "metadata": {},
   "outputs": [
    {
     "data": {
      "text/plain": [
       "array([[1., 0., 0., 0., 0.],\n",
       "       [0., 1., 0., 0., 0.],\n",
       "       [0., 0., 1., 0., 0.],\n",
       "       ...,\n",
       "       [0., 0., 0., 1., 0.],\n",
       "       [0., 0., 0., 1., 0.],\n",
       "       [0., 0., 1., 0., 0.]], dtype=float32)"
      ]
     },
     "execution_count": 16,
     "metadata": {},
     "output_type": "execute_result"
    }
   ],
   "source": [
    "y_train"
   ]
  },
  {
   "cell_type": "code",
   "execution_count": 17,
   "id": "177af419",
   "metadata": {},
   "outputs": [
    {
     "data": {
      "text/plain": [
       "array([0., 0., 0., 1., 0.], dtype=float32)"
      ]
     },
     "execution_count": 17,
     "metadata": {},
     "output_type": "execute_result"
    }
   ],
   "source": [
    "y_train[17]"
   ]
  },
  {
   "cell_type": "code",
   "execution_count": 18,
   "id": "1e431d6d",
   "metadata": {
    "scrolled": true
   },
   "outputs": [
    {
     "data": {
      "text/plain": [
       "array([[1.],\n",
       "       [1.],\n",
       "       [1.],\n",
       "       ...,\n",
       "       [1.],\n",
       "       [1.],\n",
       "       [1.]], dtype=float32)"
      ]
     },
     "execution_count": 18,
     "metadata": {},
     "output_type": "execute_result"
    }
   ],
   "source": [
    "y_test"
   ]
  },
  {
   "cell_type": "markdown",
   "id": "641849b9",
   "metadata": {},
   "source": [
    "The test data is not labeled. "
   ]
  },
  {
   "cell_type": "code",
   "execution_count": 20,
   "id": "10fb2f9f",
   "metadata": {},
   "outputs": [
    {
     "name": "stdout",
     "output_type": "stream",
     "text": [
      "(5656, 64, 64, 3)\n",
      "(5656, 5)\n",
      "(3774, 64, 64, 3)\n",
      "(3774, 1)\n"
     ]
    }
   ],
   "source": [
    "print(np.shape(train_images))\n",
    "print(np.shape(y_train))\n",
    "print(np.shape(test_images))\n",
    "print(np.shape(y_test))"
   ]
  },
  {
   "cell_type": "markdown",
   "id": "26a01b13",
   "metadata": {},
   "source": [
    "### reshape images"
   ]
  },
  {
   "cell_type": "code",
   "execution_count": 21,
   "id": "367f1f21",
   "metadata": {},
   "outputs": [
    {
     "data": {
      "text/plain": [
       "(5656, 12288)"
      ]
     },
     "execution_count": 21,
     "metadata": {},
     "output_type": "execute_result"
    }
   ],
   "source": [
    "train_img_unrow = train_images.reshape(5656, -1)\n",
    "test_img_unrow = test_images.reshape(3774, -1)\n",
    "\n",
    "# Preview the shape of train_img_unrow\n",
    "np.shape(train_img_unrow)"
   ]
  },
  {
   "cell_type": "markdown",
   "id": "54c5135b",
   "metadata": {},
   "source": [
    "#### normalize pixel values"
   ]
  },
  {
   "cell_type": "code",
   "execution_count": 22,
   "id": "88b27d65",
   "metadata": {},
   "outputs": [],
   "source": [
    "train_img_unrow /= 255.\n",
    "test_img_unrow /= 255."
   ]
  },
  {
   "cell_type": "markdown",
   "id": "d43f0102",
   "metadata": {},
   "source": [
    "## train test split"
   ]
  },
  {
   "cell_type": "code",
   "execution_count": 24,
   "id": "ddac3042",
   "metadata": {},
   "outputs": [],
   "source": [
    "final_train, final_test, train_labels, test_labels= train_test_split(train_img_unrow, y_train, test_size=0.2, random_state=42,shuffle=True)\n",
    "#X_train, X_test, y_train, y_test = train_test_split(X, y, test_size=0.3, random_state=42)\n"
   ]
  },
  {
   "cell_type": "markdown",
   "id": "de1ec0c1",
   "metadata": {},
   "source": [
    "## img class w MLPs"
   ]
  },
  {
   "cell_type": "code",
   "execution_count": 25,
   "id": "609d56e3",
   "metadata": {},
   "outputs": [
    {
     "name": "stdout",
     "output_type": "stream",
     "text": [
      "WARNING:tensorflow:From C:\\Users\\lalyn\\anaconda3\\lib\\site-packages\\keras\\src\\backend.py:873: The name tf.get_default_graph is deprecated. Please use tf.compat.v1.get_default_graph instead.\n",
      "\n",
      "WARNING:tensorflow:From C:\\Users\\lalyn\\anaconda3\\lib\\site-packages\\keras\\src\\optimizers\\__init__.py:309: The name tf.train.Optimizer is deprecated. Please use tf.compat.v1.train.Optimizer instead.\n",
      "\n"
     ]
    }
   ],
   "source": [
    "model_1 = models.Sequential()\n",
    "model_1.add(layers.Dense(256, activation='tanh', input_shape=(12288,)))\n",
    "model_1.add(layers.Dense(5, activation='softmax'))\n",
    "\n",
    "model_1.compile(loss='categorical_crossentropy', optimizer='sgd', metrics=['acc'])\n"
   ]
  },
  {
   "cell_type": "code",
   "execution_count": 26,
   "id": "3bd16dcc",
   "metadata": {},
   "outputs": [
    {
     "name": "stdout",
     "output_type": "stream",
     "text": [
      "Model: \"sequential\"\n",
      "_________________________________________________________________\n",
      " Layer (type)                Output Shape              Param #   \n",
      "=================================================================\n",
      " dense (Dense)               (None, 256)               3145984   \n",
      "                                                                 \n",
      " dense_1 (Dense)             (None, 5)                 1285      \n",
      "                                                                 \n",
      "=================================================================\n",
      "Total params: 3147269 (12.01 MB)\n",
      "Trainable params: 3147269 (12.01 MB)\n",
      "Non-trainable params: 0 (0.00 Byte)\n",
      "_________________________________________________________________\n"
     ]
    }
   ],
   "source": [
    "model_1.summary()"
   ]
  },
  {
   "cell_type": "code",
   "execution_count": 27,
   "id": "f50a2c6d",
   "metadata": {},
   "outputs": [
    {
     "name": "stdout",
     "output_type": "stream",
     "text": [
      "Epoch 1/5\n",
      "WARNING:tensorflow:From C:\\Users\\lalyn\\anaconda3\\lib\\site-packages\\keras\\src\\utils\\tf_utils.py:492: The name tf.ragged.RaggedTensorValue is deprecated. Please use tf.compat.v1.ragged.RaggedTensorValue instead.\n",
      "\n",
      "WARNING:tensorflow:From C:\\Users\\lalyn\\anaconda3\\lib\\site-packages\\keras\\src\\engine\\base_layer_utils.py:384: The name tf.executing_eagerly_outside_functions is deprecated. Please use tf.compat.v1.executing_eagerly_outside_functions instead.\n",
      "\n",
      "71/71 [==============================] - 5s 42ms/step - loss: 1.5297 - acc: 0.4344 - val_loss: 1.3328 - val_acc: 0.4620\n",
      "Epoch 2/5\n",
      "71/71 [==============================] - 3s 36ms/step - loss: 1.3295 - acc: 0.4602 - val_loss: 1.3411 - val_acc: 0.4585\n",
      "Epoch 3/5\n",
      "71/71 [==============================] - 3s 36ms/step - loss: 1.3058 - acc: 0.4781 - val_loss: 1.3082 - val_acc: 0.4629\n",
      "Epoch 4/5\n",
      "71/71 [==============================] - 3s 36ms/step - loss: 1.2918 - acc: 0.4788 - val_loss: 1.3118 - val_acc: 0.4664\n",
      "Epoch 5/5\n",
      "71/71 [==============================] - 3s 37ms/step - loss: 1.2749 - acc: 0.4852 - val_loss: 1.2890 - val_acc: 0.4726\n"
     ]
    }
   ],
   "source": [
    "results_1 = model_1.fit(final_train, train_labels, epochs=5, batch_size=64, validation_data=(final_test, test_labels))\n"
   ]
  },
  {
   "cell_type": "code",
   "execution_count": 28,
   "id": "fd031057",
   "metadata": {},
   "outputs": [
    {
     "name": "stdout",
     "output_type": "stream",
     "text": [
      "142/142 [==============================] - 1s 9ms/step - loss: 1.2314 - acc: 0.5225\n"
     ]
    }
   ],
   "source": [
    "results_train = model_1.evaluate(final_train, train_labels)"
   ]
  },
  {
   "cell_type": "code",
   "execution_count": 29,
   "id": "ed80ec99",
   "metadata": {},
   "outputs": [
    {
     "name": "stdout",
     "output_type": "stream",
     "text": [
      "36/36 [==============================] - 0s 10ms/step - loss: 1.2890 - acc: 0.4726\n"
     ]
    }
   ],
   "source": [
    "results_test = model_1.evaluate(final_test, test_labels)"
   ]
  },
  {
   "cell_type": "code",
   "execution_count": 31,
   "id": "dc83dd2a",
   "metadata": {},
   "outputs": [],
   "source": [
    "def visualize_training_results(results):\n",
    "    history = results.history\n",
    "    plt.figure()\n",
    "    plt.plot(history['val_loss'])\n",
    "    plt.plot(history['loss'])\n",
    "    plt.legend(['val_loss', 'loss'])\n",
    "    plt.title('Loss')\n",
    "    plt.xlabel('Epochs')\n",
    "    plt.ylabel('Loss')\n",
    "    plt.show()\n",
    "    \n",
    "    plt.figure()\n",
    "    plt.plot(history['val_acc'])\n",
    "    plt.plot(history['acc'])\n",
    "    plt.legend(['val_acc', 'acc'])\n",
    "    plt.title('Accuracy')\n",
    "    plt.xlabel('Epochs')\n",
    "    plt.ylabel('Accuracy')\n",
    "    plt.show()\n"
   ]
  },
  {
   "cell_type": "code",
   "execution_count": 32,
   "id": "51dc9cf7",
   "metadata": {},
   "outputs": [
    {
     "data": {
      "image/png": "[encoded data removed]",
      "text/plain": [
       "<Figure size 640x480 with 1 Axes>"
      ]
     },
     "metadata": {},
     "output_type": "display_data"
    },
    {
     "data": {
      "image/png": "[encoded data removed]",
      "text/plain": [
       "<Figure size 640x480 with 1 Axes>"
      ]
     },
     "metadata": {},
     "output_type": "display_data"
    }
   ],
   "source": [
    "visualize_training_results(results_1)"
   ]
  },
  {
   "cell_type": "markdown",
   "id": "97f49a85",
   "metadata": {},
   "source": [
    "## Convolutional codealong- base model"
   ]
  },
  {
   "cell_type": "code",
   "execution_count": 33,
   "id": "a64a1ed6",
   "metadata": {},
   "outputs": [
    {
     "name": "stdout",
     "output_type": "stream",
     "text": [
      "Epoch 1/50\n",
      "142/142 [==============================] - 3s 11ms/step - loss: 0.5904 - acc: 0.2573 - val_loss: 0.4763 - val_acc: 0.4576\n",
      "Epoch 2/50\n",
      "142/142 [==============================] - 1s 10ms/step - loss: 0.4483 - acc: 0.4715 - val_loss: 0.4413 - val_acc: 0.4576\n",
      "Epoch 3/50\n",
      "142/142 [==============================] - 1s 10ms/step - loss: 0.4360 - acc: 0.4730 - val_loss: 0.4374 - val_acc: 0.4576\n",
      "Epoch 4/50\n",
      "142/142 [==============================] - 2s 14ms/step - loss: 0.4337 - acc: 0.4730 - val_loss: 0.4350 - val_acc: 0.4576\n",
      "Epoch 5/50\n",
      "142/142 [==============================] - 2s 16ms/step - loss: 0.4326 - acc: 0.4730 - val_loss: 0.4333 - val_acc: 0.4576\n",
      "Epoch 6/50\n",
      "142/142 [==============================] - 2s 12ms/step - loss: 0.4317 - acc: 0.4730 - val_loss: 0.4333 - val_acc: 0.4576\n",
      "Epoch 7/50\n",
      "142/142 [==============================] - 2s 11ms/step - loss: 0.4312 - acc: 0.4730 - val_loss: 0.4336 - val_acc: 0.4576\n",
      "Epoch 8/50\n",
      "142/142 [==============================] - 1s 9ms/step - loss: 0.4307 - acc: 0.4730 - val_loss: 0.4322 - val_acc: 0.4576\n",
      "Epoch 9/50\n",
      "142/142 [==============================] - 1s 8ms/step - loss: 0.4299 - acc: 0.4741 - val_loss: 0.4351 - val_acc: 0.4576\n",
      "Epoch 10/50\n",
      "142/142 [==============================] - 1s 8ms/step - loss: 0.4289 - acc: 0.4744 - val_loss: 0.4307 - val_acc: 0.4620\n",
      "Epoch 11/50\n",
      "142/142 [==============================] - 1s 8ms/step - loss: 0.4279 - acc: 0.4781 - val_loss: 0.4313 - val_acc: 0.4611\n",
      "Epoch 12/50\n",
      "142/142 [==============================] - 1s 9ms/step - loss: 0.4272 - acc: 0.4792 - val_loss: 0.4337 - val_acc: 0.4585\n",
      "Epoch 13/50\n",
      "142/142 [==============================] - 1s 10ms/step - loss: 0.4260 - acc: 0.4810 - val_loss: 0.4382 - val_acc: 0.4602\n",
      "Epoch 14/50\n",
      "142/142 [==============================] - 2s 11ms/step - loss: 0.4247 - acc: 0.4843 - val_loss: 0.4299 - val_acc: 0.4700\n",
      "Epoch 15/50\n",
      "142/142 [==============================] - 1s 9ms/step - loss: 0.4227 - acc: 0.4887 - val_loss: 0.4295 - val_acc: 0.4664\n",
      "Epoch 16/50\n",
      "142/142 [==============================] - 2s 11ms/step - loss: 0.4216 - acc: 0.4929 - val_loss: 0.4339 - val_acc: 0.4611\n",
      "Epoch 17/50\n",
      "142/142 [==============================] - 1s 10ms/step - loss: 0.4212 - acc: 0.4929 - val_loss: 0.4294 - val_acc: 0.4682\n",
      "Epoch 18/50\n",
      "142/142 [==============================] - 2s 17ms/step - loss: 0.4198 - acc: 0.4947 - val_loss: 0.4282 - val_acc: 0.4673\n",
      "Epoch 19/50\n",
      "142/142 [==============================] - 1s 10ms/step - loss: 0.4194 - acc: 0.5009 - val_loss: 0.4280 - val_acc: 0.4717\n",
      "Epoch 20/50\n",
      "142/142 [==============================] - 2s 11ms/step - loss: 0.4171 - acc: 0.4989 - val_loss: 0.4271 - val_acc: 0.4691\n",
      "Epoch 21/50\n",
      "142/142 [==============================] - 1s 9ms/step - loss: 0.4159 - acc: 0.5040 - val_loss: 0.4277 - val_acc: 0.4673\n",
      "Epoch 22/50\n",
      "142/142 [==============================] - 1s 9ms/step - loss: 0.4146 - acc: 0.5133 - val_loss: 0.4509 - val_acc: 0.4399\n",
      "Epoch 23/50\n",
      "142/142 [==============================] - 2s 12ms/step - loss: 0.4130 - acc: 0.5199 - val_loss: 0.4324 - val_acc: 0.4682\n",
      "Epoch 24/50\n",
      "142/142 [==============================] - 2s 14ms/step - loss: 0.4120 - acc: 0.5206 - val_loss: 0.4350 - val_acc: 0.4708\n",
      "Epoch 25/50\n",
      "142/142 [==============================] - 2s 12ms/step - loss: 0.4115 - acc: 0.5164 - val_loss: 0.4287 - val_acc: 0.4708\n",
      "Epoch 26/50\n",
      "142/142 [==============================] - 2s 13ms/step - loss: 0.4098 - acc: 0.5221 - val_loss: 0.4543 - val_acc: 0.4267\n",
      "Epoch 27/50\n",
      "142/142 [==============================] - 1s 10ms/step - loss: 0.4086 - acc: 0.5290 - val_loss: 0.4499 - val_acc: 0.4346\n",
      "Epoch 28/50\n",
      "142/142 [==============================] - 1s 9ms/step - loss: 0.4055 - acc: 0.5354 - val_loss: 0.4307 - val_acc: 0.4691\n",
      "Epoch 29/50\n",
      "142/142 [==============================] - 2s 13ms/step - loss: 0.4061 - acc: 0.5325 - val_loss: 0.4246 - val_acc: 0.4841\n",
      "Epoch 30/50\n",
      "142/142 [==============================] - 2s 11ms/step - loss: 0.4038 - acc: 0.5371 - val_loss: 0.4631 - val_acc: 0.3958\n",
      "Epoch 31/50\n",
      "142/142 [==============================] - 1s 10ms/step - loss: 0.4035 - acc: 0.5396 - val_loss: 0.4247 - val_acc: 0.4859\n",
      "Epoch 32/50\n",
      "142/142 [==============================] - 2s 14ms/step - loss: 0.4031 - acc: 0.5398 - val_loss: 0.4342 - val_acc: 0.4726\n",
      "Epoch 33/50\n",
      "142/142 [==============================] - 2s 14ms/step - loss: 0.3993 - acc: 0.5471 - val_loss: 0.4357 - val_acc: 0.4717\n",
      "Epoch 34/50\n",
      "142/142 [==============================] - 2s 15ms/step - loss: 0.3981 - acc: 0.5491 - val_loss: 0.4699 - val_acc: 0.3728\n",
      "Epoch 35/50\n",
      "142/142 [==============================] - 2s 18ms/step - loss: 0.3991 - acc: 0.5440 - val_loss: 0.4544 - val_acc: 0.4647\n",
      "Epoch 36/50\n",
      "142/142 [==============================] - 2s 12ms/step - loss: 0.3960 - acc: 0.5524 - val_loss: 0.4358 - val_acc: 0.4779\n",
      "Epoch 37/50\n",
      "142/142 [==============================] - 1s 10ms/step - loss: 0.3944 - acc: 0.5550 - val_loss: 0.4479 - val_acc: 0.4761\n",
      "Epoch 38/50\n",
      "142/142 [==============================] - 2s 14ms/step - loss: 0.3933 - acc: 0.5610 - val_loss: 0.4237 - val_acc: 0.4929\n",
      "Epoch 39/50\n",
      "142/142 [==============================] - 1s 11ms/step - loss: 0.3923 - acc: 0.5557 - val_loss: 0.4232 - val_acc: 0.4947\n",
      "Epoch 40/50\n",
      "142/142 [==============================] - 1s 10ms/step - loss: 0.3919 - acc: 0.5599 - val_loss: 0.4521 - val_acc: 0.4700\n",
      "Epoch 41/50\n",
      "142/142 [==============================] - 1s 9ms/step - loss: 0.3887 - acc: 0.5650 - val_loss: 0.5341 - val_acc: 0.3242\n",
      "Epoch 42/50\n",
      "142/142 [==============================] - 1s 10ms/step - loss: 0.3880 - acc: 0.5685 - val_loss: 0.4250 - val_acc: 0.4956\n",
      "Epoch 43/50\n",
      "142/142 [==============================] - 1s 8ms/step - loss: 0.3861 - acc: 0.5714 - val_loss: 0.4258 - val_acc: 0.4938\n",
      "Epoch 44/50\n",
      "142/142 [==============================] - 2s 12ms/step - loss: 0.3872 - acc: 0.5692 - val_loss: 0.4475 - val_acc: 0.4744\n",
      "Epoch 45/50\n",
      "142/142 [==============================] - 2s 11ms/step - loss: 0.3862 - acc: 0.5692 - val_loss: 0.4228 - val_acc: 0.5027\n",
      "Epoch 46/50\n",
      "142/142 [==============================] - 1s 9ms/step - loss: 0.3841 - acc: 0.5687 - val_loss: 0.4262 - val_acc: 0.4938\n",
      "Epoch 47/50\n",
      "142/142 [==============================] - 1s 9ms/step - loss: 0.3825 - acc: 0.5756 - val_loss: 0.4266 - val_acc: 0.4850\n",
      "Epoch 48/50\n",
      "142/142 [==============================] - 1s 9ms/step - loss: 0.3813 - acc: 0.5767 - val_loss: 0.4352 - val_acc: 0.4912\n",
      "Epoch 49/50\n",
      "142/142 [==============================] - 1s 9ms/step - loss: 0.3817 - acc: 0.5747 - val_loss: 0.4255 - val_acc: 0.4991\n",
      "Epoch 50/50\n",
      "142/142 [==============================] - 1s 9ms/step - loss: 0.3816 - acc: 0.5754 - val_loss: 0.5031 - val_acc: 0.4576\n"
     ]
    }
   ],
   "source": [
    "np.random.seed(123)\n",
    "model2 = models.Sequential()\n",
    "model2.add(layers.Dense(20, activation='relu', input_shape=(12288,))) # 2 hidden layers\n",
    "model2.add(layers.Dense(7, activation='relu'))\n",
    "model2.add(layers.Dense(5, activation='relu'))\n",
    "model2.add(layers.Dense(5, activation='sigmoid'))\n",
    "model2.compile(optimizer='sgd',\n",
    "              loss='binary_crossentropy',\n",
    "              metrics=['acc'])\n",
    "\n",
    "results2 = model2.fit(final_train,\n",
    "                    train_labels,\n",
    "                    epochs=50,\n",
    "                    batch_size=32,\n",
    "                    validation_data=(final_test, test_labels))"
   ]
  },
  {
   "cell_type": "code",
   "execution_count": 35,
   "id": "edbb8fce",
   "metadata": {},
   "outputs": [
    {
     "data": {
      "image/png": "[encoded data removed]",
      "text/plain": [
       "<Figure size 640x480 with 1 Axes>"
      ]
     },
     "metadata": {},
     "output_type": "display_data"
    },
    {
     "data": {
      "image/png": "[encoded data removed]",
      "text/plain": [
       "<Figure size 640x480 with 1 Axes>"
      ]
     },
     "metadata": {},
     "output_type": "display_data"
    }
   ],
   "source": [
    "visualize_training_results(results2)"
   ]
  },
  {
   "cell_type": "markdown",
   "id": "20dda660",
   "metadata": {},
   "source": [
    "\n",
    "## CNN"
   ]
  },
  {
   "cell_type": "code",
   "execution_count": 44,
   "id": "5e962169",
   "metadata": {},
   "outputs": [
    {
     "name": "stdout",
     "output_type": "stream",
     "text": [
      "Epoch 1/10\n",
      "472/472 [==============================] - 24s 47ms/step - loss: 0.4490 - acc: 0.4692\n",
      "Epoch 2/10\n",
      "472/472 [==============================] - 20s 43ms/step - loss: 0.4284 - acc: 0.4703\n",
      "Epoch 3/10\n",
      "472/472 [==============================] - 22s 46ms/step - loss: 0.4262 - acc: 0.4715\n",
      "Epoch 4/10\n",
      "472/472 [==============================] - 23s 49ms/step - loss: 0.4225 - acc: 0.4797\n",
      "Epoch 5/10\n",
      "472/472 [==============================] - 33s 70ms/step - loss: 0.4162 - acc: 0.5002\n",
      "Epoch 6/10\n",
      "472/472 [==============================] - 21s 45ms/step - loss: 0.4096 - acc: 0.5180\n",
      "Epoch 7/10\n",
      "472/472 [==============================] - 19s 40ms/step - loss: 0.4024 - acc: 0.5332\n",
      "Epoch 8/10\n",
      "472/472 [==============================] - 19s 41ms/step - loss: 0.3974 - acc: 0.5433\n",
      "Epoch 9/10\n",
      "472/472 [==============================] - 19s 41ms/step - loss: 0.3930 - acc: 0.5534\n",
      "Epoch 10/10\n",
      "472/472 [==============================] - 19s 40ms/step - loss: 0.3887 - acc: 0.5587\n"
     ]
    }
   ],
   "source": [
    "cnn_model = models.Sequential()\n",
    "cnn_model.add(layers.Conv2D(32, (3, 3), activation='relu',\n",
    "                        input_shape=(64, 64, 3)))  ### 64, 64, 3??????????\n",
    "cnn_model.add(layers.MaxPooling2D((2, 2)))\n",
    "\n",
    "cnn_model.add(layers.Conv2D(32, (4, 4), activation='relu'))\n",
    "cnn_model.add(layers.MaxPooling2D((2, 2)))\n",
    "\n",
    "cnn_model.add(layers.Conv2D(64, (3, 3), activation='relu'))\n",
    "cnn_model.add(layers.MaxPooling2D((2, 2)))\n",
    "\n",
    "cnn_model.add(layers.Flatten())\n",
    "cnn_model.add(layers.Dense(64, activation='relu'))\n",
    "cnn_model.add(layers.Dense(5, activation='sigmoid'))\n",
    "\n",
    "cnn_model.compile(loss='binary_crossentropy',\n",
    "              optimizer=\"sgd\",\n",
    "              metrics=['acc'])\n",
    "cnn_results = cnn_model.fit(train_images,\n",
    "                    y_train,\n",
    "                    epochs=10,\n",
    "                    batch_size=12)#,\n",
    "                    #validation_data=(test_images, y_test))"
   ]
  },
  {
   "cell_type": "code",
   "execution_count": 42,
   "id": "21aa7c85",
   "metadata": {},
   "outputs": [
    {
     "name": "stdout",
     "output_type": "stream",
     "text": [
      "177/177 [==============================] - 6s 34ms/step - loss: 0.4172 - acc: 0.5085\n"
     ]
    }
   ],
   "source": [
    "cnn_eval = cnn_model.evaluate(train_images, y_train)"
   ]
  },
  {
   "cell_type": "code",
   "execution_count": 45,
   "id": "f5f9179e",
   "metadata": {},
   "outputs": [
    {
     "ename": "KeyError",
     "evalue": "'val_loss'",
     "output_type": "error",
     "traceback": [
      "\u001b[1;31m---------------------------------------------------------------------------\u001b[0m",
      "\u001b[1;31mKeyError\u001b[0m                                  Traceback (most recent call last)",
      "\u001b[1;32m~\\AppData\\Local\\Temp\\ipykernel_17512\\3858547826.py\u001b[0m in \u001b[0;36m<module>\u001b[1;34m\u001b[0m\n\u001b[1;32m----> 1\u001b[1;33m \u001b[0mvisualize_training_results\u001b[0m\u001b[1;33m(\u001b[0m\u001b[0mcnn_results\u001b[0m\u001b[1;33m)\u001b[0m\u001b[1;33m\u001b[0m\u001b[1;33m\u001b[0m\u001b[0m\n\u001b[0m",
      "\u001b[1;32m~\\AppData\\Local\\Temp\\ipykernel_17512\\3878300378.py\u001b[0m in \u001b[0;36mvisualize_training_results\u001b[1;34m(results)\u001b[0m\n\u001b[0;32m      2\u001b[0m     \u001b[0mhistory\u001b[0m \u001b[1;33m=\u001b[0m \u001b[0mresults\u001b[0m\u001b[1;33m.\u001b[0m\u001b[0mhistory\u001b[0m\u001b[1;33m\u001b[0m\u001b[1;33m\u001b[0m\u001b[0m\n\u001b[0;32m      3\u001b[0m     \u001b[0mplt\u001b[0m\u001b[1;33m.\u001b[0m\u001b[0mfigure\u001b[0m\u001b[1;33m(\u001b[0m\u001b[1;33m)\u001b[0m\u001b[1;33m\u001b[0m\u001b[1;33m\u001b[0m\u001b[0m\n\u001b[1;32m----> 4\u001b[1;33m     \u001b[0mplt\u001b[0m\u001b[1;33m.\u001b[0m\u001b[0mplot\u001b[0m\u001b[1;33m(\u001b[0m\u001b[0mhistory\u001b[0m\u001b[1;33m[\u001b[0m\u001b[1;34m'val_loss'\u001b[0m\u001b[1;33m]\u001b[0m\u001b[1;33m)\u001b[0m\u001b[1;33m\u001b[0m\u001b[1;33m\u001b[0m\u001b[0m\n\u001b[0m\u001b[0;32m      5\u001b[0m     \u001b[0mplt\u001b[0m\u001b[1;33m.\u001b[0m\u001b[0mplot\u001b[0m\u001b[1;33m(\u001b[0m\u001b[0mhistory\u001b[0m\u001b[1;33m[\u001b[0m\u001b[1;34m'loss'\u001b[0m\u001b[1;33m]\u001b[0m\u001b[1;33m)\u001b[0m\u001b[1;33m\u001b[0m\u001b[1;33m\u001b[0m\u001b[0m\n\u001b[0;32m      6\u001b[0m     \u001b[0mplt\u001b[0m\u001b[1;33m.\u001b[0m\u001b[0mlegend\u001b[0m\u001b[1;33m(\u001b[0m\u001b[1;33m[\u001b[0m\u001b[1;34m'val_loss'\u001b[0m\u001b[1;33m,\u001b[0m \u001b[1;34m'loss'\u001b[0m\u001b[1;33m]\u001b[0m\u001b[1;33m)\u001b[0m\u001b[1;33m\u001b[0m\u001b[1;33m\u001b[0m\u001b[0m\n",
      "\u001b[1;31mKeyError\u001b[0m: 'val_loss'"
     ]
    },
    {
     "data": {
      "text/plain": [
       "<Figure size 640x480 with 0 Axes>"
      ]
     },
     "metadata": {},
     "output_type": "display_data"
    }
   ],
   "source": [
    "visualize_training_results(cnn_results)"
   ]
  },
  {
   "cell_type": "markdown",
   "id": "f698bfeb",
   "metadata": {},
   "source": [
    "## Early stopping tuning-neural-networks-with-regularization-lab"
   ]
  },
  {
   "cell_type": "code",
   "execution_count": null,
   "id": "7cec531e",
   "metadata": {},
   "outputs": [],
   "source": [
    "# Import EarlyStopping and ModelCheckpoint\n",
    "from keras.callbacks import EarlyStopping, ModelCheckpoint\n",
    "\n",
    "# Define the callbacks\n",
    "early_stopping = [EarlyStopping(monitor='val_loss', patience=10), \n",
    "                  ModelCheckpoint(filepath='best_model.h5', monitor='val_loss', save_best_only=True)]"
   ]
  },
  {
   "cell_type": "code",
   "execution_count": null,
   "id": "d04c257a",
   "metadata": {},
   "outputs": [],
   "source": [
    "#train\n",
    "model_2_val = model_2.fit(X_train_tokens, \n",
    "                          y_train_lb, \n",
    "                          epochs=150, \n",
    "                          callbacks=early_stopping, \n",
    "                          batch_size=256, \n",
    "                          validation_data=(X_val_tokens, y_val_lb))\n",
    "# eval\n",
    "results_train = saved_model.evaluate(X_train_tokens, y_train_lb)\n"
   ]
  },
  {
   "cell_type": "markdown",
   "id": "8d28ef64",
   "metadata": {},
   "source": [
    "## L2 reg."
   ]
  },
  {
   "cell_type": "code",
   "execution_count": null,
   "id": "7a891aea",
   "metadata": {},
   "outputs": [],
   "source": [
    "# Import regularizers\n",
    "from keras import regularizers\n",
    "random.seed(123)\n",
    "L2_model = models.Sequential()\n",
    "\n",
    "# Add the input and first hidden layer\n",
    "L2_model.add(layers.Dense(50, activation='relu', kernel_regularizer=regularizers.l2(0.005), input_shape=(2000,)))\n",
    "\n",
    "# Add another hidden layer\n",
    "L2_model.add(layers.Dense(25, kernel_regularizer=regularizers.l2(0.005), activation='relu'))\n",
    "\n",
    "# Add an output layer\n",
    "L2_model.add(layers.Dense(7, activation='softmax'))\n",
    "\n",
    "# Compile the model\n",
    "L2_model.compile(optimizer='SGD', \n",
    "                 loss='categorical_crossentropy', \n",
    "                 metrics=['acc'])\n",
    "\n",
    "# Train the model \n",
    "L2_model_val = L2_model.fit(X_train_tokens, \n",
    "                            y_train_lb, \n",
    "                            epochs=150, \n",
    "                            batch_size=256, \n",
    "                            validation_data=(X_val_tokens, y_val_lb))"
   ]
  },
  {
   "cell_type": "markdown",
   "id": "38d81cbb",
   "metadata": {},
   "source": [
    "## L1 reg"
   ]
  },
  {
   "cell_type": "code",
   "execution_count": null,
   "id": "121eb388",
   "metadata": {},
   "outputs": [],
   "source": [
    "random.seed(123)\n",
    "L1_model = models.Sequential()\n",
    "\n",
    "# Add the input and first hidden layer\n",
    "L1_model.add(layers.Dense(50, activation='relu', kernel_regularizer=regularizers.l1(0.005), input_shape=(2000,)))\n",
    "\n",
    "# Add a hidden layer\n",
    "L1_model.add(layers.Dense(25, kernel_regularizer=regularizers.l1(0.005), activation='relu'))\n",
    "\n",
    "# Add an output layer\n",
    "L1_model.add(layers.Dense(7, activation='softmax'))\n",
    "\n",
    "# Compile the model\n",
    "L1_model.compile(optimizer='SGD', \n",
    "                 loss='categorical_crossentropy', \n",
    "                 metrics=['acc'])\n",
    "\n",
    "# Train the model \n",
    "L1_model_val = L1_model.fit(X_train_tokens, \n",
    "                            y_train_lb, \n",
    "                            epochs=150, \n",
    "                            batch_size=256, \n",
    "                            validation_data=(X_val_tokens, y_val_lb))"
   ]
  },
  {
   "cell_type": "markdown",
   "id": "0773ce93",
   "metadata": {},
   "source": [
    "## dropout reg"
   ]
  },
  {
   "cell_type": "code",
   "execution_count": null,
   "id": "957c4852",
   "metadata": {},
   "outputs": [],
   "source": [
    "dropout_model = models.Sequential()\n",
    "\n",
    "# Implement dropout to the input layer\n",
    "# NOTE: This is where you define the number of units in the input layer\n",
    "dropout_model.add(layers.Dropout(0.3, input_shape=(2000,)))\n",
    "\n",
    "# Add the first hidden layer\n",
    "dropout_model.add(layers.Dense(50, activation='relu'))\n",
    "\n",
    "# Implement dropout to the first hidden layer \n",
    "dropout_model.add(layers.Dropout(0.3))\n",
    "\n",
    "# Add the second hidden layer\n",
    "dropout_model.add(layers.Dense(25, activation='relu'))\n",
    "\n",
    "# Implement dropout to the second hidden layer \n",
    "dropout_model.add(layers.Dropout(0.3))\n",
    "\n",
    "# Add the output layer\n",
    "dropout_model.add(layers.Dense(7, activation='softmax'))\n",
    "\n",
    "\n",
    "# Compile the model\n",
    "dropout_model.compile(optimizer='SGD', \n",
    "                      loss='categorical_crossentropy', \n",
    "                      metrics=['acc'])\n",
    "\n",
    "# Train the model\n",
    "dropout_model_val = dropout_model.fit(X_train_tokens, \n",
    "                                      y_train_lb, \n",
    "                                      epochs=150, \n",
    "                                      batch_size=256, \n",
    "                                      validation_data=(X_val_tokens, y_val_lb))"
   ]
  },
  {
   "cell_type": "markdown",
   "id": "6f639f9e",
   "metadata": {},
   "source": [
    "## CNN from scratch"
   ]
  },
  {
   "cell_type": "code",
   "execution_count": 35,
   "id": "1961211c",
   "metadata": {},
   "outputs": [],
   "source": [
    "model = models.Sequential()\n",
    "model.add(layers.Conv2D(32, (3, 3), activation='relu',\n",
    "                        input_shape=(150, 150, 3)))\n",
    "model.add(layers.MaxPooling2D((2, 2)))\n",
    "model.add(layers.Conv2D(64, (3, 3), activation='relu'))\n",
    "model.add(layers.MaxPooling2D((2, 2)))\n",
    "model.add(layers.Conv2D(128, (3, 3), activation='relu'))\n",
    "model.add(layers.MaxPooling2D((2, 2)))\n",
    "model.add(layers.Conv2D(128, (3, 3), activation='relu'))\n",
    "model.add(layers.MaxPooling2D((2, 2)))\n",
    "model.add(layers.Flatten())\n",
    "model.add(layers.Dense(512, activation='relu'))\n",
    "model.add(layers.Dense(1, activation='sigmoid'))\n",
    "\n",
    "\n",
    "model.compile(loss='binary_crossentropy',\n",
    "              optimizer=optimizers.RMSprop(learning_rate=1e-4),\n",
    "              metrics=['acc'])"
   ]
  },
  {
   "cell_type": "markdown",
   "id": "7ded5074",
   "metadata": {},
   "source": [
    "## Tuning models- pipeline stuff- keras wrapper?"
   ]
  },
  {
   "cell_type": "code",
   "execution_count": 36,
   "id": "6bea01db",
   "metadata": {},
   "outputs": [],
   "source": [
    "def create_baseline_model():\n",
    "    \n",
    "    # Initialize model\n",
    "    model = models.Sequential()\n",
    "\n",
    "    # First hidden layer\n",
    "    model.add(layers.Dense(10, activation='relu', input_shape=(n_features,)))\n",
    "\n",
    "    # Second hidden layer\n",
    "    model.add(layers.Dense(5, activation='relu'))\n",
    "\n",
    "    # Output layer\n",
    "    model.add(layers.Dense(1, activation='linear'))\n",
    "\n",
    "    # Compile the model\n",
    "    model.compile(optimizer='SGD', \n",
    "                  loss='mse',  \n",
    "                  metrics=['mse']) \n",
    "    \n",
    "    # Return the compiled model\n",
    "    return model"
   ]
  },
  {
   "cell_type": "code",
   "execution_count": 37,
   "id": "2aa345e5",
   "metadata": {},
   "outputs": [
    {
     "data": {
      "text/plain": [
       "'keras_wrapper_1 = KerasRegressor(create_baseline_model,  \\n                                 epochs=150, \\n                                 batch_size=256, \\n                                 verbose=0)'"
      ]
     },
     "execution_count": 37,
     "metadata": {},
     "output_type": "execute_result"
    }
   ],
   "source": [
    "\"\"\"keras_wrapper_1 = KerasRegressor(create_baseline_model,  \n",
    "                                 epochs=150, \n",
    "                                 batch_size=256, \n",
    "                                 verbose=0)\"\"\""
   ]
  },
  {
   "cell_type": "markdown",
   "id": "248faa9c",
   "metadata": {},
   "source": [
    "### intermediate activation functions"
   ]
  },
  {
   "cell_type": "markdown",
   "id": "fdcc70b8",
   "metadata": {},
   "source": [
    "### display img"
   ]
  },
  {
   "cell_type": "code",
   "execution_count": 46,
   "id": "ac8a19a2",
   "metadata": {},
   "outputs": [
    {
     "data": {
      "image/png": "[encoded data removed]",
      "text/plain": [
       "<Figure size 640x480 with 1 Axes>"
      ]
     },
     "metadata": {},
     "output_type": "display_data"
    }
   ],
   "source": [
    "plt.imshow(train_images[0])\n",
    "plt.show()\n",
    "\n",
    "\n"
   ]
  },
  {
   "cell_type": "code",
   "execution_count": 47,
   "id": "e00cb10f",
   "metadata": {},
   "outputs": [
    {
     "data": {
      "image/png": "[encoded data removed]",
      "text/plain": [
       "<Figure size 640x480 with 1 Axes>"
      ]
     },
     "metadata": {},
     "output_type": "display_data"
    }
   ],
   "source": [
    "\n",
    "plt.imshow(test_images[0])\n",
    "plt.show()\n"
   ]
  },
  {
   "cell_type": "markdown",
   "id": "c4055112",
   "metadata": {},
   "source": [
    "## visualize layers"
   ]
  },
  {
   "cell_type": "code",
   "execution_count": 48,
   "id": "0033d2c3",
   "metadata": {},
   "outputs": [
    {
     "name": "stdout",
     "output_type": "stream",
     "text": [
      "Model: \"sequential_5\"\n",
      "_________________________________________________________________\n",
      " Layer (type)                Output Shape              Param #   \n",
      "=================================================================\n",
      " conv2d_9 (Conv2D)           (None, 62, 62, 32)        896       \n",
      "                                                                 \n",
      " max_pooling2d_9 (MaxPoolin  (None, 31, 31, 32)        0         \n",
      " g2D)                                                            \n",
      "                                                                 \n",
      " conv2d_10 (Conv2D)          (None, 28, 28, 32)        16416     \n",
      "                                                                 \n",
      " max_pooling2d_10 (MaxPooli  (None, 14, 14, 32)        0         \n",
      " ng2D)                                                           \n",
      "                                                                 \n",
      " conv2d_11 (Conv2D)          (None, 12, 12, 64)        18496     \n",
      "                                                                 \n",
      " max_pooling2d_11 (MaxPooli  (None, 6, 6, 64)          0         \n",
      " ng2D)                                                           \n",
      "                                                                 \n",
      " flatten_3 (Flatten)         (None, 2304)              0         \n",
      "                                                                 \n",
      " dense_12 (Dense)            (None, 64)                147520    \n",
      "                                                                 \n",
      " dense_13 (Dense)            (None, 5)                 325       \n",
      "                                                                 \n",
      "=================================================================\n",
      "Total params: 183653 (717.39 KB)\n",
      "Trainable params: 183653 (717.39 KB)\n",
      "Non-trainable params: 0 (0.00 Byte)\n",
      "_________________________________________________________________\n"
     ]
    }
   ],
   "source": [
    "layer_outputs = [layer.output for layer in cnn_model.layers[:8]]\n",
    "\n",
    "# Rather then a model with a single output, we are going to make a model to display the feature maps\n",
    "activation_model = models.Model(inputs=cnn_model.input, outputs=layer_outputs)\n",
    "\n",
    "cnn_model.summary()"
   ]
  },
  {
   "cell_type": "markdown",
   "id": "75aa3a1f",
   "metadata": {},
   "source": []
  },
  {
   "cell_type": "code",
   "execution_count": 49,
   "id": "e1b405fe",
   "metadata": {},
   "outputs": [
    {
     "name": "stdout",
     "output_type": "stream",
     "text": [
      "177/177 [==============================] - 30s 167ms/step\n",
      "(5656, 62, 62, 32)\n"
     ]
    },
    {
     "data": {
      "image/png": "[encoded data removed]",
      "text/plain": [
       "<Figure size 480x480 with 1 Axes>"
      ]
     },
     "metadata": {},
     "output_type": "display_data"
    }
   ],
   "source": [
    "# Returns an array for each activation layer\n",
    "activations = activation_model.predict(train_images)\n",
    "\n",
    "first_layer_activation = activations[0]\n",
    "print(first_layer_activation.shape)\n",
    "\n",
    "# We slice the third channel and preview the results\n",
    "plt.matshow(first_layer_activation[0, :, :, 3], cmap='viridis')\n",
    "plt.show()"
   ]
  },
  {
   "cell_type": "markdown",
   "id": "61499c8c",
   "metadata": {},
   "source": [
    "## channel 30"
   ]
  },
  {
   "cell_type": "code",
   "execution_count": 50,
   "id": "5c208a15",
   "metadata": {},
   "outputs": [
    {
     "name": "stdout",
     "output_type": "stream",
     "text": [
      "177/177 [==============================] - 54s 303ms/step\n"
     ]
    },
    {
     "ename": "MemoryError",
     "evalue": "Unable to allocate 2.59 GiB for an array with shape (5656, 62, 62, 32) and data type float32",
     "output_type": "error",
     "traceback": [
      "\u001b[1;31m---------------------------------------------------------------------------\u001b[0m",
      "\u001b[1;31mMemoryError\u001b[0m                               Traceback (most recent call last)",
      "\u001b[1;32m~\\AppData\\Local\\Temp\\ipykernel_17512\\3426835738.py\u001b[0m in \u001b[0;36m<module>\u001b[1;34m\u001b[0m\n\u001b[0;32m      1\u001b[0m \u001b[1;31m# Repeating the process for another channel (the 30th)\u001b[0m\u001b[1;33m\u001b[0m\u001b[1;33m\u001b[0m\u001b[0m\n\u001b[1;32m----> 2\u001b[1;33m \u001b[0mactivations\u001b[0m \u001b[1;33m=\u001b[0m \u001b[0mactivation_model\u001b[0m\u001b[1;33m.\u001b[0m\u001b[0mpredict\u001b[0m\u001b[1;33m(\u001b[0m\u001b[0mtrain_images\u001b[0m\u001b[1;33m)\u001b[0m\u001b[1;33m\u001b[0m\u001b[1;33m\u001b[0m\u001b[0m\n\u001b[0m\u001b[0;32m      3\u001b[0m \u001b[1;33m\u001b[0m\u001b[0m\n\u001b[0;32m      4\u001b[0m \u001b[0mfirst_layer_activation\u001b[0m \u001b[1;33m=\u001b[0m \u001b[0mactivations\u001b[0m\u001b[1;33m[\u001b[0m\u001b[1;36m0\u001b[0m\u001b[1;33m]\u001b[0m\u001b[1;33m\u001b[0m\u001b[1;33m\u001b[0m\u001b[0m\n\u001b[0;32m      5\u001b[0m \u001b[0mprint\u001b[0m\u001b[1;33m(\u001b[0m\u001b[0mfirst_layer_activation\u001b[0m\u001b[1;33m.\u001b[0m\u001b[0mshape\u001b[0m\u001b[1;33m)\u001b[0m\u001b[1;33m\u001b[0m\u001b[1;33m\u001b[0m\u001b[0m\n",
      "\u001b[1;32m~\\anaconda3\\lib\\site-packages\\keras\\src\\utils\\traceback_utils.py\u001b[0m in \u001b[0;36merror_handler\u001b[1;34m(*args, **kwargs)\u001b[0m\n\u001b[0;32m     68\u001b[0m             \u001b[1;31m# To get the full stack trace, call:\u001b[0m\u001b[1;33m\u001b[0m\u001b[1;33m\u001b[0m\u001b[0m\n\u001b[0;32m     69\u001b[0m             \u001b[1;31m# `tf.debugging.disable_traceback_filtering()`\u001b[0m\u001b[1;33m\u001b[0m\u001b[1;33m\u001b[0m\u001b[0m\n\u001b[1;32m---> 70\u001b[1;33m             \u001b[1;32mraise\u001b[0m \u001b[0me\u001b[0m\u001b[1;33m.\u001b[0m\u001b[0mwith_traceback\u001b[0m\u001b[1;33m(\u001b[0m\u001b[0mfiltered_tb\u001b[0m\u001b[1;33m)\u001b[0m \u001b[1;32mfrom\u001b[0m \u001b[1;32mNone\u001b[0m\u001b[1;33m\u001b[0m\u001b[1;33m\u001b[0m\u001b[0m\n\u001b[0m\u001b[0;32m     71\u001b[0m         \u001b[1;32mfinally\u001b[0m\u001b[1;33m:\u001b[0m\u001b[1;33m\u001b[0m\u001b[1;33m\u001b[0m\u001b[0m\n\u001b[0;32m     72\u001b[0m             \u001b[1;32mdel\u001b[0m \u001b[0mfiltered_tb\u001b[0m\u001b[1;33m\u001b[0m\u001b[1;33m\u001b[0m\u001b[0m\n",
      "\u001b[1;32m~\\anaconda3\\lib\\site-packages\\tensorflow\\python\\framework\\ops.py\u001b[0m in \u001b[0;36mnumpy\u001b[1;34m(self)\u001b[0m\n\u001b[0;32m    393\u001b[0m     \u001b[1;31m# TODO(slebedev): Consider avoiding a copy for non-CPU or remote tensors.\u001b[0m\u001b[1;33m\u001b[0m\u001b[1;33m\u001b[0m\u001b[0m\n\u001b[0;32m    394\u001b[0m     \u001b[0mmaybe_arr\u001b[0m \u001b[1;33m=\u001b[0m \u001b[0mself\u001b[0m\u001b[1;33m.\u001b[0m\u001b[0m_numpy\u001b[0m\u001b[1;33m(\u001b[0m\u001b[1;33m)\u001b[0m  \u001b[1;31m# pylint: disable=protected-access\u001b[0m\u001b[1;33m\u001b[0m\u001b[1;33m\u001b[0m\u001b[0m\n\u001b[1;32m--> 395\u001b[1;33m     \u001b[1;32mreturn\u001b[0m \u001b[0mmaybe_arr\u001b[0m\u001b[1;33m.\u001b[0m\u001b[0mcopy\u001b[0m\u001b[1;33m(\u001b[0m\u001b[1;33m)\u001b[0m \u001b[1;32mif\u001b[0m \u001b[0misinstance\u001b[0m\u001b[1;33m(\u001b[0m\u001b[0mmaybe_arr\u001b[0m\u001b[1;33m,\u001b[0m \u001b[0mnp\u001b[0m\u001b[1;33m.\u001b[0m\u001b[0mndarray\u001b[0m\u001b[1;33m)\u001b[0m \u001b[1;32melse\u001b[0m \u001b[0mmaybe_arr\u001b[0m\u001b[1;33m\u001b[0m\u001b[1;33m\u001b[0m\u001b[0m\n\u001b[0m\u001b[0;32m    396\u001b[0m \u001b[1;33m\u001b[0m\u001b[0m\n\u001b[0;32m    397\u001b[0m   \u001b[1;33m@\u001b[0m\u001b[0mproperty\u001b[0m\u001b[1;33m\u001b[0m\u001b[1;33m\u001b[0m\u001b[0m\n",
      "\u001b[1;31mMemoryError\u001b[0m: Unable to allocate 2.59 GiB for an array with shape (5656, 62, 62, 32) and data type float32"
     ]
    }
   ],
   "source": [
    "# Repeating the process for another channel (the 30th)\n",
    "activations = activation_model.predict(train_images)\n",
    "\n",
    "first_layer_activation = activations[0]\n",
    "print(first_layer_activation.shape)\n",
    "\n",
    "plt.matshow(first_layer_activation[0, :, :, 30], cmap='viridis')\n",
    "plt.show()"
   ]
  },
  {
   "cell_type": "markdown",
   "id": "92210ce5",
   "metadata": {},
   "source": [
    "## channel i"
   ]
  },
  {
   "cell_type": "code",
   "execution_count": null,
   "id": "2dfab0fc",
   "metadata": {},
   "outputs": [],
   "source": [
    "fig, axes = plt.subplots(8, 4, figsize=(12,24))\n",
    "for i in range(32):\n",
    "    row = i//4\n",
    "    column = i%4\n",
    "    ax = axes[row, column]\n",
    "    first_layer_activation = activations[0]\n",
    "    ax.matshow(first_layer_activation[0, :, :, i], cmap='viridis')"
   ]
  },
  {
   "cell_type": "markdown",
   "id": "54e80622",
   "metadata": {},
   "source": [
    "### channel 29 for every layer"
   ]
  },
  {
   "cell_type": "code",
   "execution_count": null,
   "id": "9833431e",
   "metadata": {},
   "outputs": [],
   "source": [
    "fig, axes = plt.subplots(2,4, figsize=(12,8))\n",
    "\n",
    "layer_names = []\n",
    "for layer in model.layers[:8]:\n",
    "    layer_names.append(layer.name)\n",
    "\n",
    "for i in range(8):\n",
    "    row = i//4\n",
    "    column = i%4\n",
    "    ax = axes[row, column]\n",
    "    cur_layer = activations[i]\n",
    "    ax.matshow(cur_layer[0, :, :, 29], cmap='viridis')\n",
    "    ax.xaxis.set_ticks_position('bottom')\n",
    "    ax.set_title(layer_names[i])"
   ]
  },
  {
   "cell_type": "markdown",
   "id": "01e72234",
   "metadata": {},
   "source": [
    "### viz act lab - plot feature maps"
   ]
  },
  {
   "cell_type": "code",
   "execution_count": null,
   "id": "a5691c47",
   "metadata": {},
   "outputs": [],
   "source": [
    "# Extract model layer outputs\n",
    "layer_outputs = [layer.output for layer in model.layers[:8]]\n",
    "\n",
    "# Create a model for displaying the feature maps\n",
    "activation_model = models.Model(inputs=model.input, outputs=layer_outputs)\n",
    "\n",
    "activations = activation_model.predict(img_tensor)\n",
    "\n",
    "# Extract Layer Names for Labelling\n",
    "layer_names = []\n",
    "for layer in model.layers[:8]:\n",
    "    layer_names.append(layer.name)\n",
    "\n",
    "total_features = sum([a.shape[-1] for a in activations])\n",
    "total_features\n",
    "\n",
    "n_cols = 16\n",
    "n_rows = math.ceil(total_features / n_cols)\n",
    "\n",
    "\n",
    "iteration = 0\n",
    "fig , axes = plt.subplots(nrows=n_rows, ncols=n_cols, figsize=(n_cols, n_rows*1.5))\n",
    "\n",
    "for layer_n, layer_activation in enumerate(activations):\n",
    "    n_channels = layer_activation.shape[-1]\n",
    "    for ch_idx in range(n_channels):\n",
    "        row = iteration // n_cols\n",
    "        column = iteration % n_cols\n",
    "    \n",
    "        ax = axes[row, column]\n",
    "\n",
    "        channel_image = layer_activation[0,\n",
    "                                         :, :,\n",
    "                                         ch_idx]\n",
    "        # Post-process the feature to make it visually palatable\n",
    "        channel_image -= channel_image.mean()\n",
    "        channel_image /= channel_image.std() \n",
    "        channel_image *= 64\n",
    "        channel_image += 128\n",
    "        channel_image = np.clip(channel_image, 0, 255).astype('uint8')\n",
    "\n",
    "        ax.imshow(channel_image, aspect='auto', cmap='viridis')\n",
    "        ax.get_xaxis().set_ticks([])\n",
    "        ax.get_yaxis().set_ticks([])\n",
    "        \n",
    "        if ch_idx == 0:\n",
    "            ax.set_title(layer_names[layer_n], fontsize=10)\n",
    "        iteration += 1\n",
    "\n",
    "fig.subplots_adjust(hspace=1.25)\n",
    "plt.savefig('Intermediate_Activations_Visualized.pdf')\n",
    "plt.show()"
   ]
  },
  {
   "cell_type": "markdown",
   "id": "20f4a599",
   "metadata": {},
   "source": [
    "## normalization tuning-neural-networks-with-normalization-lab"
   ]
  },
  {
   "cell_type": "code",
   "execution_count": null,
   "id": "e12def7f",
   "metadata": {},
   "outputs": [],
   "source": []
  }
 ],
 "metadata": {
  "kernelspec": {
   "display_name": "Python 3",
   "language": "python",
   "name": "python3"
  },
  "language_info": {
   "codemirror_mode": {
    "name": "ipython",
    "version": 3
   },
   "file_extension": ".py",
   "mimetype": "text/x-python",
   "name": "python",
   "nbconvert_exporter": "python",
   "pygments_lexer": "ipython3",
   "version": "3.9.13"
  }
 },
 "nbformat": 4,
 "nbformat_minor": 5
}
