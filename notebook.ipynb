{
 "cells": [
  {
   "cell_type": "code",
   "execution_count": 1,
   "id": "948a99f6",
   "metadata": {},
   "outputs": [],
   "source": [
    "#pip install tensorflow-datasets\n"
   ]
  },
  {
   "cell_type": "code",
   "execution_count": 2,
   "id": "f2587b1a",
   "metadata": {},
   "outputs": [],
   "source": [
    "#pip install tensorflow"
   ]
  },
  {
   "cell_type": "code",
   "execution_count": 3,
   "id": "8c1b678e",
   "metadata": {},
   "outputs": [],
   "source": [
    "#pip install scikeras"
   ]
  },
  {
   "cell_type": "code",
   "execution_count": 4,
   "id": "1e248e14",
   "metadata": {},
   "outputs": [
    {
     "name": "stdout",
     "output_type": "stream",
     "text": [
      "WARNING:tensorflow:From C:\\Users\\lalyn\\anaconda3\\lib\\site-packages\\keras\\src\\losses.py:2976: The name tf.losses.sparse_softmax_cross_entropy is deprecated. Please use tf.compat.v1.losses.sparse_softmax_cross_entropy instead.\n",
      "\n"
     ]
    }
   ],
   "source": [
    "import pandas as pd\n",
    "import os\n",
    "import numpy as np\n",
    "import seaborn as sns\n",
    "import tensorflow as tf\n",
    "import matplotlib.pyplot as plt\n",
    "%matplotlib inline\n",
    "import tensorflow as tf\n",
    "from keras.layers import Dense\n",
    "from keras import layers\n",
    "from keras.preprocessing.image import ImageDataGenerator\n",
    "from tensorflow.keras.utils import array_to_img, img_to_array, load_img\n",
    "#import tensorflow_datasets as tdfs\n",
    "from sklearn.model_selection import train_test_split\n",
    "from sklearn.preprocessing import StandardScaler, OneHotEncoder\n",
    "from sklearn.impute import SimpleImputer\n",
    "from sklearn.metrics import mean_squared_error\n",
    "from sklearn.model_selection import cross_val_predict\n",
    "from keras import models\n",
    "from keras import layers\n",
    "from keras import regularizers\n",
    "#from scikeras.wrappers import KerasRegressor\n",
    "from keras.preprocessing.image import ImageDataGenerator\n",
    "from tensorflow.keras.utils import array_to_img, img_to_array, load_img\n",
    "from keras import optimizers\n",
    "\n",
    "from sklearn import preprocessing \n",
    "from sklearn.preprocessing import StandardScaler, LabelBinarizer\n",
    "import tensorflow.keras as keras\n",
    "import matplotlib.pyplot as plt\n",
    "import PIL.Image as Image\n",
    "\n",
    "#import tensorflow_addons as tfa"
   ]
  },
  {
   "cell_type": "code",
   "execution_count": 5,
   "id": "492ea44a",
   "metadata": {},
   "outputs": [
    {
     "data": {
      "text/plain": [
       "'cassava_data = tfds.load(\"cassava\")\\ncassava_train, cassava_test = cassava_data[\"train\"], cassava_data[\"test\"]\\nassert isinstance(cassava_train, tf.data.Dataset)'"
      ]
     },
     "execution_count": 5,
     "metadata": {},
     "output_type": "execute_result"
    }
   ],
   "source": [
    "#import tensorflow_datasets as tfds\n",
    "\"\"\"cassava_data = tfds.load(\"cassava\")\n",
    "cassava_train, cassava_test = cassava_data[\"train\"], cassava_data[\"test\"]\n",
    "assert isinstance(cassava_train, tf.data.Dataset)\"\"\""
   ]
  },
  {
   "cell_type": "code",
   "execution_count": null,
   "id": "0fc75256",
   "metadata": {},
   "outputs": [],
   "source": []
  },
  {
   "cell_type": "code",
   "execution_count": null,
   "id": "ce3640ac",
   "metadata": {},
   "outputs": [],
   "source": []
  },
  {
   "cell_type": "code",
   "execution_count": 6,
   "id": "76618eb8",
   "metadata": {},
   "outputs": [
    {
     "data": {
      "text/plain": [
       "\"data_santa_dir = 'data/santa/'\\ndata_not_santa_dir = 'data/not_santa/'\\nimgs_santa = [file for file in os.listdir(data_santa_dir) if file.endswith('.jpg')]\""
      ]
     },
     "execution_count": 6,
     "metadata": {},
     "output_type": "execute_result"
    }
   ],
   "source": [
    "\"\"\"data_santa_dir = 'data/santa/'\n",
    "data_not_santa_dir = 'data/not_santa/'\n",
    "imgs_santa = [file for file in os.listdir(data_santa_dir) if file.endswith('.jpg')]\"\"\""
   ]
  },
  {
   "cell_type": "code",
   "execution_count": 7,
   "id": "c1dcc660",
   "metadata": {},
   "outputs": [],
   "source": [
    "train_dir = 'cats_dogs_downsampled/train'\n",
    "validation_dir = 'cats_dogs_downsampled/val/'\n",
    "test_dir = 'cats_dogs_downsampled/test/' "
   ]
  },
  {
   "cell_type": "code",
   "execution_count": 8,
   "id": "c6de287b",
   "metadata": {},
   "outputs": [],
   "source": [
    "train_data_dir = 'data/train'\n",
    "test_data_dir = 'data/validation'"
   ]
  },
  {
   "cell_type": "code",
   "execution_count": null,
   "id": "195026e6",
   "metadata": {},
   "outputs": [],
   "source": []
  },
  {
   "cell_type": "code",
   "execution_count": 9,
   "id": "c9e225bd",
   "metadata": {},
   "outputs": [
    {
     "name": "stdout",
     "output_type": "stream",
     "text": [
      "['cassava-disease.zip', 'extraimages.zip', 'random.txt', 'sample_submission_file.csv', 'test', 'test.zip', 'train', 'train.zip']\n"
     ]
    }
   ],
   "source": [
    "print(os.listdir(\"data\"))\n",
    "#print(os.listdir(\"../data/train/\"))"
   ]
  },
  {
   "cell_type": "code",
   "execution_count": 10,
   "id": "f95e0051",
   "metadata": {},
   "outputs": [
    {
     "data": {
      "text/plain": [
       "['cassava-disease.zip',\n",
       " 'extraimages.zip',\n",
       " 'random.txt',\n",
       " 'sample_submission_file.csv',\n",
       " 'test',\n",
       " 'test.zip',\n",
       " 'train',\n",
       " 'train.zip']"
      ]
     },
     "execution_count": 10,
     "metadata": {},
     "output_type": "execute_result"
    }
   ],
   "source": [
    "os.listdir('./data')"
   ]
  },
  {
   "cell_type": "code",
   "execution_count": 11,
   "id": "a60b376e",
   "metadata": {},
   "outputs": [],
   "source": [
    "from zipfile import ZipFile\n",
    "  \n",
    "# loading the temp.zip and creating a zip object\n",
    "with ZipFile(\"data/cassava-disease.zip\", 'r') as zObject:\n",
    "  \n",
    "    # Extracting all the members of the zip \n",
    "    # into a specific location.\n",
    "    zObject.extractall(\n",
    "        path='./data')"
   ]
  },
  {
   "cell_type": "code",
   "execution_count": 12,
   "id": "5a0cf589",
   "metadata": {},
   "outputs": [
    {
     "data": {
      "text/plain": [
       "['./data/train\\\\cbb\\\\train-cbb-0.jpg',\n",
       " './data/train\\\\cbb\\\\train-cbb-1.jpg',\n",
       " './data/train\\\\cbb\\\\train-cbb-10.jpg',\n",
       " './data/train\\\\cbb\\\\train-cbb-100.jpg',\n",
       " './data/train\\\\cbb\\\\train-cbb-101.jpg']"
      ]
     },
     "execution_count": 12,
     "metadata": {},
     "output_type": "execute_result"
    }
   ],
   "source": [
    "import os\n",
    "Id = []\n",
    "for dirname, _, filenames in os.walk('./data/train'):\n",
    "    for filename in filenames:\n",
    "        Id.append(os.path.join(dirname, filename))\n",
    "Id[:5]"
   ]
  },
  {
   "cell_type": "code",
   "execution_count": 13,
   "id": "f8e4a03b",
   "metadata": {},
   "outputs": [
    {
     "data": {
      "text/html": [
       "<div>\n",
       "<style scoped>\n",
       "    .dataframe tbody tr th:only-of-type {\n",
       "        vertical-align: middle;\n",
       "    }\n",
       "\n",
       "    .dataframe tbody tr th {\n",
       "        vertical-align: top;\n",
       "    }\n",
       "\n",
       "    .dataframe thead th {\n",
       "        text-align: right;\n",
       "    }\n",
       "</style>\n",
       "<table border=\"1\" class=\"dataframe\">\n",
       "  <thead>\n",
       "    <tr style=\"text-align: right;\">\n",
       "      <th></th>\n",
       "      <th>filename</th>\n",
       "    </tr>\n",
       "  </thead>\n",
       "  <tbody>\n",
       "    <tr>\n",
       "      <th>0</th>\n",
       "      <td>./data/train\\cbb\\train-cbb-0.jpg</td>\n",
       "    </tr>\n",
       "    <tr>\n",
       "      <th>1</th>\n",
       "      <td>./data/train\\cbb\\train-cbb-1.jpg</td>\n",
       "    </tr>\n",
       "    <tr>\n",
       "      <th>2</th>\n",
       "      <td>./data/train\\cbb\\train-cbb-10.jpg</td>\n",
       "    </tr>\n",
       "    <tr>\n",
       "      <th>3</th>\n",
       "      <td>./data/train\\cbb\\train-cbb-100.jpg</td>\n",
       "    </tr>\n",
       "    <tr>\n",
       "      <th>4</th>\n",
       "      <td>./data/train\\cbb\\train-cbb-101.jpg</td>\n",
       "    </tr>\n",
       "  </tbody>\n",
       "</table>\n",
       "</div>"
      ],
      "text/plain": [
       "                             filename\n",
       "0    ./data/train\\cbb\\train-cbb-0.jpg\n",
       "1    ./data/train\\cbb\\train-cbb-1.jpg\n",
       "2   ./data/train\\cbb\\train-cbb-10.jpg\n",
       "3  ./data/train\\cbb\\train-cbb-100.jpg\n",
       "4  ./data/train\\cbb\\train-cbb-101.jpg"
      ]
     },
     "execution_count": 13,
     "metadata": {},
     "output_type": "execute_result"
    }
   ],
   "source": [
    "train=pd.DataFrame()\n",
    "train=train.assign(filename=Id)\n",
    "train.head()"
   ]
  },
  {
   "cell_type": "code",
   "execution_count": 14,
   "id": "5b69c34d",
   "metadata": {},
   "outputs": [
    {
     "name": "stderr",
     "output_type": "stream",
     "text": [
      "unzip:  cannot find or open /kaggle/input/cassava-disease/extraimages.zip, /kaggle/input/cassava-disease/extraimages.zip.zip or /kaggle/input/cassava-disease/extraimages.zip.ZIP.\n",
      "unzip:  cannot find or open /kaggle/input/cassava-disease/test.zip, /kaggle/input/cassava-disease/test.zip.zip or /kaggle/input/cassava-disease/test.zip.ZIP.\n",
      "unzip:  cannot find or open /kaggle/input/cassava-disease/train.zip, /kaggle/input/cassava-disease/train.zip.zip or /kaggle/input/cassava-disease/train.zip.ZIP.\n"
     ]
    }
   ],
   "source": [
    "!unzip /kaggle/input/cassava-disease/extraimages.zip -d  /kaggle/working/ \n",
    "!unzip /kaggle/input/cassava-disease/test.zip -d /kaggle/working/\n",
    "!unzip /kaggle/input/cassava-disease/train.zip -d /kaggle/working/"
   ]
  },
  {
   "cell_type": "code",
   "execution_count": 15,
   "id": "edbfb3b6",
   "metadata": {},
   "outputs": [],
   "source": [
    "with ZipFile(\"data/test.zip\", 'r') as zObject:\n",
    "  \n",
    "    # Extracting all the members of the zip \n",
    "    # into a specific location.\n",
    "    zObject.extractall(\n",
    "        path='./data')"
   ]
  },
  {
   "cell_type": "code",
   "execution_count": 16,
   "id": "3924b4fe",
   "metadata": {},
   "outputs": [],
   "source": [
    "with ZipFile(\"data/train.zip\", 'r') as zObject:\n",
    "  \n",
    "    # Extracting all the members of the zip \n",
    "    # into a specific location.\n",
    "    zObject.extractall(\n",
    "        path='./data')"
   ]
  },
  {
   "cell_type": "code",
   "execution_count": 17,
   "id": "885f3efc",
   "metadata": {},
   "outputs": [
    {
     "name": "stdout",
     "output_type": "stream",
     "text": [
      "['cassava-disease.zip', 'extraimages.zip', 'random.txt', 'sample_submission_file.csv', 'test', 'test.zip', 'train', 'train.zip']\n"
     ]
    }
   ],
   "source": [
    "print(os.listdir(\"./data\"))"
   ]
  },
  {
   "cell_type": "code",
   "execution_count": 18,
   "id": "86141c88",
   "metadata": {},
   "outputs": [
    {
     "name": "stdout",
     "output_type": "stream",
     "text": [
      "['cbb', 'cbsd', 'cgm', 'cmd', 'healthy']\n",
      "(5,)\n"
     ]
    }
   ],
   "source": [
    "print(os.listdir(\"./data/train\"))\n",
    "print(np.shape(os.listdir(\"./data/train\")))"
   ]
  },
  {
   "cell_type": "code",
   "execution_count": 38,
   "id": "9ca3c1a5",
   "metadata": {},
   "outputs": [
    {
     "name": "stdout",
     "output_type": "stream",
     "text": [
      "Found 3774 images belonging to 1 classes.\n",
      "Found 5656 images belonging to 5 classes.\n"
     ]
    }
   ],
   "source": [
    "train_data_dir = 'data/train'\n",
    "test_data_dir = 'data/test'\n",
    "\n",
    "# Get all the data in the directory data/validation (132 images), and reshape them\n",
    "test_generator = ImageDataGenerator().flow_from_directory(\n",
    "        test_data_dir, \n",
    "        target_size=(64, 64), batch_size=3774)\n",
    "\n",
    "# Get all the data in the directory data/train (790 images), and reshape them\n",
    "train_generator = ImageDataGenerator().flow_from_directory(\n",
    "        train_data_dir, \n",
    "        target_size=(64, 64), batch_size=5656)\n",
    "\n",
    "# Create the datasets\n",
    "train_images, train_labels = next(train_generator)\n",
    "test_images, test_labels = next(test_generator)"
   ]
  },
  {
   "cell_type": "code",
   "execution_count": 20,
   "id": "b919fa33",
   "metadata": {},
   "outputs": [
    {
     "data": {
      "text/plain": [
       "array([0., 0., 0., 1., 0.], dtype=float32)"
      ]
     },
     "execution_count": 20,
     "metadata": {},
     "output_type": "execute_result"
    }
   ],
   "source": [
    "train_labels[1]"
   ]
  },
  {
   "cell_type": "code",
   "execution_count": 21,
   "id": "1e431d6d",
   "metadata": {
    "scrolled": true
   },
   "outputs": [
    {
     "data": {
      "text/plain": [
       "array([[1.],\n",
       "       [1.],\n",
       "       [1.],\n",
       "       ...,\n",
       "       [1.],\n",
       "       [1.],\n",
       "       [1.]], dtype=float32)"
      ]
     },
     "execution_count": 21,
     "metadata": {},
     "output_type": "execute_result"
    }
   ],
   "source": [
    "test_labels"
   ]
  },
  {
   "cell_type": "code",
   "execution_count": 39,
   "id": "10fb2f9f",
   "metadata": {},
   "outputs": [
    {
     "name": "stdout",
     "output_type": "stream",
     "text": [
      "(5656, 64, 64, 3)\n",
      "(5656, 5)\n",
      "(3774, 64, 64, 3)\n",
      "(3774, 1)\n"
     ]
    }
   ],
   "source": [
    "print(np.shape(train_images))\n",
    "print(np.shape(train_labels))\n",
    "print(np.shape(test_images))\n",
    "print(np.shape(test_labels))"
   ]
  },
  {
   "cell_type": "code",
   "execution_count": 40,
   "id": "367f1f21",
   "metadata": {},
   "outputs": [
    {
     "data": {
      "text/plain": [
       "(5656, 12288)"
      ]
     },
     "execution_count": 40,
     "metadata": {},
     "output_type": "execute_result"
    }
   ],
   "source": [
    "train_img_unrow = train_images.reshape(5656, -1)\n",
    "test_img_unrow = test_images.reshape(3774, -1)\n",
    "\n",
    "# Preview the shape of train_img_unrow\n",
    "np.shape(train_img_unrow)"
   ]
  },
  {
   "cell_type": "code",
   "execution_count": 41,
   "id": "71bdc853",
   "metadata": {},
   "outputs": [
    {
     "data": {
      "text/plain": [
       "(5656, 12288)"
      ]
     },
     "execution_count": 41,
     "metadata": {},
     "output_type": "execute_result"
    }
   ],
   "source": [
    "X_train = train_images.reshape(5656, 12288).astype('float32')\n",
    "#X_test = X_test.reshape(3774, 12288).astype('float32')\n",
    "np.shape(X_train)"
   ]
  },
  {
   "cell_type": "code",
   "execution_count": 42,
   "id": "88b27d65",
   "metadata": {},
   "outputs": [],
   "source": [
    "train_images /= 255.\n",
    "test_images /= 255."
   ]
  },
  {
   "cell_type": "markdown",
   "id": "d43f0102",
   "metadata": {},
   "source": [
    "## train test split"
   ]
  },
  {
   "cell_type": "code",
   "execution_count": 26,
   "id": "ddac3042",
   "metadata": {},
   "outputs": [],
   "source": [
    "#train,test= train_test_split( train, test_size=0.2, random_state=42,shuffle=True, stratify=train['label'])\n",
    "#X_train, X_test, y_train, y_test = train_test_split(X, y, test_size=0.3, random_state=42)\n"
   ]
  },
  {
   "cell_type": "markdown",
   "id": "de1ec0c1",
   "metadata": {},
   "source": [
    "## img class w MLPs"
   ]
  },
  {
   "cell_type": "code",
   "execution_count": 44,
   "id": "609d56e3",
   "metadata": {},
   "outputs": [],
   "source": [
    "model_1 = models.Sequential()\n",
    "model_1.add(layers.Dense(256, activation='tanh', input_shape=(12288,)))\n",
    "model_1.add(layers.Dense(5, activation='softmax'))\n",
    "\n",
    "model_1.compile(loss='categorical_crossentropy', optimizer='sgd', metrics=['acc'])\n"
   ]
  },
  {
   "cell_type": "code",
   "execution_count": 45,
   "id": "3bd16dcc",
   "metadata": {},
   "outputs": [
    {
     "name": "stdout",
     "output_type": "stream",
     "text": [
      "Model: \"sequential_8\"\n",
      "_________________________________________________________________\n",
      " Layer (type)                Output Shape              Param #   \n",
      "=================================================================\n",
      " dense_26 (Dense)            (None, 256)               3145984   \n",
      "                                                                 \n",
      " dense_27 (Dense)            (None, 5)                 1285      \n",
      "                                                                 \n",
      "=================================================================\n",
      "Total params: 3147269 (12.01 MB)\n",
      "Trainable params: 3147269 (12.01 MB)\n",
      "Non-trainable params: 0 (0.00 Byte)\n",
      "_________________________________________________________________\n"
     ]
    }
   ],
   "source": [
    "model_1.summary()"
   ]
  },
  {
   "cell_type": "code",
   "execution_count": 46,
   "id": "f50a2c6d",
   "metadata": {},
   "outputs": [
    {
     "name": "stdout",
     "output_type": "stream",
     "text": [
      "Epoch 1/5\n",
      "89/89 [==============================] - 5s 33ms/step - loss: 1.4881 - acc: 0.4450\n",
      "Epoch 2/5\n",
      "89/89 [==============================] - 4s 48ms/step - loss: 1.3260 - acc: 0.4645\n",
      "Epoch 3/5\n",
      "89/89 [==============================] - 3s 36ms/step - loss: 1.3125 - acc: 0.4738\n",
      "Epoch 4/5\n",
      "89/89 [==============================] - 3s 34ms/step - loss: 1.3030 - acc: 0.4742\n",
      "Epoch 5/5\n",
      "89/89 [==============================] - 3s 33ms/step - loss: 1.2848 - acc: 0.4837\n"
     ]
    }
   ],
   "source": [
    "results_1 = model_1.fit(train_img_unrow, train_labels, epochs=5, batch_size=64) #validation_data=(test_img_unrow, test_labels)\n"
   ]
  },
  {
   "cell_type": "code",
   "execution_count": 47,
   "id": "fd031057",
   "metadata": {},
   "outputs": [
    {
     "name": "stdout",
     "output_type": "stream",
     "text": [
      "177/177 [==============================] - 2s 10ms/step - loss: 1.2337 - acc: 0.4874\n"
     ]
    }
   ],
   "source": [
    "results_train = model_1.evaluate(train_img_unrow, train_labels)"
   ]
  },
  {
   "cell_type": "code",
   "execution_count": 48,
   "id": "dc83dd2a",
   "metadata": {},
   "outputs": [
    {
     "data": {
      "image/png": "[encoded data removed]",
      "text/plain": [
       "<Figure size 640x480 with 1 Axes>"
      ]
     },
     "metadata": {},
     "output_type": "display_data"
    },
    {
     "data": {
      "image/png": "[encoded data removed]",
      "text/plain": [
       "<Figure size 640x480 with 1 Axes>"
      ]
     },
     "metadata": {},
     "output_type": "display_data"
    }
   ],
   "source": [
    "def visualize_training_results(results):\n",
    "    history = results.history\n",
    "    plt.figure()\n",
    "    #plt.plot(history['val_loss'])\n",
    "    plt.plot(history['loss'])\n",
    "    #plt.legend(['val_loss', 'loss'])\n",
    "    plt.title('Loss')\n",
    "    plt.xlabel('Epochs')\n",
    "    plt.ylabel('Loss')\n",
    "    plt.show()\n",
    "    \n",
    "    plt.figure()\n",
    "    #plt.plot(history['val_acc'])\n",
    "    plt.plot(history['acc'])\n",
    "    #plt.legend(['val_acc', 'acc'])\n",
    "    plt.title('Accuracy')\n",
    "    plt.xlabel('Epochs')\n",
    "    plt.ylabel('Accuracy')\n",
    "    plt.show()\n",
    "visualize_training_results(results_1)"
   ]
  },
  {
   "cell_type": "markdown",
   "id": "97f49a85",
   "metadata": {},
   "source": [
    "## Convolutional codealong- base model"
   ]
  },
  {
   "cell_type": "code",
   "execution_count": 50,
   "id": "a64a1ed6",
   "metadata": {},
   "outputs": [
    {
     "name": "stdout",
     "output_type": "stream",
     "text": [
      "Epoch 1/50\n",
      "177/177 [==============================] - 3s 8ms/step - loss: 0.6743 - accuracy: 0.4634\n",
      "Epoch 2/50\n",
      "177/177 [==============================] - 1s 8ms/step - loss: 0.6397 - accuracy: 0.4699\n",
      "Epoch 3/50\n",
      "177/177 [==============================] - 1s 7ms/step - loss: 0.6109 - accuracy: 0.4699\n",
      "Epoch 4/50\n",
      "177/177 [==============================] - 2s 9ms/step - loss: 0.5865 - accuracy: 0.4699\n",
      "Epoch 5/50\n",
      "177/177 [==============================] - 1s 7ms/step - loss: 0.5658 - accuracy: 0.4699\n",
      "Epoch 6/50\n",
      "177/177 [==============================] - 1s 7ms/step - loss: 0.5480 - accuracy: 0.4699\n",
      "Epoch 7/50\n",
      "177/177 [==============================] - 1s 7ms/step - loss: 0.5328 - accuracy: 0.4699\n",
      "Epoch 8/50\n",
      "177/177 [==============================] - 1s 6ms/step - loss: 0.5196 - accuracy: 0.4699\n",
      "Epoch 9/50\n",
      "177/177 [==============================] - 1s 8ms/step - loss: 0.5082 - accuracy: 0.4699\n",
      "Epoch 10/50\n",
      "177/177 [==============================] - 1s 7ms/step - loss: 0.4982 - accuracy: 0.4699\n",
      "Epoch 11/50\n",
      "177/177 [==============================] - 1s 7ms/step - loss: 0.4895 - accuracy: 0.4699\n",
      "Epoch 12/50\n",
      "177/177 [==============================] - 1s 7ms/step - loss: 0.4819 - accuracy: 0.4699\n",
      "Epoch 13/50\n",
      "177/177 [==============================] - 1s 7ms/step - loss: 0.4753 - accuracy: 0.4699\n",
      "Epoch 14/50\n",
      "177/177 [==============================] - 1s 8ms/step - loss: 0.4695 - accuracy: 0.4699\n",
      "Epoch 15/50\n",
      "177/177 [==============================] - 1s 7ms/step - loss: 0.4644 - accuracy: 0.4699\n",
      "Epoch 16/50\n",
      "177/177 [==============================] - 1s 7ms/step - loss: 0.4599 - accuracy: 0.4699\n",
      "Epoch 17/50\n",
      "177/177 [==============================] - 1s 7ms/step - loss: 0.4561 - accuracy: 0.4699\n",
      "Epoch 18/50\n",
      "177/177 [==============================] - 1s 7ms/step - loss: 0.4527 - accuracy: 0.4699\n",
      "Epoch 19/50\n",
      "177/177 [==============================] - 1s 7ms/step - loss: 0.4498 - accuracy: 0.4699\n",
      "Epoch 20/50\n",
      "177/177 [==============================] - 1s 8ms/step - loss: 0.4473 - accuracy: 0.4699\n",
      "Epoch 21/50\n",
      "177/177 [==============================] - 1s 8ms/step - loss: 0.4450 - accuracy: 0.4699\n",
      "Epoch 22/50\n",
      "177/177 [==============================] - 1s 6ms/step - loss: 0.4427 - accuracy: 0.4699\n",
      "Epoch 23/50\n",
      "177/177 [==============================] - 1s 8ms/step - loss: 0.4406 - accuracy: 0.4699\n",
      "Epoch 24/50\n",
      "177/177 [==============================] - 1s 7ms/step - loss: 0.4384 - accuracy: 0.4699\n",
      "Epoch 25/50\n",
      "177/177 [==============================] - 1s 7ms/step - loss: 0.4366 - accuracy: 0.4699\n",
      "Epoch 26/50\n",
      "177/177 [==============================] - 1s 8ms/step - loss: 0.4348 - accuracy: 0.4699\n",
      "Epoch 27/50\n",
      "177/177 [==============================] - 1s 6ms/step - loss: 0.4332 - accuracy: 0.4699\n",
      "Epoch 28/50\n",
      "177/177 [==============================] - 1s 8ms/step - loss: 0.4316 - accuracy: 0.4699\n",
      "Epoch 29/50\n",
      "177/177 [==============================] - 1s 7ms/step - loss: 0.4304 - accuracy: 0.4699\n",
      "Epoch 30/50\n",
      "177/177 [==============================] - 1s 7ms/step - loss: 0.4292 - accuracy: 0.4699\n",
      "Epoch 31/50\n",
      "177/177 [==============================] - 1s 7ms/step - loss: 0.4277 - accuracy: 0.4699\n",
      "Epoch 32/50\n",
      "177/177 [==============================] - 1s 7ms/step - loss: 0.4265 - accuracy: 0.4699\n",
      "Epoch 33/50\n",
      "177/177 [==============================] - 1s 8ms/step - loss: 0.4253 - accuracy: 0.4699\n",
      "Epoch 34/50\n",
      "177/177 [==============================] - 1s 7ms/step - loss: 0.4241 - accuracy: 0.4699\n",
      "Epoch 35/50\n",
      "177/177 [==============================] - 1s 7ms/step - loss: 0.4227 - accuracy: 0.4699\n",
      "Epoch 36/50\n",
      "177/177 [==============================] - 1s 7ms/step - loss: 0.4217 - accuracy: 0.4699\n",
      "Epoch 37/50\n",
      "177/177 [==============================] - 1s 7ms/step - loss: 0.4205 - accuracy: 0.4699\n",
      "Epoch 38/50\n",
      "177/177 [==============================] - 1s 7ms/step - loss: 0.4196 - accuracy: 0.4699\n",
      "Epoch 39/50\n",
      "177/177 [==============================] - 1s 7ms/step - loss: 0.4179 - accuracy: 0.4699\n",
      "Epoch 40/50\n",
      "177/177 [==============================] - 1s 7ms/step - loss: 0.4168 - accuracy: 0.4699\n",
      "Epoch 41/50\n",
      "177/177 [==============================] - 1s 6ms/step - loss: 0.4153 - accuracy: 0.4699\n",
      "Epoch 42/50\n",
      "177/177 [==============================] - 1s 8ms/step - loss: 0.4144 - accuracy: 0.4699\n",
      "Epoch 43/50\n",
      "177/177 [==============================] - 1s 7ms/step - loss: 0.4126 - accuracy: 0.4699\n",
      "Epoch 44/50\n",
      "177/177 [==============================] - 1s 7ms/step - loss: 0.4108 - accuracy: 0.4699\n",
      "Epoch 45/50\n",
      "177/177 [==============================] - 1s 7ms/step - loss: 0.4092 - accuracy: 0.4699\n",
      "Epoch 46/50\n",
      "177/177 [==============================] - 1s 7ms/step - loss: 0.4085 - accuracy: 0.4699\n",
      "Epoch 47/50\n",
      "177/177 [==============================] - 1s 8ms/step - loss: 0.4068 - accuracy: 0.4699\n",
      "Epoch 48/50\n",
      "177/177 [==============================] - 1s 7ms/step - loss: 0.4048 - accuracy: 0.4699\n",
      "Epoch 49/50\n",
      "177/177 [==============================] - 1s 7ms/step - loss: 0.4025 - accuracy: 0.4699\n",
      "Epoch 50/50\n",
      "177/177 [==============================] - 1s 7ms/step - loss: 0.4009 - accuracy: 0.4699\n"
     ]
    }
   ],
   "source": [
    "np.random.seed(123)\n",
    "model = models.Sequential()\n",
    "model.add(layers.Dense(20, activation='relu', input_shape=(12288,))) # 2 hidden layers\n",
    "model.add(layers.Dense(7, activation='relu'))\n",
    "model.add(layers.Dense(5, activation='relu'))\n",
    "model.add(layers.Dense(5, activation='sigmoid'))\n",
    "model.compile(optimizer='sgd',\n",
    "              loss='binary_crossentropy',\n",
    "              metrics=['accuracy'])\n",
    "\n",
    "history = model.fit(train_img_unrow,\n",
    "                    train_labels,\n",
    "                    epochs=50,\n",
    "                    batch_size=32)\n",
    "                    #validation_data=(val_img, val_y))"
   ]
  },
  {
   "cell_type": "markdown",
   "id": "20dda660",
   "metadata": {},
   "source": [
    "\n",
    "## CNN"
   ]
  },
  {
   "cell_type": "code",
   "execution_count": 51,
   "id": "5e962169",
   "metadata": {},
   "outputs": [
    {
     "name": "stdout",
     "output_type": "stream",
     "text": [
      "Epoch 1/30\n",
      "177/177 [==============================] - 21s 107ms/step - loss: 0.4695 - acc: 0.4436\n",
      "Epoch 2/30\n",
      "177/177 [==============================] - 20s 113ms/step - loss: 0.4279 - acc: 0.4703\n",
      "Epoch 3/30\n",
      "177/177 [==============================] - 22s 125ms/step - loss: 0.4270 - acc: 0.4710\n",
      "Epoch 4/30\n",
      "177/177 [==============================] - 23s 130ms/step - loss: 0.4257 - acc: 0.4721\n",
      "Epoch 5/30\n",
      "177/177 [==============================] - 20s 111ms/step - loss: 0.4246 - acc: 0.4740\n",
      "Epoch 6/30\n",
      "177/177 [==============================] - 20s 115ms/step - loss: 0.4230 - acc: 0.4777\n",
      "Epoch 7/30\n",
      "177/177 [==============================] - 20s 114ms/step - loss: 0.4217 - acc: 0.4834\n",
      "Epoch 8/30\n",
      "177/177 [==============================] - 21s 119ms/step - loss: 0.4194 - acc: 0.4885\n",
      "Epoch 9/30\n",
      "177/177 [==============================] - 21s 119ms/step - loss: 0.4174 - acc: 0.4913\n",
      "Epoch 10/30\n",
      "177/177 [==============================] - 19s 105ms/step - loss: 0.4145 - acc: 0.5018\n",
      "Epoch 11/30\n",
      "177/177 [==============================] - 19s 106ms/step - loss: 0.4104 - acc: 0.5097\n",
      "Epoch 12/30\n",
      "177/177 [==============================] - 20s 111ms/step - loss: 0.4060 - acc: 0.5205\n",
      "Epoch 13/30\n",
      "177/177 [==============================] - 20s 113ms/step - loss: 0.4010 - acc: 0.5359\n",
      "Epoch 14/30\n",
      "177/177 [==============================] - 20s 111ms/step - loss: 0.3983 - acc: 0.5401\n",
      "Epoch 15/30\n",
      "177/177 [==============================] - 20s 113ms/step - loss: 0.3939 - acc: 0.5461\n",
      "Epoch 16/30\n",
      "177/177 [==============================] - 19s 107ms/step - loss: 0.3931 - acc: 0.5469\n",
      "Epoch 17/30\n",
      "177/177 [==============================] - 19s 107ms/step - loss: 0.3886 - acc: 0.5522\n",
      "Epoch 18/30\n",
      "177/177 [==============================] - 17s 98ms/step - loss: 0.3889 - acc: 0.5566\n",
      "Epoch 19/30\n",
      "177/177 [==============================] - 17s 98ms/step - loss: 0.3870 - acc: 0.5576\n",
      "Epoch 20/30\n",
      "177/177 [==============================] - 18s 100ms/step - loss: 0.3851 - acc: 0.5615\n",
      "Epoch 21/30\n",
      "177/177 [==============================] - 18s 100ms/step - loss: 0.3837 - acc: 0.5656\n",
      "Epoch 22/30\n",
      "177/177 [==============================] - 17s 97ms/step - loss: 0.3826 - acc: 0.5640\n",
      "Epoch 23/30\n",
      "177/177 [==============================] - 18s 101ms/step - loss: 0.3817 - acc: 0.5698\n",
      "Epoch 24/30\n",
      "177/177 [==============================] - 19s 105ms/step - loss: 0.3800 - acc: 0.5732\n",
      "Epoch 25/30\n",
      "177/177 [==============================] - 19s 105ms/step - loss: 0.3800 - acc: 0.5746\n",
      "Epoch 26/30\n",
      "177/177 [==============================] - 17s 97ms/step - loss: 0.3776 - acc: 0.5753\n",
      "Epoch 27/30\n",
      "177/177 [==============================] - 17s 95ms/step - loss: 0.3778 - acc: 0.5736\n",
      "Epoch 28/30\n",
      "177/177 [==============================] - 17s 98ms/step - loss: 0.3769 - acc: 0.5781\n",
      "Epoch 29/30\n",
      "177/177 [==============================] - 19s 110ms/step - loss: 0.3753 - acc: 0.5806\n",
      "Epoch 30/30\n",
      "177/177 [==============================] - 18s 99ms/step - loss: 0.3740 - acc: 0.5824\n"
     ]
    }
   ],
   "source": [
    "cnn_model = models.Sequential()\n",
    "cnn_model.add(layers.Conv2D(32, (3, 3), activation='relu',\n",
    "                        input_shape=(64 ,64,  3)))\n",
    "cnn_model.add(layers.MaxPooling2D((2, 2)))\n",
    "\n",
    "cnn_model.add(layers.Conv2D(32, (4, 4), activation='relu'))\n",
    "cnn_model.add(layers.MaxPooling2D((2, 2)))\n",
    "\n",
    "cnn_model.add(layers.Conv2D(64, (3, 3), activation='relu'))\n",
    "cnn_model.add(layers.MaxPooling2D((2, 2)))\n",
    "\n",
    "cnn_model.add(layers.Flatten())\n",
    "cnn_model.add(layers.Dense(64, activation='relu'))\n",
    "cnn_model.add(layers.Dense(5, activation='sigmoid'))\n",
    "\n",
    "cnn_model.compile(loss='binary_crossentropy',\n",
    "              optimizer=\"sgd\",\n",
    "              metrics=['acc'])\n",
    "cnn_history = cnn_model.fit(train_images,\n",
    "                    train_labels,\n",
    "                    epochs=30,\n",
    "                    batch_size=32)#,\n",
    "                   #validation_data=(val_images, val_y))"
   ]
  },
  {
   "cell_type": "code",
   "execution_count": 52,
   "id": "21aa7c85",
   "metadata": {},
   "outputs": [
    {
     "name": "stdout",
     "output_type": "stream",
     "text": [
      "177/177 [==============================] - 6s 30ms/step - loss: 0.3725 - acc: 0.5852\n"
     ]
    }
   ],
   "source": [
    "results_train = cnn_model.evaluate(train_images, train_labels)"
   ]
  },
  {
   "cell_type": "markdown",
   "id": "6f639f9e",
   "metadata": {},
   "source": [
    "## CNN from scratch"
   ]
  },
  {
   "cell_type": "code",
   "execution_count": null,
   "id": "1961211c",
   "metadata": {},
   "outputs": [],
   "source": [
    "model = models.Sequential()\n",
    "model.add(layers.Conv2D(32, (3, 3), activation='relu',\n",
    "                        input_shape=(150, 150, 3)))\n",
    "model.add(layers.MaxPooling2D((2, 2)))\n",
    "model.add(layers.Conv2D(64, (3, 3), activation='relu'))\n",
    "model.add(layers.MaxPooling2D((2, 2)))\n",
    "model.add(layers.Conv2D(128, (3, 3), activation='relu'))\n",
    "model.add(layers.MaxPooling2D((2, 2)))\n",
    "model.add(layers.Conv2D(128, (3, 3), activation='relu'))\n",
    "model.add(layers.MaxPooling2D((2, 2)))\n",
    "model.add(layers.Flatten())\n",
    "model.add(layers.Dense(512, activation='relu'))\n",
    "model.add(layers.Dense(1, activation='sigmoid'))\n",
    "\n",
    "\n",
    "model.compile(loss='binary_crossentropy',\n",
    "              optimizer=optimizers.RMSprop(learning_rate=1e-4),\n",
    "              metrics=['acc'])"
   ]
  },
  {
   "cell_type": "markdown",
   "id": "7ded5074",
   "metadata": {},
   "source": [
    "## Tuning models- pipeline stuff- keras wrapper?"
   ]
  },
  {
   "cell_type": "code",
   "execution_count": null,
   "id": "6bea01db",
   "metadata": {},
   "outputs": [],
   "source": [
    "def create_baseline_model():\n",
    "    \n",
    "    # Initialize model\n",
    "    model = models.Sequential()\n",
    "\n",
    "    # First hidden layer\n",
    "    model.add(layers.Dense(10, activation='relu', input_shape=(n_features,)))\n",
    "\n",
    "    # Second hidden layer\n",
    "    model.add(layers.Dense(5, activation='relu'))\n",
    "\n",
    "    # Output layer\n",
    "    model.add(layers.Dense(1, activation='linear'))\n",
    "\n",
    "    # Compile the model\n",
    "    model.compile(optimizer='SGD', \n",
    "                  loss='mse',  \n",
    "                  metrics=['mse']) \n",
    "    \n",
    "    # Return the compiled model\n",
    "    return model"
   ]
  },
  {
   "cell_type": "code",
   "execution_count": null,
   "id": "2aa345e5",
   "metadata": {},
   "outputs": [],
   "source": [
    "\"\"\"keras_wrapper_1 = KerasRegressor(create_baseline_model,  \n",
    "                                 epochs=150, \n",
    "                                 batch_size=256, \n",
    "                                 verbose=0)\"\"\""
   ]
  },
  {
   "cell_type": "markdown",
   "id": "248faa9c",
   "metadata": {},
   "source": [
    "### intermediate activation functions"
   ]
  },
  {
   "cell_type": "markdown",
   "id": "fdcc70b8",
   "metadata": {},
   "source": [
    "### display img"
   ]
  },
  {
   "cell_type": "code",
   "execution_count": 53,
   "id": "ac8a19a2",
   "metadata": {},
   "outputs": [
    {
     "data": {
      "image/png": "[encoded data removed]",
      "text/plain": [
       "<Figure size 640x480 with 1 Axes>"
      ]
     },
     "metadata": {},
     "output_type": "display_data"
    }
   ],
   "source": [
    "plt.imshow(train_images[0])\n",
    "plt.show()\n",
    "\n",
    "\n"
   ]
  },
  {
   "cell_type": "code",
   "execution_count": 54,
   "id": "e00cb10f",
   "metadata": {},
   "outputs": [
    {
     "data": {
      "image/png": "[encoded data removed]",
      "text/plain": [
       "<Figure size 640x480 with 1 Axes>"
      ]
     },
     "metadata": {},
     "output_type": "display_data"
    }
   ],
   "source": [
    "\n",
    "plt.imshow(test_images[0])\n",
    "plt.show()\n"
   ]
  },
  {
   "cell_type": "markdown",
   "id": "c4055112",
   "metadata": {},
   "source": [
    "## visualize layers"
   ]
  },
  {
   "cell_type": "code",
   "execution_count": 59,
   "id": "0033d2c3",
   "metadata": {},
   "outputs": [
    {
     "name": "stdout",
     "output_type": "stream",
     "text": [
      "Model: \"sequential_8\"\n",
      "_________________________________________________________________\n",
      " Layer (type)                Output Shape              Param #   \n",
      "=================================================================\n",
      " dense_26 (Dense)            (None, 256)               3145984   \n",
      "                                                                 \n",
      " dense_27 (Dense)            (None, 5)                 1285      \n",
      "                                                                 \n",
      "=================================================================\n",
      "Total params: 3147269 (12.01 MB)\n",
      "Trainable params: 3147269 (12.01 MB)\n",
      "Non-trainable params: 0 (0.00 Byte)\n",
      "_________________________________________________________________\n"
     ]
    }
   ],
   "source": [
    "layer_outputs = [layer.output for layer in model_1.layers[:8]]\n",
    "\n",
    "# Rather then a model with a single output, we are going to make a model to display the feature maps\n",
    "activation_model = models.Model(inputs=model_1.input, outputs=layer_outputs)\n",
    "\n",
    "model_1.summary()"
   ]
  },
  {
   "cell_type": "markdown",
   "id": "75aa3a1f",
   "metadata": {},
   "source": []
  },
  {
   "cell_type": "code",
   "execution_count": 58,
   "id": "e1b405fe",
   "metadata": {},
   "outputs": [
    {
     "ename": "NameError",
     "evalue": "name 'activation_model' is not defined",
     "output_type": "error",
     "traceback": [
      "\u001b[1;31m---------------------------------------------------------------------------\u001b[0m",
      "\u001b[1;31mNameError\u001b[0m                                 Traceback (most recent call last)",
      "\u001b[1;32m~\\AppData\\Local\\Temp\\ipykernel_4964\\400607622.py\u001b[0m in \u001b[0;36m<module>\u001b[1;34m\u001b[0m\n\u001b[0;32m      1\u001b[0m \u001b[1;31m# Returns an array for each activation layer\u001b[0m\u001b[1;33m\u001b[0m\u001b[1;33m\u001b[0m\u001b[0m\n\u001b[1;32m----> 2\u001b[1;33m \u001b[0mactivations\u001b[0m \u001b[1;33m=\u001b[0m \u001b[0mactivation_model\u001b[0m\u001b[1;33m.\u001b[0m\u001b[0mpredict\u001b[0m\u001b[1;33m(\u001b[0m\u001b[0mtrain_images\u001b[0m\u001b[1;33m)\u001b[0m\u001b[1;33m\u001b[0m\u001b[1;33m\u001b[0m\u001b[0m\n\u001b[0m\u001b[0;32m      3\u001b[0m \u001b[1;33m\u001b[0m\u001b[0m\n\u001b[0;32m      4\u001b[0m \u001b[0mfirst_layer_activation\u001b[0m \u001b[1;33m=\u001b[0m \u001b[0mactivations\u001b[0m\u001b[1;33m[\u001b[0m\u001b[1;36m0\u001b[0m\u001b[1;33m]\u001b[0m\u001b[1;33m\u001b[0m\u001b[1;33m\u001b[0m\u001b[0m\n\u001b[0;32m      5\u001b[0m \u001b[0mprint\u001b[0m\u001b[1;33m(\u001b[0m\u001b[0mfirst_layer_activation\u001b[0m\u001b[1;33m.\u001b[0m\u001b[0mshape\u001b[0m\u001b[1;33m)\u001b[0m\u001b[1;33m\u001b[0m\u001b[1;33m\u001b[0m\u001b[0m\n",
      "\u001b[1;31mNameError\u001b[0m: name 'activation_model' is not defined"
     ]
    }
   ],
   "source": [
    "# Returns an array for each activation layer\n",
    "activations = activation_model.predict(train_images)\n",
    "\n",
    "first_layer_activation = activations[0]\n",
    "print(first_layer_activation.shape)\n",
    "\n",
    "# We slice the third channel and preview the results\n",
    "plt.matshow(first_layer_activation[0, :, :, 3], cmap='viridis')\n",
    "plt.show()"
   ]
  },
  {
   "cell_type": "markdown",
   "id": "61499c8c",
   "metadata": {},
   "source": [
    "## channel 30"
   ]
  },
  {
   "cell_type": "code",
   "execution_count": null,
   "id": "5c208a15",
   "metadata": {},
   "outputs": [],
   "source": [
    "# Repeating the process for another channel (the 30th)\n",
    "activations = activation_model.predict(img_tensor)\n",
    "\n",
    "first_layer_activation = activations[0]\n",
    "print(first_layer_activation.shape)\n",
    "\n",
    "plt.matshow(first_layer_activation[0, :, :, 30], cmap='viridis')\n",
    "plt.show()"
   ]
  },
  {
   "cell_type": "markdown",
   "id": "92210ce5",
   "metadata": {},
   "source": [
    "## channel i"
   ]
  },
  {
   "cell_type": "code",
   "execution_count": null,
   "id": "2dfab0fc",
   "metadata": {},
   "outputs": [],
   "source": [
    "fig, axes = plt.subplots(8, 4, figsize=(12,24))\n",
    "for i in range(32):\n",
    "    row = i//4\n",
    "    column = i%4\n",
    "    ax = axes[row, column]\n",
    "    first_layer_activation = activations[0]\n",
    "    ax.matshow(first_layer_activation[0, :, :, i], cmap='viridis')"
   ]
  },
  {
   "cell_type": "markdown",
   "id": "54e80622",
   "metadata": {},
   "source": [
    "### channel 29 for every layer"
   ]
  },
  {
   "cell_type": "code",
   "execution_count": null,
   "id": "9833431e",
   "metadata": {},
   "outputs": [],
   "source": [
    "fig, axes = plt.subplots(2,4, figsize=(12,8))\n",
    "\n",
    "layer_names = []\n",
    "for layer in model.layers[:8]:\n",
    "    layer_names.append(layer.name)\n",
    "\n",
    "for i in range(8):\n",
    "    row = i//4\n",
    "    column = i%4\n",
    "    ax = axes[row, column]\n",
    "    cur_layer = activations[i]\n",
    "    ax.matshow(cur_layer[0, :, :, 29], cmap='viridis')\n",
    "    ax.xaxis.set_ticks_position('bottom')\n",
    "    ax.set_title(layer_names[i])"
   ]
  },
  {
   "cell_type": "markdown",
   "id": "01e72234",
   "metadata": {},
   "source": [
    "### viz act lab - plot feature maps"
   ]
  },
  {
   "cell_type": "code",
   "execution_count": null,
   "id": "a5691c47",
   "metadata": {},
   "outputs": [],
   "source": [
    "# Extract model layer outputs\n",
    "layer_outputs = [layer.output for layer in model.layers[:8]]\n",
    "\n",
    "# Create a model for displaying the feature maps\n",
    "activation_model = models.Model(inputs=model.input, outputs=layer_outputs)\n",
    "\n",
    "activations = activation_model.predict(img_tensor)\n",
    "\n",
    "# Extract Layer Names for Labelling\n",
    "layer_names = []\n",
    "for layer in model.layers[:8]:\n",
    "    layer_names.append(layer.name)\n",
    "\n",
    "total_features = sum([a.shape[-1] for a in activations])\n",
    "total_features\n",
    "\n",
    "n_cols = 16\n",
    "n_rows = math.ceil(total_features / n_cols)\n",
    "\n",
    "\n",
    "iteration = 0\n",
    "fig , axes = plt.subplots(nrows=n_rows, ncols=n_cols, figsize=(n_cols, n_rows*1.5))\n",
    "\n",
    "for layer_n, layer_activation in enumerate(activations):\n",
    "    n_channels = layer_activation.shape[-1]\n",
    "    for ch_idx in range(n_channels):\n",
    "        row = iteration // n_cols\n",
    "        column = iteration % n_cols\n",
    "    \n",
    "        ax = axes[row, column]\n",
    "\n",
    "        channel_image = layer_activation[0,\n",
    "                                         :, :,\n",
    "                                         ch_idx]\n",
    "        # Post-process the feature to make it visually palatable\n",
    "        channel_image -= channel_image.mean()\n",
    "        channel_image /= channel_image.std() \n",
    "        channel_image *= 64\n",
    "        channel_image += 128\n",
    "        channel_image = np.clip(channel_image, 0, 255).astype('uint8')\n",
    "\n",
    "        ax.imshow(channel_image, aspect='auto', cmap='viridis')\n",
    "        ax.get_xaxis().set_ticks([])\n",
    "        ax.get_yaxis().set_ticks([])\n",
    "        \n",
    "        if ch_idx == 0:\n",
    "            ax.set_title(layer_names[layer_n], fontsize=10)\n",
    "        iteration += 1\n",
    "\n",
    "fig.subplots_adjust(hspace=1.25)\n",
    "plt.savefig('Intermediate_Activations_Visualized.pdf')\n",
    "plt.show()"
   ]
  },
  {
   "cell_type": "markdown",
   "id": "f698bfeb",
   "metadata": {},
   "source": [
    "## Early stopping tuning-neural-networks-with-regularization-lab"
   ]
  },
  {
   "cell_type": "code",
   "execution_count": null,
   "id": "7cec531e",
   "metadata": {},
   "outputs": [],
   "source": [
    "# Import EarlyStopping and ModelCheckpoint\n",
    "from keras.callbacks import EarlyStopping, ModelCheckpoint\n",
    "\n",
    "# Define the callbacks\n",
    "early_stopping = [EarlyStopping(monitor='val_loss', patience=10), \n",
    "                  ModelCheckpoint(filepath='best_model.h5', monitor='val_loss', save_best_only=True)]"
   ]
  },
  {
   "cell_type": "code",
   "execution_count": null,
   "id": "d04c257a",
   "metadata": {},
   "outputs": [],
   "source": [
    "#train\n",
    "model_2_val = model_2.fit(X_train_tokens, \n",
    "                          y_train_lb, \n",
    "                          epochs=150, \n",
    "                          callbacks=early_stopping, \n",
    "                          batch_size=256, \n",
    "                          validation_data=(X_val_tokens, y_val_lb))\n",
    "# eval\n",
    "results_train = saved_model.evaluate(X_train_tokens, y_train_lb)\n"
   ]
  },
  {
   "cell_type": "markdown",
   "id": "8d28ef64",
   "metadata": {},
   "source": [
    "## L2 reg."
   ]
  },
  {
   "cell_type": "code",
   "execution_count": null,
   "id": "7a891aea",
   "metadata": {},
   "outputs": [],
   "source": [
    "# Import regularizers\n",
    "from keras import regularizers\n",
    "random.seed(123)\n",
    "L2_model = models.Sequential()\n",
    "\n",
    "# Add the input and first hidden layer\n",
    "L2_model.add(layers.Dense(50, activation='relu', kernel_regularizer=regularizers.l2(0.005), input_shape=(2000,)))\n",
    "\n",
    "# Add another hidden layer\n",
    "L2_model.add(layers.Dense(25, kernel_regularizer=regularizers.l2(0.005), activation='relu'))\n",
    "\n",
    "# Add an output layer\n",
    "L2_model.add(layers.Dense(7, activation='softmax'))\n",
    "\n",
    "# Compile the model\n",
    "L2_model.compile(optimizer='SGD', \n",
    "                 loss='categorical_crossentropy', \n",
    "                 metrics=['acc'])\n",
    "\n",
    "# Train the model \n",
    "L2_model_val = L2_model.fit(X_train_tokens, \n",
    "                            y_train_lb, \n",
    "                            epochs=150, \n",
    "                            batch_size=256, \n",
    "                            validation_data=(X_val_tokens, y_val_lb))"
   ]
  },
  {
   "cell_type": "markdown",
   "id": "38d81cbb",
   "metadata": {},
   "source": [
    "## L1 reg"
   ]
  },
  {
   "cell_type": "code",
   "execution_count": null,
   "id": "121eb388",
   "metadata": {},
   "outputs": [],
   "source": [
    "random.seed(123)\n",
    "L1_model = models.Sequential()\n",
    "\n",
    "# Add the input and first hidden layer\n",
    "L1_model.add(layers.Dense(50, activation='relu', kernel_regularizer=regularizers.l1(0.005), input_shape=(2000,)))\n",
    "\n",
    "# Add a hidden layer\n",
    "L1_model.add(layers.Dense(25, kernel_regularizer=regularizers.l1(0.005), activation='relu'))\n",
    "\n",
    "# Add an output layer\n",
    "L1_model.add(layers.Dense(7, activation='softmax'))\n",
    "\n",
    "# Compile the model\n",
    "L1_model.compile(optimizer='SGD', \n",
    "                 loss='categorical_crossentropy', \n",
    "                 metrics=['acc'])\n",
    "\n",
    "# Train the model \n",
    "L1_model_val = L1_model.fit(X_train_tokens, \n",
    "                            y_train_lb, \n",
    "                            epochs=150, \n",
    "                            batch_size=256, \n",
    "                            validation_data=(X_val_tokens, y_val_lb))"
   ]
  },
  {
   "cell_type": "markdown",
   "id": "0773ce93",
   "metadata": {},
   "source": [
    "## dropout reg"
   ]
  },
  {
   "cell_type": "code",
   "execution_count": null,
   "id": "957c4852",
   "metadata": {},
   "outputs": [],
   "source": [
    "dropout_model = models.Sequential()\n",
    "\n",
    "# Implement dropout to the input layer\n",
    "# NOTE: This is where you define the number of units in the input layer\n",
    "dropout_model.add(layers.Dropout(0.3, input_shape=(2000,)))\n",
    "\n",
    "# Add the first hidden layer\n",
    "dropout_model.add(layers.Dense(50, activation='relu'))\n",
    "\n",
    "# Implement dropout to the first hidden layer \n",
    "dropout_model.add(layers.Dropout(0.3))\n",
    "\n",
    "# Add the second hidden layer\n",
    "dropout_model.add(layers.Dense(25, activation='relu'))\n",
    "\n",
    "# Implement dropout to the second hidden layer \n",
    "dropout_model.add(layers.Dropout(0.3))\n",
    "\n",
    "# Add the output layer\n",
    "dropout_model.add(layers.Dense(7, activation='softmax'))\n",
    "\n",
    "\n",
    "# Compile the model\n",
    "dropout_model.compile(optimizer='SGD', \n",
    "                      loss='categorical_crossentropy', \n",
    "                      metrics=['acc'])\n",
    "\n",
    "# Train the model\n",
    "dropout_model_val = dropout_model.fit(X_train_tokens, \n",
    "                                      y_train_lb, \n",
    "                                      epochs=150, \n",
    "                                      batch_size=256, \n",
    "                                      validation_data=(X_val_tokens, y_val_lb))"
   ]
  },
  {
   "cell_type": "markdown",
   "id": "20f4a599",
   "metadata": {},
   "source": [
    "## normalization tuning-neural-networks-with-normalization-lab"
   ]
  },
  {
   "cell_type": "code",
   "execution_count": null,
   "id": "e12def7f",
   "metadata": {},
   "outputs": [],
   "source": []
  }
 ],
 "metadata": {
  "kernelspec": {
   "display_name": "Python 3",
   "language": "python",
   "name": "python3"
  },
  "language_info": {
   "codemirror_mode": {
    "name": "ipython",
    "version": 3
   },
   "file_extension": ".py",
   "mimetype": "text/x-python",
   "name": "python",
   "nbconvert_exporter": "python",
   "pygments_lexer": "ipython3",
   "version": "3.9.13"
  }
 },
 "nbformat": 4,
 "nbformat_minor": 5
}
