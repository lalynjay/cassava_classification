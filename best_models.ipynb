{
 "cells": [
  {
   "cell_type": "code",
   "execution_count": 3,
   "id": "1e248e14",
   "metadata": {},
   "outputs": [
    {
     "name": "stdout",
     "output_type": "stream",
     "text": [
      "WARNING:tensorflow:From C:\\Users\\lalyn\\anaconda3\\lib\\site-packages\\keras\\src\\losses.py:2976: The name tf.losses.sparse_softmax_cross_entropy is deprecated. Please use tf.compat.v1.losses.sparse_softmax_cross_entropy instead.\n",
      "\n"
     ]
    }
   ],
   "source": [
    "# imports\n",
    "import pandas as pd\n",
    "import os\n",
    "import numpy as np\n",
    "import seaborn as sns\n",
    "import tensorflow as tf\n",
    "import matplotlib.pyplot as plt\n",
    "%matplotlib inline\n",
    "from keras import layers\n",
    "from keras import models\n",
    "from keras import regularizers\n",
    "from keras import optimizers\n",
    "from keras.preprocessing.image import ImageDataGenerator\n",
    "from tensorflow.keras.utils import array_to_img, img_to_array, load_img\n",
    "from sklearn.model_selection import train_test_split, GridSearchCV, cross_val_predict\n",
    "from sklearn.preprocessing import StandardScaler, OneHotEncoder, LabelBinarizer\n",
    "from sklearn.impute import SimpleImputer\n",
    "from sklearn.metrics import mean_squared_error\n",
    "from scikeras.wrappers import KerasClassifier, KerasRegressor\n",
    "from sklearn.metrics import classification_report\n",
    "import tensorflow.keras as keras\n",
    "import PIL.Image as Image\n",
    "import lime\n",
    "from keras.applications import ResNet50V2 \n",
    "\n",
    "\n",
    "#import tensorflow_addons as tfa\n",
    "#import tensorflow_datasets as tdfs"
   ]
  },
  {
   "cell_type": "markdown",
   "id": "cbfbf1c6",
   "metadata": {},
   "source": [
    "### Function to visualize model performance\n",
    "\n",
    "This function plots the loss and accuracy of both training and validation data across the epochs."
   ]
  },
  {
   "cell_type": "code",
   "execution_count": 4,
   "id": "b5c533bc",
   "metadata": {},
   "outputs": [],
   "source": [
    "def visualize_training_results(results):\n",
    "    history = results.history\n",
    "    plt.figure(figsize=(6, 4))\n",
    "    plt.plot(history['val_loss'])\n",
    "    plt.plot(history['loss'])\n",
    "    plt.legend(['val_loss', 'loss'])\n",
    "    plt.title('Loss')\n",
    "    plt.xlabel('Epochs')\n",
    "    plt.ylabel('Loss')\n",
    "    plt.show()\n",
    "    \n",
    "    plt.figure(figsize=(6, 4))\n",
    "    plt.plot(history['val_acc'])\n",
    "    plt.plot(history['acc'])\n",
    "    plt.legend(['val_acc', 'acc'])\n",
    "    plt.title('Accuracy')\n",
    "    plt.xlabel('Epochs')\n",
    "    plt.ylabel('Accuracy')\n",
    "    plt.show()\n"
   ]
  },
  {
   "cell_type": "markdown",
   "id": "22fcb140",
   "metadata": {},
   "source": [
    "### Preprocess images"
   ]
  },
  {
   "cell_type": "code",
   "execution_count": 13,
   "id": "9ca3c1a5",
   "metadata": {},
   "outputs": [
    {
     "name": "stdout",
     "output_type": "stream",
     "text": [
      "Found 1500 images belonging to 5 classes.\n"
     ]
    }
   ],
   "source": [
    "train_data_dir = 'data/short'\n",
    "\n",
    "# Get all the data in the directory data/train (790 images), and reshape them\n",
    "train_generator = ImageDataGenerator().flow_from_directory(\n",
    "        train_data_dir, \n",
    "        target_size=(128, 128), batch_size=1500)\n",
    "\n",
    "# Create the datasets\n",
    "train_images, y_train = next(train_generator)\n"
   ]
  },
  {
   "cell_type": "markdown",
   "id": "1d566775",
   "metadata": {},
   "source": [
    "#### preview image labels"
   ]
  },
  {
   "cell_type": "code",
   "execution_count": 14,
   "id": "b919fa33",
   "metadata": {},
   "outputs": [
    {
     "data": {
      "text/plain": [
       "array([[0., 0., 0., 0., 1.],\n",
       "       [0., 1., 0., 0., 0.],\n",
       "       [0., 1., 0., 0., 0.],\n",
       "       ...,\n",
       "       [0., 1., 0., 0., 0.],\n",
       "       [0., 0., 0., 1., 0.],\n",
       "       [0., 1., 0., 0., 0.]], dtype=float32)"
      ]
     },
     "execution_count": 14,
     "metadata": {},
     "output_type": "execute_result"
    }
   ],
   "source": [
    "y_train"
   ]
  },
  {
   "cell_type": "markdown",
   "id": "19de22c3",
   "metadata": {},
   "source": [
    "The labels are already in a format suited for modeling."
   ]
  },
  {
   "cell_type": "code",
   "execution_count": 15,
   "id": "177af419",
   "metadata": {},
   "outputs": [
    {
     "data": {
      "text/plain": [
       "array([0., 0., 1., 0., 0.], dtype=float32)"
      ]
     },
     "execution_count": 15,
     "metadata": {},
     "output_type": "execute_result"
    }
   ],
   "source": [
    "y_train[17]"
   ]
  },
  {
   "cell_type": "code",
   "execution_count": 16,
   "id": "10fb2f9f",
   "metadata": {},
   "outputs": [
    {
     "name": "stdout",
     "output_type": "stream",
     "text": [
      "(1500, 128, 128, 3)\n",
      "(1500, 5)\n"
     ]
    }
   ],
   "source": [
    "# preview shape\n",
    "print(np.shape(train_images))\n",
    "print(np.shape(y_train))"
   ]
  },
  {
   "cell_type": "markdown",
   "id": "26a01b13",
   "metadata": {},
   "source": [
    "### reshape images\n",
    "\n",
    "The images must be reshaped into a tensor before being input into a neural network model."
   ]
  },
  {
   "cell_type": "code",
   "execution_count": 17,
   "id": "367f1f21",
   "metadata": {},
   "outputs": [
    {
     "name": "stdout",
     "output_type": "stream",
     "text": [
      "(1500, 49152)\n"
     ]
    }
   ],
   "source": [
    "train_img_unrow = train_images.reshape(1500, -1)#.astype(uint8)\n",
    "\n",
    "# Preview the shape of train_img_unrow\n",
    "print(np.shape(train_img_unrow))"
   ]
  },
  {
   "cell_type": "markdown",
   "id": "54c5135b",
   "metadata": {},
   "source": [
    "#### normalize pixel values"
   ]
  },
  {
   "cell_type": "code",
   "execution_count": 18,
   "id": "88b27d65",
   "metadata": {},
   "outputs": [],
   "source": [
    "train_img_unrow /= 255."
   ]
  },
  {
   "cell_type": "markdown",
   "id": "53210743",
   "metadata": {},
   "source": [
    "# Binary labeling\n",
    "\n",
    "Label the data as belonging to one of 2 classes, healthy or diseased."
   ]
  },
  {
   "cell_type": "code",
   "execution_count": 19,
   "id": "45d5cb0c",
   "metadata": {},
   "outputs": [
    {
     "data": {
      "text/html": [
       "<div>\n",
       "<style scoped>\n",
       "    .dataframe tbody tr th:only-of-type {\n",
       "        vertical-align: middle;\n",
       "    }\n",
       "\n",
       "    .dataframe tbody tr th {\n",
       "        vertical-align: top;\n",
       "    }\n",
       "\n",
       "    .dataframe thead th {\n",
       "        text-align: right;\n",
       "    }\n",
       "</style>\n",
       "<table border=\"1\" class=\"dataframe\">\n",
       "  <thead>\n",
       "    <tr style=\"text-align: right;\">\n",
       "      <th></th>\n",
       "      <th>0</th>\n",
       "      <th>1</th>\n",
       "      <th>2</th>\n",
       "      <th>3</th>\n",
       "      <th>4</th>\n",
       "    </tr>\n",
       "  </thead>\n",
       "  <tbody>\n",
       "    <tr>\n",
       "      <th>0</th>\n",
       "      <td>0.0</td>\n",
       "      <td>0.0</td>\n",
       "      <td>0.0</td>\n",
       "      <td>0.0</td>\n",
       "      <td>1.0</td>\n",
       "    </tr>\n",
       "    <tr>\n",
       "      <th>1</th>\n",
       "      <td>0.0</td>\n",
       "      <td>1.0</td>\n",
       "      <td>0.0</td>\n",
       "      <td>0.0</td>\n",
       "      <td>0.0</td>\n",
       "    </tr>\n",
       "    <tr>\n",
       "      <th>2</th>\n",
       "      <td>0.0</td>\n",
       "      <td>1.0</td>\n",
       "      <td>0.0</td>\n",
       "      <td>0.0</td>\n",
       "      <td>0.0</td>\n",
       "    </tr>\n",
       "    <tr>\n",
       "      <th>3</th>\n",
       "      <td>1.0</td>\n",
       "      <td>0.0</td>\n",
       "      <td>0.0</td>\n",
       "      <td>0.0</td>\n",
       "      <td>0.0</td>\n",
       "    </tr>\n",
       "    <tr>\n",
       "      <th>4</th>\n",
       "      <td>0.0</td>\n",
       "      <td>1.0</td>\n",
       "      <td>0.0</td>\n",
       "      <td>0.0</td>\n",
       "      <td>0.0</td>\n",
       "    </tr>\n",
       "    <tr>\n",
       "      <th>...</th>\n",
       "      <td>...</td>\n",
       "      <td>...</td>\n",
       "      <td>...</td>\n",
       "      <td>...</td>\n",
       "      <td>...</td>\n",
       "    </tr>\n",
       "    <tr>\n",
       "      <th>1495</th>\n",
       "      <td>0.0</td>\n",
       "      <td>0.0</td>\n",
       "      <td>0.0</td>\n",
       "      <td>1.0</td>\n",
       "      <td>0.0</td>\n",
       "    </tr>\n",
       "    <tr>\n",
       "      <th>1496</th>\n",
       "      <td>0.0</td>\n",
       "      <td>1.0</td>\n",
       "      <td>0.0</td>\n",
       "      <td>0.0</td>\n",
       "      <td>0.0</td>\n",
       "    </tr>\n",
       "    <tr>\n",
       "      <th>1497</th>\n",
       "      <td>0.0</td>\n",
       "      <td>1.0</td>\n",
       "      <td>0.0</td>\n",
       "      <td>0.0</td>\n",
       "      <td>0.0</td>\n",
       "    </tr>\n",
       "    <tr>\n",
       "      <th>1498</th>\n",
       "      <td>0.0</td>\n",
       "      <td>0.0</td>\n",
       "      <td>0.0</td>\n",
       "      <td>1.0</td>\n",
       "      <td>0.0</td>\n",
       "    </tr>\n",
       "    <tr>\n",
       "      <th>1499</th>\n",
       "      <td>0.0</td>\n",
       "      <td>1.0</td>\n",
       "      <td>0.0</td>\n",
       "      <td>0.0</td>\n",
       "      <td>0.0</td>\n",
       "    </tr>\n",
       "  </tbody>\n",
       "</table>\n",
       "<p>1500 rows × 5 columns</p>\n",
       "</div>"
      ],
      "text/plain": [
       "        0    1    2    3    4\n",
       "0     0.0  0.0  0.0  0.0  1.0\n",
       "1     0.0  1.0  0.0  0.0  0.0\n",
       "2     0.0  1.0  0.0  0.0  0.0\n",
       "3     1.0  0.0  0.0  0.0  0.0\n",
       "4     0.0  1.0  0.0  0.0  0.0\n",
       "...   ...  ...  ...  ...  ...\n",
       "1495  0.0  0.0  0.0  1.0  0.0\n",
       "1496  0.0  1.0  0.0  0.0  0.0\n",
       "1497  0.0  1.0  0.0  0.0  0.0\n",
       "1498  0.0  0.0  0.0  1.0  0.0\n",
       "1499  0.0  1.0  0.0  0.0  0.0\n",
       "\n",
       "[1500 rows x 5 columns]"
      ]
     },
     "execution_count": 19,
     "metadata": {},
     "output_type": "execute_result"
    }
   ],
   "source": [
    "# make dataframe and preview\n",
    "df = pd.DataFrame(y_train)\n",
    "df"
   ]
  },
  {
   "cell_type": "code",
   "execution_count": 20,
   "id": "13482ee6",
   "metadata": {},
   "outputs": [
    {
     "data": {
      "text/html": [
       "<div>\n",
       "<style scoped>\n",
       "    .dataframe tbody tr th:only-of-type {\n",
       "        vertical-align: middle;\n",
       "    }\n",
       "\n",
       "    .dataframe tbody tr th {\n",
       "        vertical-align: top;\n",
       "    }\n",
       "\n",
       "    .dataframe thead th {\n",
       "        text-align: right;\n",
       "    }\n",
       "</style>\n",
       "<table border=\"1\" class=\"dataframe\">\n",
       "  <thead>\n",
       "    <tr style=\"text-align: right;\">\n",
       "      <th></th>\n",
       "      <th>0</th>\n",
       "      <th>1</th>\n",
       "      <th>2</th>\n",
       "      <th>3</th>\n",
       "      <th>4</th>\n",
       "    </tr>\n",
       "  </thead>\n",
       "  <tbody>\n",
       "    <tr>\n",
       "      <th>0</th>\n",
       "      <td>0.0</td>\n",
       "      <td>0.0</td>\n",
       "      <td>0.0</td>\n",
       "      <td>0.0</td>\n",
       "      <td>1.0</td>\n",
       "    </tr>\n",
       "    <tr>\n",
       "      <th>1</th>\n",
       "      <td>0.0</td>\n",
       "      <td>1.0</td>\n",
       "      <td>0.0</td>\n",
       "      <td>0.0</td>\n",
       "      <td>0.0</td>\n",
       "    </tr>\n",
       "    <tr>\n",
       "      <th>2</th>\n",
       "      <td>0.0</td>\n",
       "      <td>1.0</td>\n",
       "      <td>0.0</td>\n",
       "      <td>0.0</td>\n",
       "      <td>0.0</td>\n",
       "    </tr>\n",
       "    <tr>\n",
       "      <th>3</th>\n",
       "      <td>1.0</td>\n",
       "      <td>0.0</td>\n",
       "      <td>0.0</td>\n",
       "      <td>0.0</td>\n",
       "      <td>0.0</td>\n",
       "    </tr>\n",
       "    <tr>\n",
       "      <th>4</th>\n",
       "      <td>0.0</td>\n",
       "      <td>1.0</td>\n",
       "      <td>0.0</td>\n",
       "      <td>0.0</td>\n",
       "      <td>0.0</td>\n",
       "    </tr>\n",
       "    <tr>\n",
       "      <th>...</th>\n",
       "      <td>...</td>\n",
       "      <td>...</td>\n",
       "      <td>...</td>\n",
       "      <td>...</td>\n",
       "      <td>...</td>\n",
       "    </tr>\n",
       "    <tr>\n",
       "      <th>1495</th>\n",
       "      <td>0.0</td>\n",
       "      <td>0.0</td>\n",
       "      <td>0.0</td>\n",
       "      <td>1.0</td>\n",
       "      <td>0.0</td>\n",
       "    </tr>\n",
       "    <tr>\n",
       "      <th>1496</th>\n",
       "      <td>0.0</td>\n",
       "      <td>1.0</td>\n",
       "      <td>0.0</td>\n",
       "      <td>0.0</td>\n",
       "      <td>0.0</td>\n",
       "    </tr>\n",
       "    <tr>\n",
       "      <th>1497</th>\n",
       "      <td>0.0</td>\n",
       "      <td>1.0</td>\n",
       "      <td>0.0</td>\n",
       "      <td>0.0</td>\n",
       "      <td>0.0</td>\n",
       "    </tr>\n",
       "    <tr>\n",
       "      <th>1498</th>\n",
       "      <td>0.0</td>\n",
       "      <td>0.0</td>\n",
       "      <td>0.0</td>\n",
       "      <td>1.0</td>\n",
       "      <td>0.0</td>\n",
       "    </tr>\n",
       "    <tr>\n",
       "      <th>1499</th>\n",
       "      <td>0.0</td>\n",
       "      <td>1.0</td>\n",
       "      <td>0.0</td>\n",
       "      <td>0.0</td>\n",
       "      <td>0.0</td>\n",
       "    </tr>\n",
       "  </tbody>\n",
       "</table>\n",
       "<p>1500 rows × 5 columns</p>\n",
       "</div>"
      ],
      "text/plain": [
       "        0    1    2    3    4\n",
       "0     0.0  0.0  0.0  0.0  1.0\n",
       "1     0.0  1.0  0.0  0.0  0.0\n",
       "2     0.0  1.0  0.0  0.0  0.0\n",
       "3     1.0  0.0  0.0  0.0  0.0\n",
       "4     0.0  1.0  0.0  0.0  0.0\n",
       "...   ...  ...  ...  ...  ...\n",
       "1495  0.0  0.0  0.0  1.0  0.0\n",
       "1496  0.0  1.0  0.0  0.0  0.0\n",
       "1497  0.0  1.0  0.0  0.0  0.0\n",
       "1498  0.0  0.0  0.0  1.0  0.0\n",
       "1499  0.0  1.0  0.0  0.0  0.0\n",
       "\n",
       "[1500 rows x 5 columns]"
      ]
     },
     "execution_count": 20,
     "metadata": {},
     "output_type": "execute_result"
    }
   ],
   "source": [
    "# copy the dataframe\n",
    "new=df.copy()\n",
    "\n",
    "new\n"
   ]
  },
  {
   "cell_type": "code",
   "execution_count": 21,
   "id": "8a7156ef",
   "metadata": {},
   "outputs": [
    {
     "data": {
      "text/html": [
       "<div>\n",
       "<style scoped>\n",
       "    .dataframe tbody tr th:only-of-type {\n",
       "        vertical-align: middle;\n",
       "    }\n",
       "\n",
       "    .dataframe tbody tr th {\n",
       "        vertical-align: top;\n",
       "    }\n",
       "\n",
       "    .dataframe thead th {\n",
       "        text-align: right;\n",
       "    }\n",
       "</style>\n",
       "<table border=\"1\" class=\"dataframe\">\n",
       "  <thead>\n",
       "    <tr style=\"text-align: right;\">\n",
       "      <th></th>\n",
       "      <th>0</th>\n",
       "      <th>1</th>\n",
       "      <th>2</th>\n",
       "      <th>3</th>\n",
       "      <th>4</th>\n",
       "      <th>Healthy</th>\n",
       "      <th>Diseased</th>\n",
       "    </tr>\n",
       "  </thead>\n",
       "  <tbody>\n",
       "    <tr>\n",
       "      <th>0</th>\n",
       "      <td>0.0</td>\n",
       "      <td>0.0</td>\n",
       "      <td>0.0</td>\n",
       "      <td>0.0</td>\n",
       "      <td>1.0</td>\n",
       "      <td>1.0</td>\n",
       "      <td>0.0</td>\n",
       "    </tr>\n",
       "    <tr>\n",
       "      <th>1</th>\n",
       "      <td>0.0</td>\n",
       "      <td>1.0</td>\n",
       "      <td>0.0</td>\n",
       "      <td>0.0</td>\n",
       "      <td>0.0</td>\n",
       "      <td>0.0</td>\n",
       "      <td>1.0</td>\n",
       "    </tr>\n",
       "    <tr>\n",
       "      <th>2</th>\n",
       "      <td>0.0</td>\n",
       "      <td>1.0</td>\n",
       "      <td>0.0</td>\n",
       "      <td>0.0</td>\n",
       "      <td>0.0</td>\n",
       "      <td>0.0</td>\n",
       "      <td>1.0</td>\n",
       "    </tr>\n",
       "    <tr>\n",
       "      <th>3</th>\n",
       "      <td>1.0</td>\n",
       "      <td>0.0</td>\n",
       "      <td>0.0</td>\n",
       "      <td>0.0</td>\n",
       "      <td>0.0</td>\n",
       "      <td>0.0</td>\n",
       "      <td>1.0</td>\n",
       "    </tr>\n",
       "    <tr>\n",
       "      <th>4</th>\n",
       "      <td>0.0</td>\n",
       "      <td>1.0</td>\n",
       "      <td>0.0</td>\n",
       "      <td>0.0</td>\n",
       "      <td>0.0</td>\n",
       "      <td>0.0</td>\n",
       "      <td>1.0</td>\n",
       "    </tr>\n",
       "    <tr>\n",
       "      <th>...</th>\n",
       "      <td>...</td>\n",
       "      <td>...</td>\n",
       "      <td>...</td>\n",
       "      <td>...</td>\n",
       "      <td>...</td>\n",
       "      <td>...</td>\n",
       "      <td>...</td>\n",
       "    </tr>\n",
       "    <tr>\n",
       "      <th>1495</th>\n",
       "      <td>0.0</td>\n",
       "      <td>0.0</td>\n",
       "      <td>0.0</td>\n",
       "      <td>1.0</td>\n",
       "      <td>0.0</td>\n",
       "      <td>0.0</td>\n",
       "      <td>1.0</td>\n",
       "    </tr>\n",
       "    <tr>\n",
       "      <th>1496</th>\n",
       "      <td>0.0</td>\n",
       "      <td>1.0</td>\n",
       "      <td>0.0</td>\n",
       "      <td>0.0</td>\n",
       "      <td>0.0</td>\n",
       "      <td>0.0</td>\n",
       "      <td>1.0</td>\n",
       "    </tr>\n",
       "    <tr>\n",
       "      <th>1497</th>\n",
       "      <td>0.0</td>\n",
       "      <td>1.0</td>\n",
       "      <td>0.0</td>\n",
       "      <td>0.0</td>\n",
       "      <td>0.0</td>\n",
       "      <td>0.0</td>\n",
       "      <td>1.0</td>\n",
       "    </tr>\n",
       "    <tr>\n",
       "      <th>1498</th>\n",
       "      <td>0.0</td>\n",
       "      <td>0.0</td>\n",
       "      <td>0.0</td>\n",
       "      <td>1.0</td>\n",
       "      <td>0.0</td>\n",
       "      <td>0.0</td>\n",
       "      <td>1.0</td>\n",
       "    </tr>\n",
       "    <tr>\n",
       "      <th>1499</th>\n",
       "      <td>0.0</td>\n",
       "      <td>1.0</td>\n",
       "      <td>0.0</td>\n",
       "      <td>0.0</td>\n",
       "      <td>0.0</td>\n",
       "      <td>0.0</td>\n",
       "      <td>1.0</td>\n",
       "    </tr>\n",
       "  </tbody>\n",
       "</table>\n",
       "<p>1500 rows × 7 columns</p>\n",
       "</div>"
      ],
      "text/plain": [
       "        0    1    2    3    4  Healthy  Diseased\n",
       "0     0.0  0.0  0.0  0.0  1.0      1.0       0.0\n",
       "1     0.0  1.0  0.0  0.0  0.0      0.0       1.0\n",
       "2     0.0  1.0  0.0  0.0  0.0      0.0       1.0\n",
       "3     1.0  0.0  0.0  0.0  0.0      0.0       1.0\n",
       "4     0.0  1.0  0.0  0.0  0.0      0.0       1.0\n",
       "...   ...  ...  ...  ...  ...      ...       ...\n",
       "1495  0.0  0.0  0.0  1.0  0.0      0.0       1.0\n",
       "1496  0.0  1.0  0.0  0.0  0.0      0.0       1.0\n",
       "1497  0.0  1.0  0.0  0.0  0.0      0.0       1.0\n",
       "1498  0.0  0.0  0.0  1.0  0.0      0.0       1.0\n",
       "1499  0.0  1.0  0.0  0.0  0.0      0.0       1.0\n",
       "\n",
       "[1500 rows x 7 columns]"
      ]
     },
     "execution_count": 21,
     "metadata": {},
     "output_type": "execute_result"
    }
   ],
   "source": [
    "new.loc[new[4]==1,\"Healthy\"]=1\n",
    "new.loc[new[4]==0,\"Healthy\"]=0\n",
    "new.loc[new[4]==1,\"Diseased\"]=0\n",
    "new.loc[new[4]==0,\"Diseased\"]=1\n",
    "new"
   ]
  },
  {
   "cell_type": "code",
   "execution_count": 22,
   "id": "9fd8a23c",
   "metadata": {},
   "outputs": [],
   "source": [
    "new.drop([0, 1, 2, 3, 4], axis=1, inplace=True)"
   ]
  },
  {
   "cell_type": "code",
   "execution_count": 23,
   "id": "b69f6dc8",
   "metadata": {},
   "outputs": [
    {
     "data": {
      "text/html": [
       "<div>\n",
       "<style scoped>\n",
       "    .dataframe tbody tr th:only-of-type {\n",
       "        vertical-align: middle;\n",
       "    }\n",
       "\n",
       "    .dataframe tbody tr th {\n",
       "        vertical-align: top;\n",
       "    }\n",
       "\n",
       "    .dataframe thead th {\n",
       "        text-align: right;\n",
       "    }\n",
       "</style>\n",
       "<table border=\"1\" class=\"dataframe\">\n",
       "  <thead>\n",
       "    <tr style=\"text-align: right;\">\n",
       "      <th></th>\n",
       "      <th>Healthy</th>\n",
       "      <th>Diseased</th>\n",
       "    </tr>\n",
       "  </thead>\n",
       "  <tbody>\n",
       "    <tr>\n",
       "      <th>1495</th>\n",
       "      <td>0.0</td>\n",
       "      <td>1.0</td>\n",
       "    </tr>\n",
       "    <tr>\n",
       "      <th>1496</th>\n",
       "      <td>0.0</td>\n",
       "      <td>1.0</td>\n",
       "    </tr>\n",
       "    <tr>\n",
       "      <th>1497</th>\n",
       "      <td>0.0</td>\n",
       "      <td>1.0</td>\n",
       "    </tr>\n",
       "    <tr>\n",
       "      <th>1498</th>\n",
       "      <td>0.0</td>\n",
       "      <td>1.0</td>\n",
       "    </tr>\n",
       "    <tr>\n",
       "      <th>1499</th>\n",
       "      <td>0.0</td>\n",
       "      <td>1.0</td>\n",
       "    </tr>\n",
       "  </tbody>\n",
       "</table>\n",
       "</div>"
      ],
      "text/plain": [
       "      Healthy  Diseased\n",
       "1495      0.0       1.0\n",
       "1496      0.0       1.0\n",
       "1497      0.0       1.0\n",
       "1498      0.0       1.0\n",
       "1499      0.0       1.0"
      ]
     },
     "execution_count": 23,
     "metadata": {},
     "output_type": "execute_result"
    }
   ],
   "source": [
    "new.tail(5)"
   ]
  },
  {
   "cell_type": "code",
   "execution_count": 24,
   "id": "784fb22b",
   "metadata": {},
   "outputs": [
    {
     "data": {
      "text/plain": [
       "Healthy     0\n",
       "Diseased    0\n",
       "dtype: int64"
      ]
     },
     "execution_count": 24,
     "metadata": {},
     "output_type": "execute_result"
    }
   ],
   "source": [
    "# check for any null entries\n",
    "new.isnull().sum()"
   ]
  },
  {
   "cell_type": "code",
   "execution_count": 25,
   "id": "c9dba4ff",
   "metadata": {},
   "outputs": [
    {
     "data": {
      "text/plain": [
       "300.0"
      ]
     },
     "execution_count": 25,
     "metadata": {},
     "output_type": "execute_result"
    }
   ],
   "source": [
    "new['Healthy'].sum()\n"
   ]
  },
  {
   "cell_type": "code",
   "execution_count": 26,
   "id": "9a7bcdec",
   "metadata": {},
   "outputs": [
    {
     "data": {
      "text/plain": [
       "1200.0"
      ]
     },
     "execution_count": 26,
     "metadata": {},
     "output_type": "execute_result"
    }
   ],
   "source": [
    "new['Diseased'].sum()\n"
   ]
  },
  {
   "cell_type": "code",
   "execution_count": 27,
   "id": "fb4dd9b0",
   "metadata": {},
   "outputs": [
    {
     "data": {
      "text/plain": [
       "<AxesSubplot:>"
      ]
     },
     "execution_count": 27,
     "metadata": {},
     "output_type": "execute_result"
    },
    {
     "data": {
      "image/png": "[encoded data removed]",
      "text/plain": [
       "<Figure size 640x480 with 1 Axes>"
      ]
     },
     "metadata": {},
     "output_type": "display_data"
    }
   ],
   "source": [
    "new.sum().plot(kind='bar')"
   ]
  },
  {
   "cell_type": "markdown",
   "id": "15212b27",
   "metadata": {},
   "source": [
    "# Modeling\n",
    "\n",
    "This section is divided into several subsections- first, multiclass classification networks were investigated- basic neural network models, followed by CNNs and a Pretrained Resnet model. Performance was very poor overall- the best model, the pretrained ResNet, had an F-1 score of .46. In general, model scores for precision, recall, and F-1 were rarely above 0.3. Thus, all models failed to satisfactorily classify the plants into the correct one of five categories it belonged to. \n",
    "\n",
    "Then, a binary classification strategy was used to investigate models on classifying plants as either healthy or diseased. Rather than attempt to identify the specific disease using a neural network model, an important first step is to figure out if an image depict a plant that is healthy or diseased. Then, an expert, or perhaps more robust model, could accurately diagnose the specific disease condition. For this situation, minimizing false negatives is important, since a plant labelled as healthy when it is actually diseased would be detrimental to the customer, as their plants might go untreated would be the worst case. Thus, recall and F-1 score were used to evaluate model performance."
   ]
  },
  {
   "cell_type": "markdown",
   "id": "de1ec0c1",
   "metadata": {},
   "source": [
    "## Baseline Neural Network models\n",
    "\n",
    "To begin with, basic neural network models with 1, 2, and 3 hidden dense layers were trained and evaluated. A small grid search was then performed to discover optimal parameters, followed by models with differnt regularization techniques. The basic network with 2 hidden layers, the grid search best parameter model, and the L2 model performed better than the others, with F-1 scores of .28, .29, and .22, respectively. Overall, model performance was very poor. On all the models except the three mentioned above, at least one class had an F-1 score of 0, while the others had at least one class with an F-1 score of below .12. "
   ]
  },
  {
   "cell_type": "markdown",
   "id": "12a8d8a5",
   "metadata": {},
   "source": [
    "#### train-test split"
   ]
  },
  {
   "cell_type": "code",
   "execution_count": 26,
   "id": "d3a5e691",
   "metadata": {},
   "outputs": [],
   "source": [
    "final_train, final_test, train_labels, test_labels= train_test_split(train_img_unrow, \n",
    "                                                                     y_train, \n",
    "                                                                     test_size=0.2, \n",
    "                                                                     random_state=42,\n",
    "                                                                     shuffle=True)"
   ]
  },
  {
   "cell_type": "markdown",
   "id": "304877fe",
   "metadata": {},
   "source": [
    "# Binary classification Modeling\n",
    "\n",
    "While it is ideal to be able to identify specific diseases, detecting disease is an important first step. This next section seeked to classify images into one of two categories- healthy or diseased. Again, baseline neural network models were investigated, followed by a CNN and Resnet model. Images of diseased plants consisted of 80% of the dataset. In many of the models, it appeared to indiscriminately classify plants as diseased. However, a basic network performed relatively well, and the pretrained model far outperformed all others."
   ]
  },
  {
   "cell_type": "markdown",
   "id": "bc826e59",
   "metadata": {},
   "source": [
    "#### Train-test split for binary classification networks"
   ]
  },
  {
   "cell_type": "code",
   "execution_count": 24,
   "id": "f4ee9114",
   "metadata": {},
   "outputs": [],
   "source": [
    "binary_train, binary_test, binary_train_labels, binary_test_labels= train_test_split(train_img_unrow, df, test_size=0.2, random_state=42,shuffle=True)\n"
   ]
  },
  {
   "cell_type": "markdown",
   "id": "0b2d3e6a",
   "metadata": {},
   "source": [
    "### Basic Network with 1 hidden layer"
   ]
  },
  {
   "cell_type": "code",
   "execution_count": 183,
   "id": "9c1ef627",
   "metadata": {},
   "outputs": [],
   "source": [
    "#instantiate model\n",
    "#np.random.seed(42)\n",
    "binary_model_1 = models.Sequential()\n",
    "binary_model_1.add(layers.Dense(256, activation='tanh', input_shape=(49152,)))\n",
    "binary_model_1.add(layers.Dense(2, activation='softmax'))\n",
    "\n",
    "binary_model_1.compile(loss='binary_crossentropy', optimizer='sgd', metrics=['acc'])\n",
    "binary_model_1.summary()\n",
    "binary_results_1 = binary_model_1.fit(binary_train, \n",
    "                        binary_train_labels,\n",
    "                        epochs=10,\n",
    "                        batch_size=16,\n",
    "                        validation_data=(binary_test, binary_test_labels))"
   ]
  },
  {
   "cell_type": "code",
   "execution_count": 185,
   "id": "25c6ee93",
   "metadata": {},
   "outputs": [
    {
     "name": "stdout",
     "output_type": "stream",
     "text": [
      "Epoch 1/10\n",
      "75/75 [==============================] - 7s 71ms/step - loss: 0.5595 - auc: 0.8044 - acc: 0.7808 - val_loss: 0.4460 - val_auc: 0.8683 - val_acc: 0.8367\n",
      "Epoch 2/10\n",
      "75/75 [==============================] - 4s 59ms/step - loss: 0.5106 - auc: 0.8116 - acc: 0.7900 - val_loss: 0.4328 - val_auc: 0.8759 - val_acc: 0.8367\n",
      "Epoch 3/10\n",
      "75/75 [==============================] - 4s 58ms/step - loss: 0.4970 - auc: 0.8315 - acc: 0.7900 - val_loss: 0.4300 - val_auc: 0.8763 - val_acc: 0.8367\n",
      "Epoch 4/10\n",
      "75/75 [==============================] - 5s 62ms/step - loss: 0.4905 - auc: 0.8401 - acc: 0.7883 - val_loss: 0.4262 - val_auc: 0.8836 - val_acc: 0.8367\n",
      "Epoch 5/10\n",
      "75/75 [==============================] - 5s 69ms/step - loss: 0.4799 - auc: 0.8493 - acc: 0.7883 - val_loss: 0.4162 - val_auc: 0.8848 - val_acc: 0.8367\n",
      "Epoch 6/10\n",
      "75/75 [==============================] - 4s 56ms/step - loss: 0.4744 - auc: 0.8524 - acc: 0.7950 - val_loss: 0.4389 - val_auc: 0.8853 - val_acc: 0.8367\n",
      "Epoch 7/10\n",
      "75/75 [==============================] - 4s 56ms/step - loss: 0.4624 - auc: 0.8623 - acc: 0.7958 - val_loss: 0.4593 - val_auc: 0.8883 - val_acc: 0.8400\n",
      "Epoch 8/10\n",
      "75/75 [==============================] - 4s 58ms/step - loss: 0.4619 - auc: 0.8625 - acc: 0.7858 - val_loss: 0.4104 - val_auc: 0.8892 - val_acc: 0.8367\n",
      "Epoch 9/10\n",
      "75/75 [==============================] - 4s 54ms/step - loss: 0.4507 - auc: 0.8695 - acc: 0.7942 - val_loss: 0.4952 - val_auc: 0.8869 - val_acc: 0.8267\n",
      "Epoch 10/10\n",
      "75/75 [==============================] - 4s 56ms/step - loss: 0.4399 - auc: 0.8757 - acc: 0.8050 - val_loss: 0.4400 - val_auc: 0.8879 - val_acc: 0.8400\n"
     ]
    }
   ],
   "source": []
  },
  {
   "cell_type": "markdown",
   "id": "48aea596",
   "metadata": {},
   "source": [
    "### Evaluation"
   ]
  },
  {
   "cell_type": "code",
   "execution_count": 186,
   "id": "b82e88d9",
   "metadata": {},
   "outputs": [
    {
     "name": "stdout",
     "output_type": "stream",
     "text": [
      "10/10 [==============================] - 0s 17ms/step\n"
     ]
    }
   ],
   "source": [
    "bin_y_pred = binary_model_1.predict(binary_test)"
   ]
  },
  {
   "cell_type": "code",
   "execution_count": 187,
   "id": "2f7ab24f",
   "metadata": {},
   "outputs": [
    {
     "name": "stdout",
     "output_type": "stream",
     "text": [
      "              precision    recall  f1-score   support\n",
      "\n",
      "           0       0.56      0.10      0.17        49\n",
      "           1       0.85      0.98      0.91       251\n",
      "\n",
      "   micro avg       0.84      0.84      0.84       300\n",
      "   macro avg       0.70      0.54      0.54       300\n",
      "weighted avg       0.80      0.84      0.79       300\n",
      " samples avg       0.84      0.84      0.84       300\n",
      "\n"
     ]
    }
   ],
   "source": [
    "print(classification_report(binary_test_labels, np.round(bin_y_pred)))"
   ]
  },
  {
   "cell_type": "markdown",
   "id": "b7dae4a0",
   "metadata": {},
   "source": [
    "While able to identify diseased plants rather well, this model does not accurately predict healthy plants. "
   ]
  },
  {
   "cell_type": "code",
   "execution_count": 65,
   "id": "5c50fea8",
   "metadata": {},
   "outputs": [
    {
     "ename": "NameError",
     "evalue": "name 'binary_results_1' is not defined",
     "output_type": "error",
     "traceback": [
      "\u001b[1;31m---------------------------------------------------------------------------\u001b[0m",
      "\u001b[1;31mNameError\u001b[0m                                 Traceback (most recent call last)",
      "\u001b[1;32m~\\AppData\\Local\\Temp\\ipykernel_5228\\809911502.py\u001b[0m in \u001b[0;36m<module>\u001b[1;34m\u001b[0m\n\u001b[1;32m----> 1\u001b[1;33m \u001b[0mvisualize_training_results\u001b[0m\u001b[1;33m(\u001b[0m\u001b[0mbinary_results_1\u001b[0m\u001b[1;33m)\u001b[0m\u001b[1;33m\u001b[0m\u001b[1;33m\u001b[0m\u001b[0m\n\u001b[0m",
      "\u001b[1;31mNameError\u001b[0m: name 'binary_results_1' is not defined"
     ]
    }
   ],
   "source": [
    "visualize_training_results(binary_results_1)"
   ]
  },
  {
   "cell_type": "markdown",
   "id": "ab700867",
   "metadata": {},
   "source": [
    "### Network with 2 hidden layers"
   ]
  },
  {
   "cell_type": "code",
   "execution_count": 188,
   "id": "e9822c83",
   "metadata": {},
   "outputs": [
    {
     "name": "stdout",
     "output_type": "stream",
     "text": [
      "Epoch 1/10\n",
      "75/75 [==============================] - 7s 72ms/step - loss: 0.5565 - auc: 0.7907 - acc: 0.7750 - val_loss: 0.4507 - val_auc: 0.8750 - val_acc: 0.8367\n",
      "Epoch 2/10\n",
      "75/75 [==============================] - 5s 61ms/step - loss: 0.5209 - auc: 0.8012 - acc: 0.7917 - val_loss: 0.4330 - val_auc: 0.8740 - val_acc: 0.8367\n",
      "Epoch 3/10\n",
      "75/75 [==============================] - 4s 58ms/step - loss: 0.4980 - auc: 0.8301 - acc: 0.7900 - val_loss: 0.4327 - val_auc: 0.8773 - val_acc: 0.8367\n",
      "Epoch 4/10\n",
      "75/75 [==============================] - 4s 59ms/step - loss: 0.4910 - auc: 0.8389 - acc: 0.7908 - val_loss: 0.4330 - val_auc: 0.8818 - val_acc: 0.8367\n",
      "Epoch 5/10\n",
      "75/75 [==============================] - 4s 59ms/step - loss: 0.4792 - auc: 0.8511 - acc: 0.7867 - val_loss: 0.4179 - val_auc: 0.8833 - val_acc: 0.8367\n",
      "Epoch 6/10\n",
      "75/75 [==============================] - 5s 61ms/step - loss: 0.4763 - auc: 0.8530 - acc: 0.7950 - val_loss: 0.4422 - val_auc: 0.8844 - val_acc: 0.8367\n",
      "Epoch 7/10\n",
      "75/75 [==============================] - 4s 59ms/step - loss: 0.4678 - auc: 0.8591 - acc: 0.7875 - val_loss: 0.4240 - val_auc: 0.8870 - val_acc: 0.8367\n",
      "Epoch 8/10\n",
      "75/75 [==============================] - 4s 60ms/step - loss: 0.4504 - auc: 0.8718 - acc: 0.7950 - val_loss: 0.5657 - val_auc: 0.8240 - val_acc: 0.7433\n",
      "Epoch 9/10\n",
      "75/75 [==============================] - 4s 60ms/step - loss: 0.4522 - auc: 0.8693 - acc: 0.7908 - val_loss: 0.4077 - val_auc: 0.8905 - val_acc: 0.8367\n",
      "Epoch 10/10\n",
      "75/75 [==============================] - 5s 63ms/step - loss: 0.4520 - auc: 0.8713 - acc: 0.7917 - val_loss: 0.4086 - val_auc: 0.8899 - val_acc: 0.8367\n"
     ]
    }
   ],
   "source": [
    "#np.random.seed(42)\n",
    "binary_model_2 = models.Sequential()\n",
    "binary_model_2.add(layers.Dense(256, activation='relu', input_shape=(49152,))) \n",
    "binary_model_2.add(layers.Dense(32, activation='relu'))\n",
    "binary_model_2.add(layers.Dense(2, activation='sigmoid'))\n",
    "binary_model_2.compile(optimizer='sgd',\n",
    "              loss='binary_crossentropy',\n",
    "              metrics=['acc'])\n",
    "\n",
    "binary_results_2 = binary_model_2.fit(binary_train, \n",
    "                        binary_train_labels,\n",
    "                        epochs=10,\n",
    "                        batch_size=16,\n",
    "                        validation_data=(binary_test, binary_test_labels))"
   ]
  },
  {
   "cell_type": "markdown",
   "id": "ec79db97",
   "metadata": {},
   "source": [
    "### Evaluation"
   ]
  },
  {
   "cell_type": "code",
   "execution_count": 190,
   "id": "972c8e66",
   "metadata": {},
   "outputs": [
    {
     "name": "stdout",
     "output_type": "stream",
     "text": [
      "10/10 [==============================] - 0s 13ms/step\n"
     ]
    }
   ],
   "source": [
    "y_pred = binary_model_2.predict(binary_test)"
   ]
  },
  {
   "cell_type": "code",
   "execution_count": 191,
   "id": "61dadf65",
   "metadata": {},
   "outputs": [
    {
     "name": "stdout",
     "output_type": "stream",
     "text": [
      "              precision    recall  f1-score   support\n",
      "\n",
      "           0       0.00      0.00      0.00        49\n",
      "           1       0.84      1.00      0.91       251\n",
      "\n",
      "   micro avg       0.84      0.84      0.84       300\n",
      "   macro avg       0.42      0.50      0.46       300\n",
      "weighted avg       0.70      0.84      0.76       300\n",
      " samples avg       0.84      0.84      0.84       300\n",
      "\n"
     ]
    },
    {
     "name": "stderr",
     "output_type": "stream",
     "text": [
      "C:\\Users\\lalyn\\anaconda3\\lib\\site-packages\\sklearn\\metrics\\_classification.py:1318: UndefinedMetricWarning: Precision and F-score are ill-defined and being set to 0.0 in labels with no predicted samples. Use `zero_division` parameter to control this behavior.\n",
      "  _warn_prf(average, modifier, msg_start, len(result))\n"
     ]
    }
   ],
   "source": [
    "print(classification_report(binary_test_labels, np.round(y_pred)))"
   ]
  },
  {
   "cell_type": "markdown",
   "id": "e408d7c8",
   "metadata": {},
   "source": [
    "This model failed to correctly identify any healthy plants- appearing to predict most as diseased. "
   ]
  },
  {
   "cell_type": "code",
   "execution_count": null,
   "id": "787ad51d",
   "metadata": {},
   "outputs": [],
   "source": [
    "visualize_training_results(binary_results_2)"
   ]
  },
  {
   "cell_type": "markdown",
   "id": "7ddf545b",
   "metadata": {},
   "source": [
    "## Binary Classification CNN model\n",
    "\n",
    "Unlike the multiclassification CNN model, this one performed rather poorly."
   ]
  },
  {
   "cell_type": "markdown",
   "id": "e4e481c7",
   "metadata": {},
   "source": [
    "#### train-test split"
   ]
  },
  {
   "cell_type": "code",
   "execution_count": 25,
   "id": "39913a43",
   "metadata": {},
   "outputs": [],
   "source": [
    "cnn_binary_train, cnn_binary_test, cnn_binary_train_labels, cnn_binary_test_labels= train_test_split(train_images,\n",
    "                                                                                                     df, \n",
    "                                                                                                     test_size=0.2, \n",
    "                                                                                                     random_state=42,\n",
    "                                                                                                     shuffle=True)"
   ]
  },
  {
   "cell_type": "code",
   "execution_count": 207,
   "id": "122301be",
   "metadata": {},
   "outputs": [
    {
     "name": "stdout",
     "output_type": "stream",
     "text": [
      "Epoch 1/10\n",
      "75/75 [==============================] - 12s 139ms/step - loss: 0.5179 - auc: 0.8105 - acc: 0.7825 - val_loss: 0.4569 - val_auc: 0.8935 - val_acc: 0.8367\n",
      "Epoch 2/10\n",
      "75/75 [==============================] - 9s 119ms/step - loss: 0.5030 - auc: 0.8257 - acc: 0.7908 - val_loss: 0.4105 - val_auc: 0.9099 - val_acc: 0.8367\n",
      "Epoch 3/10\n",
      "75/75 [==============================] - 9s 122ms/step - loss: 0.4988 - auc: 0.8331 - acc: 0.7908 - val_loss: 0.4728 - val_auc: 0.8680 - val_acc: 0.8367\n",
      "Epoch 4/10\n",
      "75/75 [==============================] - 9s 120ms/step - loss: 0.4688 - auc: 0.8576 - acc: 0.7908 - val_loss: 0.3820 - val_auc: 0.9102 - val_acc: 0.8367\n",
      "Epoch 5/10\n",
      "75/75 [==============================] - 10s 128ms/step - loss: 0.4475 - auc: 0.8701 - acc: 0.7908 - val_loss: 0.3699 - val_auc: 0.9155 - val_acc: 0.8367\n",
      "Epoch 6/10\n",
      "75/75 [==============================] - 10s 130ms/step - loss: 0.4312 - auc: 0.8793 - acc: 0.7908 - val_loss: 0.3927 - val_auc: 0.9002 - val_acc: 0.8367\n",
      "Epoch 7/10\n",
      "75/75 [==============================] - 10s 129ms/step - loss: 0.4214 - auc: 0.8839 - acc: 0.7908 - val_loss: 0.4143 - val_auc: 0.9049 - val_acc: 0.8367\n",
      "Epoch 8/10\n",
      "75/75 [==============================] - 10s 129ms/step - loss: 0.4033 - auc: 0.8941 - acc: 0.7908 - val_loss: 0.3803 - val_auc: 0.9095 - val_acc: 0.8367\n",
      "Epoch 9/10\n",
      "75/75 [==============================] - 10s 127ms/step - loss: 0.3836 - auc: 0.9004 - acc: 0.7908 - val_loss: 0.3739 - val_auc: 0.9075 - val_acc: 0.8367\n",
      "Epoch 10/10\n",
      "75/75 [==============================] - 10s 127ms/step - loss: 0.3694 - auc: 0.9086 - acc: 0.8075 - val_loss: 0.3847 - val_auc: 0.9060 - val_acc: 0.8300\n"
     ]
    }
   ],
   "source": [
    "np.random.seed(42)\n",
    "binary_cnn_model = models.Sequential()\n",
    "binary_cnn_model.add(layers.Conv2D(32, (3, 3), activation='relu',\n",
    "                        input_shape=(128, 128, 3))) \n",
    "binary_cnn_model.add(layers.MaxPooling2D((2, 2)))\n",
    "\n",
    "binary_cnn_model.add(layers.Conv2D(32, (4, 4), activation='relu'))\n",
    "binary_cnn_model.add(layers.MaxPooling2D((2, 2)))\n",
    "\n",
    "binary_cnn_model.add(layers.Conv2D(64, (3, 3), activation='relu'))\n",
    "binary_cnn_model.add(layers.MaxPooling2D((2, 2)))\n",
    "\n",
    "binary_cnn_model.add(layers.Flatten())\n",
    "binary_cnn_model.add(layers.Dense(64, activation='relu'))\n",
    "binary_cnn_model.add(layers.Dense(2, activation='softmax'))\n",
    "\n",
    "binary_cnn_model.compile(loss='binary_crossentropy',\n",
    "              optimizer=\"adam\",\n",
    "              metrics=['acc'])\n",
    "binary_cnn_results = binary_cnn_model.fit(cnn_binary_train,\n",
    "                            cnn_binary_train_labels,\n",
    "                            epochs=10,\n",
    "                            batch_size=16,\n",
    "                            validation_data=(cnn_binary_test, cnn_binary_test_labels))"
   ]
  },
  {
   "cell_type": "markdown",
   "id": "ab9a3565",
   "metadata": {
    "scrolled": true
   },
   "source": [
    "### Evaluation"
   ]
  },
  {
   "cell_type": "code",
   "execution_count": 209,
   "id": "bd67b432",
   "metadata": {},
   "outputs": [
    {
     "name": "stdout",
     "output_type": "stream",
     "text": [
      "10/10 [==============================] - 1s 58ms/step\n"
     ]
    }
   ],
   "source": [
    "cnn_y_pred = binary_cnn_model.predict(cnn_binary_test)"
   ]
  },
  {
   "cell_type": "code",
   "execution_count": 210,
   "id": "e98c6cbf",
   "metadata": {},
   "outputs": [
    {
     "name": "stdout",
     "output_type": "stream",
     "text": [
      "              precision    recall  f1-score   support\n",
      "\n",
      "           0       0.25      0.02      0.04        49\n",
      "           1       0.84      0.99      0.91       251\n",
      "\n",
      "   micro avg       0.83      0.83      0.83       300\n",
      "   macro avg       0.54      0.50      0.47       300\n",
      "weighted avg       0.74      0.83      0.76       300\n",
      " samples avg       0.83      0.83      0.83       300\n",
      "\n"
     ]
    }
   ],
   "source": [
    "print(classification_report(cnn_binary_test_labels, np.round(cnn_y_pred)))"
   ]
  },
  {
   "cell_type": "markdown",
   "id": "15ff425e",
   "metadata": {},
   "source": [
    "Although a small improvement, like most models, this one is still failing to accurately classify healthy plants."
   ]
  },
  {
   "cell_type": "code",
   "execution_count": null,
   "id": "dd5b3faa",
   "metadata": {},
   "outputs": [],
   "source": [
    "visualize_training_results(binary_cnn_results)"
   ]
  },
  {
   "cell_type": "markdown",
   "id": "f339663b",
   "metadata": {},
   "source": [
    "### Pretrained ResNet Model"
   ]
  },
  {
   "cell_type": "markdown",
   "id": "3adc2e5f",
   "metadata": {},
   "source": [
    "Pre-trained models are pre-built machine learning models that have already been trained on large datasets, such as ImageNet or COCO. Such datasets often contain millions of images, which allows the models to learn a wide range of features and patterns. This makes them highly accurate and effective for a variety of tasks. Moreover, training a machine learning model from scratch can be a time-consuming process and by using pre-trained models, and typically much time and resources cab be saved by starting with a model that has already been trained.\n",
    "\n",
    "ResNet models were developed especially for image classification. ResNet-50 is a pretrained model Convolutional Neural Network(CNN) model. ResNet-50 is 50 layers deep and is trained on a million images of 1000 categories from the ImageNet database. \n",
    "\n",
    "Given the complexity of Resnet models compared to the previous ones, it was no surprise it performed better than all previous ones. "
   ]
  },
  {
   "cell_type": "code",
   "execution_count": 30,
   "id": "fe6670f9",
   "metadata": {},
   "outputs": [],
   "source": [
    "from keras.applications import ResNet50V2"
   ]
  },
  {
   "cell_type": "code",
   "execution_count": 29,
   "id": "e3b1d98f",
   "metadata": {},
   "outputs": [],
   "source": [
    "#instantiate and train model  -12288 input shape if 64 pix   196608 if 256     49152\n",
    "np.random.seed(42)\n",
    "binary_res_model = models.Sequential()\n",
    "binary_res_model.add(resnet)\n",
    "binary_res_model.add(layers.Flatten())\n",
    "binary_res_model.add(layers.Dense(132, activation='relu'))\n",
    "binary_res_model.add(layers.Dense(2, activation='sigmoid'))"
   ]
  },
  {
   "cell_type": "code",
   "execution_count": 30,
   "id": "71aba276",
   "metadata": {},
   "outputs": [
    {
     "name": "stdout",
     "output_type": "stream",
     "text": [
      "resnet50v2 False\n",
      "flatten True\n",
      "dense True\n",
      "dense_1 True\n",
      "4\n"
     ]
    }
   ],
   "source": [
    "# freeze resnet layer and verify\n",
    "resnet.trainable = False\n",
    "\n",
    "for layer in binary_res_model.layers:\n",
    "    print(layer.name, layer.trainable)\n",
    "    \n",
    "\n",
    "print(len(binary_res_model.trainable_weights))"
   ]
  },
  {
   "cell_type": "code",
   "execution_count": 31,
   "id": "3af79e38",
   "metadata": {},
   "outputs": [
    {
     "name": "stdout",
     "output_type": "stream",
     "text": [
      "Epoch 1/10\n",
      "WARNING:tensorflow:From C:\\Users\\lalyn\\anaconda3\\lib\\site-packages\\keras\\src\\utils\\tf_utils.py:492: The name tf.ragged.RaggedTensorValue is deprecated. Please use tf.compat.v1.ragged.RaggedTensorValue instead.\n",
      "\n",
      "WARNING:tensorflow:From C:\\Users\\lalyn\\anaconda3\\lib\\site-packages\\keras\\src\\engine\\base_layer_utils.py:384: The name tf.executing_eagerly_outside_functions is deprecated. Please use tf.compat.v1.executing_eagerly_outside_functions instead.\n",
      "\n",
      "27/27 [==============================] - 81s 3s/step - loss: 0.4753 - acc: 0.8325 - val_loss: 0.4490 - val_acc: 0.8200\n",
      "Epoch 2/10\n",
      "27/27 [==============================] - 65s 2s/step - loss: 0.3253 - acc: 0.8650 - val_loss: 0.3947 - val_acc: 0.8233\n",
      "Epoch 3/10\n",
      "27/27 [==============================] - 66s 2s/step - loss: 0.2531 - acc: 0.8975 - val_loss: 0.3529 - val_acc: 0.8400\n",
      "Epoch 4/10\n",
      "27/27 [==============================] - 68s 3s/step - loss: 0.2056 - acc: 0.9225 - val_loss: 0.3480 - val_acc: 0.8267\n",
      "Epoch 5/10\n",
      "27/27 [==============================] - 69s 3s/step - loss: 0.1661 - acc: 0.9458 - val_loss: 0.3263 - val_acc: 0.8633\n",
      "Epoch 6/10\n",
      "27/27 [==============================] - 77s 3s/step - loss: 0.1369 - acc: 0.9667 - val_loss: 0.3263 - val_acc: 0.8567\n",
      "Epoch 7/10\n",
      "27/27 [==============================] - 80s 3s/step - loss: 0.1138 - acc: 0.9717 - val_loss: 0.3102 - val_acc: 0.8600\n",
      "Epoch 8/10\n",
      "27/27 [==============================] - 79s 3s/step - loss: 0.0931 - acc: 0.9792 - val_loss: 0.3285 - val_acc: 0.8567\n",
      "Epoch 9/10\n",
      "27/27 [==============================] - 82s 3s/step - loss: 0.0767 - acc: 0.9875 - val_loss: 0.3127 - val_acc: 0.8667\n",
      "Epoch 10/10\n",
      "27/27 [==============================] - 75s 3s/step - loss: 0.0631 - acc: 0.9933 - val_loss: 0.3199 - val_acc: 0.8567\n"
     ]
    }
   ],
   "source": [
    "# train model\n",
    "binary_res_model.compile(loss='binary_crossentropy',\n",
    "              optimizer=optimizers.RMSprop(learning_rate=2e-5),\n",
    "              metrics=['acc'])\n",
    "\n",
    "#np.random.seed(42) \n",
    "\n",
    "binary_res_history = binary_res_model.fit(cnn_binary_train,\n",
    "                    cnn_binary_train_labels,\n",
    "                    steps_per_epoch=27,\n",
    "                    epochs=10,\n",
    "                    validation_data=(cnn_binary_test, cnn_binary_test_labels),                   \n",
    "                    validation_steps=10)"
   ]
  },
  {
   "cell_type": "markdown",
   "id": "6d73c08a",
   "metadata": {},
   "source": [
    "### Evaluation"
   ]
  },
  {
   "cell_type": "code",
   "execution_count": 32,
   "id": "b80c1046",
   "metadata": {},
   "outputs": [
    {
     "name": "stdout",
     "output_type": "stream",
     "text": [
      "10/10 [==============================] - 20s 1s/step\n"
     ]
    }
   ],
   "source": [
    "y_pred = binary_res_model.predict(cnn_binary_test)"
   ]
  },
  {
   "cell_type": "code",
   "execution_count": 33,
   "id": "9a864e34",
   "metadata": {},
   "outputs": [
    {
     "name": "stdout",
     "output_type": "stream",
     "text": [
      "              precision    recall  f1-score   support\n",
      "\n",
      "           0       0.83      0.54      0.66        72\n",
      "           1       0.84      0.97      0.90       228\n",
      "\n",
      "   micro avg       0.84      0.87      0.85       300\n",
      "   macro avg       0.84      0.76      0.78       300\n",
      "weighted avg       0.84      0.87      0.84       300\n",
      " samples avg       0.83      0.87      0.85       300\n",
      "\n"
     ]
    },
    {
     "name": "stderr",
     "output_type": "stream",
     "text": [
      "C:\\Users\\lalyn\\anaconda3\\lib\\site-packages\\sklearn\\metrics\\_classification.py:1318: UndefinedMetricWarning: Precision and F-score are ill-defined and being set to 0.0 in samples with no predicted labels. Use `zero_division` parameter to control this behavior.\n",
      "  _warn_prf(average, modifier, msg_start, len(result))\n"
     ]
    }
   ],
   "source": [
    "print(classification_report(cnn_binary_test_labels, np.round(y_pred)))"
   ]
  },
  {
   "cell_type": "markdown",
   "id": "e228f6e6",
   "metadata": {},
   "source": [
    "While there is certainly room for improvement, this model is by far the best, as it is able to identify healthy and diseased plants at a rate that could be acceptable."
   ]
  },
  {
   "cell_type": "code",
   "execution_count": 34,
   "id": "32902849",
   "metadata": {},
   "outputs": [
    {
     "data": {
      "image/png": "[encoded data removed]",
      "text/plain": [
       "<Figure size 500x300 with 1 Axes>"
      ]
     },
     "metadata": {},
     "output_type": "display_data"
    }
   ],
   "source": [
    "visualize_training_results(binary_res_history)"
   ]
  },
  {
   "cell_type": "code",
   "execution_count": 35,
   "id": "e85911b3",
   "metadata": {},
   "outputs": [
    {
     "data": {
      "image/png": "[encoded data removed]",
      "text/plain": [
       "<Figure size 640x480 with 2 Axes>"
      ]
     },
     "metadata": {},
     "output_type": "display_data"
    }
   ],
   "source": [
    "#confusion_matrix\n",
    "\n",
    "cnf_matrix = confusion_matrix(cnn_binary_test_labels.values.argmax(axis=1), y_pred.argmax(axis=1))\n",
    "disp = ConfusionMatrixDisplay(confusion_matrix=cnf_matrix, display_labels=cnn_binary_test_labels)\n",
    "disp.plot(cmap=plt.cm.Blues);"
   ]
  },
  {
   "cell_type": "markdown",
   "id": "2c530f3b",
   "metadata": {},
   "source": [
    "# Resnet model on full dataset"
   ]
  },
  {
   "cell_type": "markdown",
   "id": "9e495938",
   "metadata": {},
   "source": [
    "#### data preparation"
   ]
  },
  {
   "cell_type": "code",
   "execution_count": 3,
   "id": "d097df69",
   "metadata": {},
   "outputs": [
    {
     "name": "stdout",
     "output_type": "stream",
     "text": [
      "Found 5656 images belonging to 5 classes.\n"
     ]
    }
   ],
   "source": [
    "full_data_dir = 'data/train'\n",
    "\n",
    "# Get all the data in the directory data/train (790 images), and reshape them\n",
    "full_train_generator = ImageDataGenerator().flow_from_directory(\n",
    "        full_data_dir, \n",
    "        target_size=(128, 128), batch_size=5656)\n",
    "\n",
    "# Create the datasets\n",
    "all_train_images, all_y_train = next(full_train_generator)\n"
   ]
  },
  {
   "cell_type": "markdown",
   "id": "e21d95e4",
   "metadata": {},
   "source": [
    "#### preview image labels"
   ]
  },
  {
   "cell_type": "code",
   "execution_count": 4,
   "id": "a223e4a4",
   "metadata": {},
   "outputs": [
    {
     "name": "stdout",
     "output_type": "stream",
     "text": [
      "(5656, 128, 128, 3)\n",
      "(5656, 5)\n"
     ]
    }
   ],
   "source": [
    "# preview shape\n",
    "print(np.shape(all_train_images))\n",
    "print(np.shape(all_y_train))"
   ]
  },
  {
   "cell_type": "markdown",
   "id": "492b164d",
   "metadata": {},
   "source": [
    "### Binary labeling\n"
   ]
  },
  {
   "cell_type": "code",
   "execution_count": 5,
   "id": "9e591bbb",
   "metadata": {},
   "outputs": [
    {
     "data": {
      "text/html": [
       "<div>\n",
       "<style scoped>\n",
       "    .dataframe tbody tr th:only-of-type {\n",
       "        vertical-align: middle;\n",
       "    }\n",
       "\n",
       "    .dataframe tbody tr th {\n",
       "        vertical-align: top;\n",
       "    }\n",
       "\n",
       "    .dataframe thead th {\n",
       "        text-align: right;\n",
       "    }\n",
       "</style>\n",
       "<table border=\"1\" class=\"dataframe\">\n",
       "  <thead>\n",
       "    <tr style=\"text-align: right;\">\n",
       "      <th></th>\n",
       "      <th>0</th>\n",
       "      <th>1</th>\n",
       "      <th>2</th>\n",
       "      <th>3</th>\n",
       "      <th>4</th>\n",
       "    </tr>\n",
       "  </thead>\n",
       "  <tbody>\n",
       "    <tr>\n",
       "      <th>0</th>\n",
       "      <td>0.0</td>\n",
       "      <td>0.0</td>\n",
       "      <td>0.0</td>\n",
       "      <td>1.0</td>\n",
       "      <td>0.0</td>\n",
       "    </tr>\n",
       "    <tr>\n",
       "      <th>1</th>\n",
       "      <td>0.0</td>\n",
       "      <td>0.0</td>\n",
       "      <td>1.0</td>\n",
       "      <td>0.0</td>\n",
       "      <td>0.0</td>\n",
       "    </tr>\n",
       "    <tr>\n",
       "      <th>2</th>\n",
       "      <td>1.0</td>\n",
       "      <td>0.0</td>\n",
       "      <td>0.0</td>\n",
       "      <td>0.0</td>\n",
       "      <td>0.0</td>\n",
       "    </tr>\n",
       "    <tr>\n",
       "      <th>3</th>\n",
       "      <td>0.0</td>\n",
       "      <td>0.0</td>\n",
       "      <td>1.0</td>\n",
       "      <td>0.0</td>\n",
       "      <td>0.0</td>\n",
       "    </tr>\n",
       "    <tr>\n",
       "      <th>4</th>\n",
       "      <td>0.0</td>\n",
       "      <td>1.0</td>\n",
       "      <td>0.0</td>\n",
       "      <td>0.0</td>\n",
       "      <td>0.0</td>\n",
       "    </tr>\n",
       "  </tbody>\n",
       "</table>\n",
       "</div>"
      ],
      "text/plain": [
       "     0    1    2    3    4\n",
       "0  0.0  0.0  0.0  1.0  0.0\n",
       "1  0.0  0.0  1.0  0.0  0.0\n",
       "2  1.0  0.0  0.0  0.0  0.0\n",
       "3  0.0  0.0  1.0  0.0  0.0\n",
       "4  0.0  1.0  0.0  0.0  0.0"
      ]
     },
     "execution_count": 5,
     "metadata": {},
     "output_type": "execute_result"
    }
   ],
   "source": [
    "# make dataframe and preview\n",
    "all_df = pd.DataFrame(all_y_train)\n",
    "all_df.loc[all_df[4]==1,\"Healthy\"]=1\n",
    "all_df.loc[all_df[4]==0,\"Healthy\"]=0\n",
    "all_df.loc[all_df[4]==1,\"Diseased\"]=0\n",
    "all_df.loc[all_df[4]==0,\"Diseased\"]=1\n",
    "all_df.drop([0, 1, 2, 3, 4], axis=1, inplace=True)\n",
    "all_df.head()"
   ]
  },
  {
   "cell_type": "code",
   "execution_count": 7,
   "id": "3fe1f7b8",
   "metadata": {},
   "outputs": [
    {
     "data": {
      "text/plain": [
       "Healthy     0\n",
       "Diseased    0\n",
       "dtype: int64"
      ]
     },
     "execution_count": 7,
     "metadata": {},
     "output_type": "execute_result"
    }
   ],
   "source": [
    "# check for any null entries\n",
    "all_df.isnull().sum()"
   ]
  },
  {
   "cell_type": "code",
   "execution_count": 8,
   "id": "c987c673",
   "metadata": {},
   "outputs": [
    {
     "name": "stdout",
     "output_type": "stream",
     "text": [
      "316.0\n",
      "5340.0\n",
      "0.05917602996254682\n"
     ]
    }
   ],
   "source": [
    "print(all_df['Healthy'].sum())\n",
    "print(all_df['Diseased'].sum())\n",
    "\n",
    "print(all_df['Healthy'].sum() / all_df['Diseased'].sum())"
   ]
  },
  {
   "cell_type": "code",
   "execution_count": 9,
   "id": "0d8134b5",
   "metadata": {},
   "outputs": [
    {
     "data": {
      "image/png": "[encoded data removed]",
      "text/plain": [
       "<Figure size 640x480 with 1 Axes>"
      ]
     },
     "metadata": {},
     "output_type": "display_data"
    }
   ],
   "source": [
    "all_df.sum().plot(kind='bar');"
   ]
  },
  {
   "cell_type": "markdown",
   "id": "ef9eb320",
   "metadata": {},
   "source": [
    "#### train-test split"
   ]
  },
  {
   "cell_type": "code",
   "execution_count": 11,
   "id": "897e9904",
   "metadata": {},
   "outputs": [],
   "source": [
    "all_cnn_binary_train, all_cnn_binary_test, all_cnn_binary_train_labels, all_cnn_binary_test_labels= train_test_split(all_train_images, all_df, test_size=0.2, random_state=42,shuffle=True)\n"
   ]
  },
  {
   "cell_type": "markdown",
   "id": "df37849d",
   "metadata": {},
   "source": [
    "## Predict using model trained on small dataset on all data"
   ]
  },
  {
   "cell_type": "code",
   "execution_count": 71,
   "id": "ef2d8453",
   "metadata": {},
   "outputs": [
    {
     "name": "stdout",
     "output_type": "stream",
     "text": [
      "36/36 [==============================] - 66s 2s/step\n"
     ]
    }
   ],
   "source": [
    "y_pred = binary_res_model.predict(all_cnn_binary_test)"
   ]
  },
  {
   "cell_type": "code",
   "execution_count": 72,
   "id": "61613817",
   "metadata": {},
   "outputs": [
    {
     "name": "stdout",
     "output_type": "stream",
     "text": [
      "              precision    recall  f1-score   support\n",
      "\n",
      "           0       0.00      0.00      0.00        61\n",
      "           1       0.95      1.00      0.97      1071\n",
      "\n",
      "   micro avg       0.95      0.95      0.95      1132\n",
      "   macro avg       0.47      0.50      0.49      1132\n",
      "weighted avg       0.90      0.95      0.92      1132\n",
      " samples avg       0.95      0.95      0.95      1132\n",
      "\n"
     ]
    },
    {
     "name": "stderr",
     "output_type": "stream",
     "text": [
      "C:\\Users\\lalyn\\anaconda3\\lib\\site-packages\\sklearn\\metrics\\_classification.py:1318: UndefinedMetricWarning: Precision and F-score are ill-defined and being set to 0.0 in labels with no predicted samples. Use `zero_division` parameter to control this behavior.\n",
      "  _warn_prf(average, modifier, msg_start, len(result))\n"
     ]
    }
   ],
   "source": [
    "print(classification_report(all_cnn_binary_test_labels, np.round(y_pred)))"
   ]
  },
  {
   "cell_type": "markdown",
   "id": "c6955cc8",
   "metadata": {},
   "source": [
    "The model is inadequete for identifying healthy plants when presented with the full dataset. Thus, it will be necessary to train a new resnet model."
   ]
  },
  {
   "cell_type": "markdown",
   "id": "efbfe2c4",
   "metadata": {},
   "source": [
    "# Resnet model trained on full dataset"
   ]
  },
  {
   "cell_type": "code",
   "execution_count": 73,
   "id": "3db61bac",
   "metadata": {},
   "outputs": [],
   "source": [
    "resnet = ResNet50V2(weights='imagenet', \n",
    "                 include_top=False, \n",
    "                 input_shape=(128, 128, 3))"
   ]
  },
  {
   "cell_type": "code",
   "execution_count": 74,
   "id": "f95814d6",
   "metadata": {},
   "outputs": [
    {
     "name": "stdout",
     "output_type": "stream",
     "text": [
      "Model: \"resnet50v2\"\n",
      "__________________________________________________________________________________________________\n",
      " Layer (type)                Output Shape                 Param #   Connected to                  \n",
      "==================================================================================================\n",
      " input_2 (InputLayer)        [(None, 128, 128, 3)]        0         []                            \n",
      "                                                                                                  \n",
      " conv1_pad (ZeroPadding2D)   (None, 134, 134, 3)          0         ['input_2[0][0]']             \n",
      "                                                                                                  \n",
      " conv1_conv (Conv2D)         (None, 64, 64, 64)           9472      ['conv1_pad[0][0]']           \n",
      "                                                                                                  \n",
      " pool1_pad (ZeroPadding2D)   (None, 66, 66, 64)           0         ['conv1_conv[0][0]']          \n",
      "                                                                                                  \n",
      " pool1_pool (MaxPooling2D)   (None, 32, 32, 64)           0         ['pool1_pad[0][0]']           \n",
      "                                                                                                  \n",
      " conv2_block1_preact_bn (Ba  (None, 32, 32, 64)           256       ['pool1_pool[0][0]']          \n",
      " tchNormalization)                                                                                \n",
      "                                                                                                  \n",
      " conv2_block1_preact_relu (  (None, 32, 32, 64)           0         ['conv2_block1_preact_bn[0][0]\n",
      " Activation)                                                        ']                            \n",
      "                                                                                                  \n",
      " conv2_block1_1_conv (Conv2  (None, 32, 32, 64)           4096      ['conv2_block1_preact_relu[0][\n",
      " D)                                                                 0]']                          \n",
      "                                                                                                  \n",
      " conv2_block1_1_bn (BatchNo  (None, 32, 32, 64)           256       ['conv2_block1_1_conv[0][0]'] \n",
      " rmalization)                                                                                     \n",
      "                                                                                                  \n",
      " conv2_block1_1_relu (Activ  (None, 32, 32, 64)           0         ['conv2_block1_1_bn[0][0]']   \n",
      " ation)                                                                                           \n",
      "                                                                                                  \n",
      " conv2_block1_2_pad (ZeroPa  (None, 34, 34, 64)           0         ['conv2_block1_1_relu[0][0]'] \n",
      " dding2D)                                                                                         \n",
      "                                                                                                  \n",
      " conv2_block1_2_conv (Conv2  (None, 32, 32, 64)           36864     ['conv2_block1_2_pad[0][0]']  \n",
      " D)                                                                                               \n",
      "                                                                                                  \n",
      " conv2_block1_2_bn (BatchNo  (None, 32, 32, 64)           256       ['conv2_block1_2_conv[0][0]'] \n",
      " rmalization)                                                                                     \n",
      "                                                                                                  \n",
      " conv2_block1_2_relu (Activ  (None, 32, 32, 64)           0         ['conv2_block1_2_bn[0][0]']   \n",
      " ation)                                                                                           \n",
      "                                                                                                  \n",
      " conv2_block1_0_conv (Conv2  (None, 32, 32, 256)          16640     ['conv2_block1_preact_relu[0][\n",
      " D)                                                                 0]']                          \n",
      "                                                                                                  \n",
      " conv2_block1_3_conv (Conv2  (None, 32, 32, 256)          16640     ['conv2_block1_2_relu[0][0]'] \n",
      " D)                                                                                               \n",
      "                                                                                                  \n",
      " conv2_block1_out (Add)      (None, 32, 32, 256)          0         ['conv2_block1_0_conv[0][0]', \n",
      "                                                                     'conv2_block1_3_conv[0][0]'] \n",
      "                                                                                                  \n",
      " conv2_block2_preact_bn (Ba  (None, 32, 32, 256)          1024      ['conv2_block1_out[0][0]']    \n",
      " tchNormalization)                                                                                \n",
      "                                                                                                  \n",
      " conv2_block2_preact_relu (  (None, 32, 32, 256)          0         ['conv2_block2_preact_bn[0][0]\n",
      " Activation)                                                        ']                            \n",
      "                                                                                                  \n",
      " conv2_block2_1_conv (Conv2  (None, 32, 32, 64)           16384     ['conv2_block2_preact_relu[0][\n",
      " D)                                                                 0]']                          \n",
      "                                                                                                  \n",
      " conv2_block2_1_bn (BatchNo  (None, 32, 32, 64)           256       ['conv2_block2_1_conv[0][0]'] \n",
      " rmalization)                                                                                     \n",
      "                                                                                                  \n",
      " conv2_block2_1_relu (Activ  (None, 32, 32, 64)           0         ['conv2_block2_1_bn[0][0]']   \n",
      " ation)                                                                                           \n",
      "                                                                                                  \n",
      " conv2_block2_2_pad (ZeroPa  (None, 34, 34, 64)           0         ['conv2_block2_1_relu[0][0]'] \n",
      " dding2D)                                                                                         \n",
      "                                                                                                  \n",
      " conv2_block2_2_conv (Conv2  (None, 32, 32, 64)           36864     ['conv2_block2_2_pad[0][0]']  \n",
      " D)                                                                                               \n",
      "                                                                                                  \n",
      " conv2_block2_2_bn (BatchNo  (None, 32, 32, 64)           256       ['conv2_block2_2_conv[0][0]'] \n",
      " rmalization)                                                                                     \n",
      "                                                                                                  \n",
      " conv2_block2_2_relu (Activ  (None, 32, 32, 64)           0         ['conv2_block2_2_bn[0][0]']   \n",
      " ation)                                                                                           \n",
      "                                                                                                  \n",
      " conv2_block2_3_conv (Conv2  (None, 32, 32, 256)          16640     ['conv2_block2_2_relu[0][0]'] \n",
      " D)                                                                                               \n",
      "                                                                                                  \n",
      " conv2_block2_out (Add)      (None, 32, 32, 256)          0         ['conv2_block1_out[0][0]',    \n",
      "                                                                     'conv2_block2_3_conv[0][0]'] \n",
      "                                                                                                  \n",
      " conv2_block3_preact_bn (Ba  (None, 32, 32, 256)          1024      ['conv2_block2_out[0][0]']    \n"
     ]
    },
    {
     "name": "stdout",
     "output_type": "stream",
     "text": [
      " tchNormalization)                                                                                \n",
      "                                                                                                  \n",
      " conv2_block3_preact_relu (  (None, 32, 32, 256)          0         ['conv2_block3_preact_bn[0][0]\n",
      " Activation)                                                        ']                            \n",
      "                                                                                                  \n",
      " conv2_block3_1_conv (Conv2  (None, 32, 32, 64)           16384     ['conv2_block3_preact_relu[0][\n",
      " D)                                                                 0]']                          \n",
      "                                                                                                  \n",
      " conv2_block3_1_bn (BatchNo  (None, 32, 32, 64)           256       ['conv2_block3_1_conv[0][0]'] \n",
      " rmalization)                                                                                     \n",
      "                                                                                                  \n",
      " conv2_block3_1_relu (Activ  (None, 32, 32, 64)           0         ['conv2_block3_1_bn[0][0]']   \n",
      " ation)                                                                                           \n",
      "                                                                                                  \n",
      " conv2_block3_2_pad (ZeroPa  (None, 34, 34, 64)           0         ['conv2_block3_1_relu[0][0]'] \n",
      " dding2D)                                                                                         \n",
      "                                                                                                  \n",
      " conv2_block3_2_conv (Conv2  (None, 16, 16, 64)           36864     ['conv2_block3_2_pad[0][0]']  \n",
      " D)                                                                                               \n",
      "                                                                                                  \n",
      " conv2_block3_2_bn (BatchNo  (None, 16, 16, 64)           256       ['conv2_block3_2_conv[0][0]'] \n",
      " rmalization)                                                                                     \n",
      "                                                                                                  \n",
      " conv2_block3_2_relu (Activ  (None, 16, 16, 64)           0         ['conv2_block3_2_bn[0][0]']   \n",
      " ation)                                                                                           \n",
      "                                                                                                  \n",
      " max_pooling2d_3 (MaxPoolin  (None, 16, 16, 256)          0         ['conv2_block2_out[0][0]']    \n",
      " g2D)                                                                                             \n",
      "                                                                                                  \n",
      " conv2_block3_3_conv (Conv2  (None, 16, 16, 256)          16640     ['conv2_block3_2_relu[0][0]'] \n",
      " D)                                                                                               \n",
      "                                                                                                  \n",
      " conv2_block3_out (Add)      (None, 16, 16, 256)          0         ['max_pooling2d_3[0][0]',     \n",
      "                                                                     'conv2_block3_3_conv[0][0]'] \n",
      "                                                                                                  \n",
      " conv3_block1_preact_bn (Ba  (None, 16, 16, 256)          1024      ['conv2_block3_out[0][0]']    \n",
      " tchNormalization)                                                                                \n",
      "                                                                                                  \n",
      " conv3_block1_preact_relu (  (None, 16, 16, 256)          0         ['conv3_block1_preact_bn[0][0]\n",
      " Activation)                                                        ']                            \n",
      "                                                                                                  \n",
      " conv3_block1_1_conv (Conv2  (None, 16, 16, 128)          32768     ['conv3_block1_preact_relu[0][\n",
      " D)                                                                 0]']                          \n",
      "                                                                                                  \n",
      " conv3_block1_1_bn (BatchNo  (None, 16, 16, 128)          512       ['conv3_block1_1_conv[0][0]'] \n",
      " rmalization)                                                                                     \n",
      "                                                                                                  \n",
      " conv3_block1_1_relu (Activ  (None, 16, 16, 128)          0         ['conv3_block1_1_bn[0][0]']   \n",
      " ation)                                                                                           \n",
      "                                                                                                  \n",
      " conv3_block1_2_pad (ZeroPa  (None, 18, 18, 128)          0         ['conv3_block1_1_relu[0][0]'] \n",
      " dding2D)                                                                                         \n",
      "                                                                                                  \n",
      " conv3_block1_2_conv (Conv2  (None, 16, 16, 128)          147456    ['conv3_block1_2_pad[0][0]']  \n",
      " D)                                                                                               \n",
      "                                                                                                  \n",
      " conv3_block1_2_bn (BatchNo  (None, 16, 16, 128)          512       ['conv3_block1_2_conv[0][0]'] \n",
      " rmalization)                                                                                     \n",
      "                                                                                                  \n",
      " conv3_block1_2_relu (Activ  (None, 16, 16, 128)          0         ['conv3_block1_2_bn[0][0]']   \n",
      " ation)                                                                                           \n",
      "                                                                                                  \n",
      " conv3_block1_0_conv (Conv2  (None, 16, 16, 512)          131584    ['conv3_block1_preact_relu[0][\n",
      " D)                                                                 0]']                          \n",
      "                                                                                                  \n",
      " conv3_block1_3_conv (Conv2  (None, 16, 16, 512)          66048     ['conv3_block1_2_relu[0][0]'] \n",
      " D)                                                                                               \n",
      "                                                                                                  \n",
      " conv3_block1_out (Add)      (None, 16, 16, 512)          0         ['conv3_block1_0_conv[0][0]', \n",
      "                                                                     'conv3_block1_3_conv[0][0]'] \n",
      "                                                                                                  \n",
      " conv3_block2_preact_bn (Ba  (None, 16, 16, 512)          2048      ['conv3_block1_out[0][0]']    \n",
      " tchNormalization)                                                                                \n",
      "                                                                                                  \n",
      " conv3_block2_preact_relu (  (None, 16, 16, 512)          0         ['conv3_block2_preact_bn[0][0]\n",
      " Activation)                                                        ']                            \n",
      "                                                                                                  \n",
      " conv3_block2_1_conv (Conv2  (None, 16, 16, 128)          65536     ['conv3_block2_preact_relu[0][\n",
      " D)                                                                 0]']                          \n",
      "                                                                                                  \n",
      " conv3_block2_1_bn (BatchNo  (None, 16, 16, 128)          512       ['conv3_block2_1_conv[0][0]'] \n",
      " rmalization)                                                                                     \n",
      "                                                                                                  \n"
     ]
    },
    {
     "name": "stdout",
     "output_type": "stream",
     "text": [
      " conv3_block2_1_relu (Activ  (None, 16, 16, 128)          0         ['conv3_block2_1_bn[0][0]']   \n",
      " ation)                                                                                           \n",
      "                                                                                                  \n",
      " conv3_block2_2_pad (ZeroPa  (None, 18, 18, 128)          0         ['conv3_block2_1_relu[0][0]'] \n",
      " dding2D)                                                                                         \n",
      "                                                                                                  \n",
      " conv3_block2_2_conv (Conv2  (None, 16, 16, 128)          147456    ['conv3_block2_2_pad[0][0]']  \n",
      " D)                                                                                               \n",
      "                                                                                                  \n",
      " conv3_block2_2_bn (BatchNo  (None, 16, 16, 128)          512       ['conv3_block2_2_conv[0][0]'] \n",
      " rmalization)                                                                                     \n",
      "                                                                                                  \n",
      " conv3_block2_2_relu (Activ  (None, 16, 16, 128)          0         ['conv3_block2_2_bn[0][0]']   \n",
      " ation)                                                                                           \n",
      "                                                                                                  \n",
      " conv3_block2_3_conv (Conv2  (None, 16, 16, 512)          66048     ['conv3_block2_2_relu[0][0]'] \n",
      " D)                                                                                               \n",
      "                                                                                                  \n",
      " conv3_block2_out (Add)      (None, 16, 16, 512)          0         ['conv3_block1_out[0][0]',    \n",
      "                                                                     'conv3_block2_3_conv[0][0]'] \n",
      "                                                                                                  \n",
      " conv3_block3_preact_bn (Ba  (None, 16, 16, 512)          2048      ['conv3_block2_out[0][0]']    \n",
      " tchNormalization)                                                                                \n",
      "                                                                                                  \n",
      " conv3_block3_preact_relu (  (None, 16, 16, 512)          0         ['conv3_block3_preact_bn[0][0]\n",
      " Activation)                                                        ']                            \n",
      "                                                                                                  \n",
      " conv3_block3_1_conv (Conv2  (None, 16, 16, 128)          65536     ['conv3_block3_preact_relu[0][\n",
      " D)                                                                 0]']                          \n",
      "                                                                                                  \n",
      " conv3_block3_1_bn (BatchNo  (None, 16, 16, 128)          512       ['conv3_block3_1_conv[0][0]'] \n",
      " rmalization)                                                                                     \n",
      "                                                                                                  \n",
      " conv3_block3_1_relu (Activ  (None, 16, 16, 128)          0         ['conv3_block3_1_bn[0][0]']   \n",
      " ation)                                                                                           \n",
      "                                                                                                  \n",
      " conv3_block3_2_pad (ZeroPa  (None, 18, 18, 128)          0         ['conv3_block3_1_relu[0][0]'] \n",
      " dding2D)                                                                                         \n",
      "                                                                                                  \n",
      " conv3_block3_2_conv (Conv2  (None, 16, 16, 128)          147456    ['conv3_block3_2_pad[0][0]']  \n",
      " D)                                                                                               \n",
      "                                                                                                  \n",
      " conv3_block3_2_bn (BatchNo  (None, 16, 16, 128)          512       ['conv3_block3_2_conv[0][0]'] \n",
      " rmalization)                                                                                     \n",
      "                                                                                                  \n",
      " conv3_block3_2_relu (Activ  (None, 16, 16, 128)          0         ['conv3_block3_2_bn[0][0]']   \n",
      " ation)                                                                                           \n",
      "                                                                                                  \n",
      " conv3_block3_3_conv (Conv2  (None, 16, 16, 512)          66048     ['conv3_block3_2_relu[0][0]'] \n",
      " D)                                                                                               \n",
      "                                                                                                  \n",
      " conv3_block3_out (Add)      (None, 16, 16, 512)          0         ['conv3_block2_out[0][0]',    \n",
      "                                                                     'conv3_block3_3_conv[0][0]'] \n",
      "                                                                                                  \n",
      " conv3_block4_preact_bn (Ba  (None, 16, 16, 512)          2048      ['conv3_block3_out[0][0]']    \n",
      " tchNormalization)                                                                                \n",
      "                                                                                                  \n",
      " conv3_block4_preact_relu (  (None, 16, 16, 512)          0         ['conv3_block4_preact_bn[0][0]\n",
      " Activation)                                                        ']                            \n",
      "                                                                                                  \n",
      " conv3_block4_1_conv (Conv2  (None, 16, 16, 128)          65536     ['conv3_block4_preact_relu[0][\n",
      " D)                                                                 0]']                          \n",
      "                                                                                                  \n",
      " conv3_block4_1_bn (BatchNo  (None, 16, 16, 128)          512       ['conv3_block4_1_conv[0][0]'] \n",
      " rmalization)                                                                                     \n",
      "                                                                                                  \n",
      " conv3_block4_1_relu (Activ  (None, 16, 16, 128)          0         ['conv3_block4_1_bn[0][0]']   \n",
      " ation)                                                                                           \n",
      "                                                                                                  \n",
      " conv3_block4_2_pad (ZeroPa  (None, 18, 18, 128)          0         ['conv3_block4_1_relu[0][0]'] \n",
      " dding2D)                                                                                         \n",
      "                                                                                                  \n",
      " conv3_block4_2_conv (Conv2  (None, 8, 8, 128)            147456    ['conv3_block4_2_pad[0][0]']  \n",
      " D)                                                                                               \n",
      "                                                                                                  \n",
      " conv3_block4_2_bn (BatchNo  (None, 8, 8, 128)            512       ['conv3_block4_2_conv[0][0]'] \n",
      " rmalization)                                                                                     \n",
      "                                                                                                  \n",
      " conv3_block4_2_relu (Activ  (None, 8, 8, 128)            0         ['conv3_block4_2_bn[0][0]']   \n",
      " ation)                                                                                           \n",
      "                                                                                                  \n",
      " max_pooling2d_4 (MaxPoolin  (None, 8, 8, 512)            0         ['conv3_block3_out[0][0]']    \n",
      " g2D)                                                                                             \n"
     ]
    },
    {
     "name": "stdout",
     "output_type": "stream",
     "text": [
      "                                                                                                  \n",
      " conv3_block4_3_conv (Conv2  (None, 8, 8, 512)            66048     ['conv3_block4_2_relu[0][0]'] \n",
      " D)                                                                                               \n",
      "                                                                                                  \n",
      " conv3_block4_out (Add)      (None, 8, 8, 512)            0         ['max_pooling2d_4[0][0]',     \n",
      "                                                                     'conv3_block4_3_conv[0][0]'] \n",
      "                                                                                                  \n",
      " conv4_block1_preact_bn (Ba  (None, 8, 8, 512)            2048      ['conv3_block4_out[0][0]']    \n",
      " tchNormalization)                                                                                \n",
      "                                                                                                  \n",
      " conv4_block1_preact_relu (  (None, 8, 8, 512)            0         ['conv4_block1_preact_bn[0][0]\n",
      " Activation)                                                        ']                            \n",
      "                                                                                                  \n",
      " conv4_block1_1_conv (Conv2  (None, 8, 8, 256)            131072    ['conv4_block1_preact_relu[0][\n",
      " D)                                                                 0]']                          \n",
      "                                                                                                  \n",
      " conv4_block1_1_bn (BatchNo  (None, 8, 8, 256)            1024      ['conv4_block1_1_conv[0][0]'] \n",
      " rmalization)                                                                                     \n",
      "                                                                                                  \n",
      " conv4_block1_1_relu (Activ  (None, 8, 8, 256)            0         ['conv4_block1_1_bn[0][0]']   \n",
      " ation)                                                                                           \n",
      "                                                                                                  \n",
      " conv4_block1_2_pad (ZeroPa  (None, 10, 10, 256)          0         ['conv4_block1_1_relu[0][0]'] \n",
      " dding2D)                                                                                         \n",
      "                                                                                                  \n",
      " conv4_block1_2_conv (Conv2  (None, 8, 8, 256)            589824    ['conv4_block1_2_pad[0][0]']  \n",
      " D)                                                                                               \n",
      "                                                                                                  \n",
      " conv4_block1_2_bn (BatchNo  (None, 8, 8, 256)            1024      ['conv4_block1_2_conv[0][0]'] \n",
      " rmalization)                                                                                     \n",
      "                                                                                                  \n",
      " conv4_block1_2_relu (Activ  (None, 8, 8, 256)            0         ['conv4_block1_2_bn[0][0]']   \n",
      " ation)                                                                                           \n",
      "                                                                                                  \n",
      " conv4_block1_0_conv (Conv2  (None, 8, 8, 1024)           525312    ['conv4_block1_preact_relu[0][\n",
      " D)                                                                 0]']                          \n",
      "                                                                                                  \n",
      " conv4_block1_3_conv (Conv2  (None, 8, 8, 1024)           263168    ['conv4_block1_2_relu[0][0]'] \n",
      " D)                                                                                               \n",
      "                                                                                                  \n",
      " conv4_block1_out (Add)      (None, 8, 8, 1024)           0         ['conv4_block1_0_conv[0][0]', \n",
      "                                                                     'conv4_block1_3_conv[0][0]'] \n",
      "                                                                                                  \n",
      " conv4_block2_preact_bn (Ba  (None, 8, 8, 1024)           4096      ['conv4_block1_out[0][0]']    \n",
      " tchNormalization)                                                                                \n",
      "                                                                                                  \n",
      " conv4_block2_preact_relu (  (None, 8, 8, 1024)           0         ['conv4_block2_preact_bn[0][0]\n",
      " Activation)                                                        ']                            \n",
      "                                                                                                  \n",
      " conv4_block2_1_conv (Conv2  (None, 8, 8, 256)            262144    ['conv4_block2_preact_relu[0][\n",
      " D)                                                                 0]']                          \n",
      "                                                                                                  \n",
      " conv4_block2_1_bn (BatchNo  (None, 8, 8, 256)            1024      ['conv4_block2_1_conv[0][0]'] \n",
      " rmalization)                                                                                     \n",
      "                                                                                                  \n",
      " conv4_block2_1_relu (Activ  (None, 8, 8, 256)            0         ['conv4_block2_1_bn[0][0]']   \n",
      " ation)                                                                                           \n",
      "                                                                                                  \n",
      " conv4_block2_2_pad (ZeroPa  (None, 10, 10, 256)          0         ['conv4_block2_1_relu[0][0]'] \n",
      " dding2D)                                                                                         \n",
      "                                                                                                  \n",
      " conv4_block2_2_conv (Conv2  (None, 8, 8, 256)            589824    ['conv4_block2_2_pad[0][0]']  \n",
      " D)                                                                                               \n",
      "                                                                                                  \n",
      " conv4_block2_2_bn (BatchNo  (None, 8, 8, 256)            1024      ['conv4_block2_2_conv[0][0]'] \n",
      " rmalization)                                                                                     \n",
      "                                                                                                  \n",
      " conv4_block2_2_relu (Activ  (None, 8, 8, 256)            0         ['conv4_block2_2_bn[0][0]']   \n",
      " ation)                                                                                           \n",
      "                                                                                                  \n",
      " conv4_block2_3_conv (Conv2  (None, 8, 8, 1024)           263168    ['conv4_block2_2_relu[0][0]'] \n",
      " D)                                                                                               \n",
      "                                                                                                  \n",
      " conv4_block2_out (Add)      (None, 8, 8, 1024)           0         ['conv4_block1_out[0][0]',    \n",
      "                                                                     'conv4_block2_3_conv[0][0]'] \n",
      "                                                                                                  \n",
      " conv4_block3_preact_bn (Ba  (None, 8, 8, 1024)           4096      ['conv4_block2_out[0][0]']    \n",
      " tchNormalization)                                                                                \n",
      "                                                                                                  \n",
      " conv4_block3_preact_relu (  (None, 8, 8, 1024)           0         ['conv4_block3_preact_bn[0][0]\n",
      " Activation)                                                        ']                            \n",
      "                                                                                                  \n",
      " conv4_block3_1_conv (Conv2  (None, 8, 8, 256)            262144    ['conv4_block3_preact_relu[0][\n"
     ]
    },
    {
     "name": "stdout",
     "output_type": "stream",
     "text": [
      " D)                                                                 0]']                          \n",
      "                                                                                                  \n",
      " conv4_block3_1_bn (BatchNo  (None, 8, 8, 256)            1024      ['conv4_block3_1_conv[0][0]'] \n",
      " rmalization)                                                                                     \n",
      "                                                                                                  \n",
      " conv4_block3_1_relu (Activ  (None, 8, 8, 256)            0         ['conv4_block3_1_bn[0][0]']   \n",
      " ation)                                                                                           \n",
      "                                                                                                  \n",
      " conv4_block3_2_pad (ZeroPa  (None, 10, 10, 256)          0         ['conv4_block3_1_relu[0][0]'] \n",
      " dding2D)                                                                                         \n",
      "                                                                                                  \n",
      " conv4_block3_2_conv (Conv2  (None, 8, 8, 256)            589824    ['conv4_block3_2_pad[0][0]']  \n",
      " D)                                                                                               \n",
      "                                                                                                  \n",
      " conv4_block3_2_bn (BatchNo  (None, 8, 8, 256)            1024      ['conv4_block3_2_conv[0][0]'] \n",
      " rmalization)                                                                                     \n",
      "                                                                                                  \n",
      " conv4_block3_2_relu (Activ  (None, 8, 8, 256)            0         ['conv4_block3_2_bn[0][0]']   \n",
      " ation)                                                                                           \n",
      "                                                                                                  \n",
      " conv4_block3_3_conv (Conv2  (None, 8, 8, 1024)           263168    ['conv4_block3_2_relu[0][0]'] \n",
      " D)                                                                                               \n",
      "                                                                                                  \n",
      " conv4_block3_out (Add)      (None, 8, 8, 1024)           0         ['conv4_block2_out[0][0]',    \n",
      "                                                                     'conv4_block3_3_conv[0][0]'] \n",
      "                                                                                                  \n",
      " conv4_block4_preact_bn (Ba  (None, 8, 8, 1024)           4096      ['conv4_block3_out[0][0]']    \n",
      " tchNormalization)                                                                                \n",
      "                                                                                                  \n",
      " conv4_block4_preact_relu (  (None, 8, 8, 1024)           0         ['conv4_block4_preact_bn[0][0]\n",
      " Activation)                                                        ']                            \n",
      "                                                                                                  \n",
      " conv4_block4_1_conv (Conv2  (None, 8, 8, 256)            262144    ['conv4_block4_preact_relu[0][\n",
      " D)                                                                 0]']                          \n",
      "                                                                                                  \n",
      " conv4_block4_1_bn (BatchNo  (None, 8, 8, 256)            1024      ['conv4_block4_1_conv[0][0]'] \n",
      " rmalization)                                                                                     \n",
      "                                                                                                  \n",
      " conv4_block4_1_relu (Activ  (None, 8, 8, 256)            0         ['conv4_block4_1_bn[0][0]']   \n",
      " ation)                                                                                           \n",
      "                                                                                                  \n",
      " conv4_block4_2_pad (ZeroPa  (None, 10, 10, 256)          0         ['conv4_block4_1_relu[0][0]'] \n",
      " dding2D)                                                                                         \n",
      "                                                                                                  \n",
      " conv4_block4_2_conv (Conv2  (None, 8, 8, 256)            589824    ['conv4_block4_2_pad[0][0]']  \n",
      " D)                                                                                               \n",
      "                                                                                                  \n",
      " conv4_block4_2_bn (BatchNo  (None, 8, 8, 256)            1024      ['conv4_block4_2_conv[0][0]'] \n",
      " rmalization)                                                                                     \n",
      "                                                                                                  \n",
      " conv4_block4_2_relu (Activ  (None, 8, 8, 256)            0         ['conv4_block4_2_bn[0][0]']   \n",
      " ation)                                                                                           \n",
      "                                                                                                  \n",
      " conv4_block4_3_conv (Conv2  (None, 8, 8, 1024)           263168    ['conv4_block4_2_relu[0][0]'] \n",
      " D)                                                                                               \n",
      "                                                                                                  \n",
      " conv4_block4_out (Add)      (None, 8, 8, 1024)           0         ['conv4_block3_out[0][0]',    \n",
      "                                                                     'conv4_block4_3_conv[0][0]'] \n",
      "                                                                                                  \n",
      " conv4_block5_preact_bn (Ba  (None, 8, 8, 1024)           4096      ['conv4_block4_out[0][0]']    \n",
      " tchNormalization)                                                                                \n",
      "                                                                                                  \n",
      " conv4_block5_preact_relu (  (None, 8, 8, 1024)           0         ['conv4_block5_preact_bn[0][0]\n",
      " Activation)                                                        ']                            \n",
      "                                                                                                  \n",
      " conv4_block5_1_conv (Conv2  (None, 8, 8, 256)            262144    ['conv4_block5_preact_relu[0][\n",
      " D)                                                                 0]']                          \n",
      "                                                                                                  \n",
      " conv4_block5_1_bn (BatchNo  (None, 8, 8, 256)            1024      ['conv4_block5_1_conv[0][0]'] \n",
      " rmalization)                                                                                     \n",
      "                                                                                                  \n",
      " conv4_block5_1_relu (Activ  (None, 8, 8, 256)            0         ['conv4_block5_1_bn[0][0]']   \n",
      " ation)                                                                                           \n",
      "                                                                                                  \n",
      " conv4_block5_2_pad (ZeroPa  (None, 10, 10, 256)          0         ['conv4_block5_1_relu[0][0]'] \n",
      " dding2D)                                                                                         \n",
      "                                                                                                  \n",
      " conv4_block5_2_conv (Conv2  (None, 8, 8, 256)            589824    ['conv4_block5_2_pad[0][0]']  \n",
      " D)                                                                                               \n",
      "                                                                                                  \n",
      " conv4_block5_2_bn (BatchNo  (None, 8, 8, 256)            1024      ['conv4_block5_2_conv[0][0]'] \n",
      " rmalization)                                                                                     \n",
      "                                                                                                  \n"
     ]
    },
    {
     "name": "stdout",
     "output_type": "stream",
     "text": [
      " conv4_block5_2_relu (Activ  (None, 8, 8, 256)            0         ['conv4_block5_2_bn[0][0]']   \n",
      " ation)                                                                                           \n",
      "                                                                                                  \n",
      " conv4_block5_3_conv (Conv2  (None, 8, 8, 1024)           263168    ['conv4_block5_2_relu[0][0]'] \n",
      " D)                                                                                               \n",
      "                                                                                                  \n",
      " conv4_block5_out (Add)      (None, 8, 8, 1024)           0         ['conv4_block4_out[0][0]',    \n",
      "                                                                     'conv4_block5_3_conv[0][0]'] \n",
      "                                                                                                  \n",
      " conv4_block6_preact_bn (Ba  (None, 8, 8, 1024)           4096      ['conv4_block5_out[0][0]']    \n",
      " tchNormalization)                                                                                \n",
      "                                                                                                  \n",
      " conv4_block6_preact_relu (  (None, 8, 8, 1024)           0         ['conv4_block6_preact_bn[0][0]\n",
      " Activation)                                                        ']                            \n",
      "                                                                                                  \n",
      " conv4_block6_1_conv (Conv2  (None, 8, 8, 256)            262144    ['conv4_block6_preact_relu[0][\n",
      " D)                                                                 0]']                          \n",
      "                                                                                                  \n",
      " conv4_block6_1_bn (BatchNo  (None, 8, 8, 256)            1024      ['conv4_block6_1_conv[0][0]'] \n",
      " rmalization)                                                                                     \n",
      "                                                                                                  \n",
      " conv4_block6_1_relu (Activ  (None, 8, 8, 256)            0         ['conv4_block6_1_bn[0][0]']   \n",
      " ation)                                                                                           \n",
      "                                                                                                  \n",
      " conv4_block6_2_pad (ZeroPa  (None, 10, 10, 256)          0         ['conv4_block6_1_relu[0][0]'] \n",
      " dding2D)                                                                                         \n",
      "                                                                                                  \n",
      " conv4_block6_2_conv (Conv2  (None, 4, 4, 256)            589824    ['conv4_block6_2_pad[0][0]']  \n",
      " D)                                                                                               \n",
      "                                                                                                  \n",
      " conv4_block6_2_bn (BatchNo  (None, 4, 4, 256)            1024      ['conv4_block6_2_conv[0][0]'] \n",
      " rmalization)                                                                                     \n",
      "                                                                                                  \n",
      " conv4_block6_2_relu (Activ  (None, 4, 4, 256)            0         ['conv4_block6_2_bn[0][0]']   \n",
      " ation)                                                                                           \n",
      "                                                                                                  \n",
      " max_pooling2d_5 (MaxPoolin  (None, 4, 4, 1024)           0         ['conv4_block5_out[0][0]']    \n",
      " g2D)                                                                                             \n",
      "                                                                                                  \n",
      " conv4_block6_3_conv (Conv2  (None, 4, 4, 1024)           263168    ['conv4_block6_2_relu[0][0]'] \n",
      " D)                                                                                               \n",
      "                                                                                                  \n",
      " conv4_block6_out (Add)      (None, 4, 4, 1024)           0         ['max_pooling2d_5[0][0]',     \n",
      "                                                                     'conv4_block6_3_conv[0][0]'] \n",
      "                                                                                                  \n",
      " conv5_block1_preact_bn (Ba  (None, 4, 4, 1024)           4096      ['conv4_block6_out[0][0]']    \n",
      " tchNormalization)                                                                                \n",
      "                                                                                                  \n",
      " conv5_block1_preact_relu (  (None, 4, 4, 1024)           0         ['conv5_block1_preact_bn[0][0]\n",
      " Activation)                                                        ']                            \n",
      "                                                                                                  \n",
      " conv5_block1_1_conv (Conv2  (None, 4, 4, 512)            524288    ['conv5_block1_preact_relu[0][\n",
      " D)                                                                 0]']                          \n",
      "                                                                                                  \n",
      " conv5_block1_1_bn (BatchNo  (None, 4, 4, 512)            2048      ['conv5_block1_1_conv[0][0]'] \n",
      " rmalization)                                                                                     \n",
      "                                                                                                  \n",
      " conv5_block1_1_relu (Activ  (None, 4, 4, 512)            0         ['conv5_block1_1_bn[0][0]']   \n",
      " ation)                                                                                           \n",
      "                                                                                                  \n",
      " conv5_block1_2_pad (ZeroPa  (None, 6, 6, 512)            0         ['conv5_block1_1_relu[0][0]'] \n",
      " dding2D)                                                                                         \n",
      "                                                                                                  \n",
      " conv5_block1_2_conv (Conv2  (None, 4, 4, 512)            2359296   ['conv5_block1_2_pad[0][0]']  \n",
      " D)                                                                                               \n",
      "                                                                                                  \n",
      " conv5_block1_2_bn (BatchNo  (None, 4, 4, 512)            2048      ['conv5_block1_2_conv[0][0]'] \n",
      " rmalization)                                                                                     \n",
      "                                                                                                  \n",
      " conv5_block1_2_relu (Activ  (None, 4, 4, 512)            0         ['conv5_block1_2_bn[0][0]']   \n",
      " ation)                                                                                           \n",
      "                                                                                                  \n",
      " conv5_block1_0_conv (Conv2  (None, 4, 4, 2048)           2099200   ['conv5_block1_preact_relu[0][\n",
      " D)                                                                 0]']                          \n",
      "                                                                                                  \n",
      " conv5_block1_3_conv (Conv2  (None, 4, 4, 2048)           1050624   ['conv5_block1_2_relu[0][0]'] \n",
      " D)                                                                                               \n",
      "                                                                                                  \n",
      " conv5_block1_out (Add)      (None, 4, 4, 2048)           0         ['conv5_block1_0_conv[0][0]', \n",
      "                                                                     'conv5_block1_3_conv[0][0]'] \n",
      "                                                                                                  \n",
      " conv5_block2_preact_bn (Ba  (None, 4, 4, 2048)           8192      ['conv5_block1_out[0][0]']    \n",
      " tchNormalization)                                                                                \n"
     ]
    },
    {
     "name": "stdout",
     "output_type": "stream",
     "text": [
      "                                                                                                  \n",
      " conv5_block2_preact_relu (  (None, 4, 4, 2048)           0         ['conv5_block2_preact_bn[0][0]\n",
      " Activation)                                                        ']                            \n",
      "                                                                                                  \n",
      " conv5_block2_1_conv (Conv2  (None, 4, 4, 512)            1048576   ['conv5_block2_preact_relu[0][\n",
      " D)                                                                 0]']                          \n",
      "                                                                                                  \n",
      " conv5_block2_1_bn (BatchNo  (None, 4, 4, 512)            2048      ['conv5_block2_1_conv[0][0]'] \n",
      " rmalization)                                                                                     \n",
      "                                                                                                  \n",
      " conv5_block2_1_relu (Activ  (None, 4, 4, 512)            0         ['conv5_block2_1_bn[0][0]']   \n",
      " ation)                                                                                           \n",
      "                                                                                                  \n",
      " conv5_block2_2_pad (ZeroPa  (None, 6, 6, 512)            0         ['conv5_block2_1_relu[0][0]'] \n",
      " dding2D)                                                                                         \n",
      "                                                                                                  \n",
      " conv5_block2_2_conv (Conv2  (None, 4, 4, 512)            2359296   ['conv5_block2_2_pad[0][0]']  \n",
      " D)                                                                                               \n",
      "                                                                                                  \n",
      " conv5_block2_2_bn (BatchNo  (None, 4, 4, 512)            2048      ['conv5_block2_2_conv[0][0]'] \n",
      " rmalization)                                                                                     \n",
      "                                                                                                  \n",
      " conv5_block2_2_relu (Activ  (None, 4, 4, 512)            0         ['conv5_block2_2_bn[0][0]']   \n",
      " ation)                                                                                           \n",
      "                                                                                                  \n",
      " conv5_block2_3_conv (Conv2  (None, 4, 4, 2048)           1050624   ['conv5_block2_2_relu[0][0]'] \n",
      " D)                                                                                               \n",
      "                                                                                                  \n",
      " conv5_block2_out (Add)      (None, 4, 4, 2048)           0         ['conv5_block1_out[0][0]',    \n",
      "                                                                     'conv5_block2_3_conv[0][0]'] \n",
      "                                                                                                  \n",
      " conv5_block3_preact_bn (Ba  (None, 4, 4, 2048)           8192      ['conv5_block2_out[0][0]']    \n",
      " tchNormalization)                                                                                \n",
      "                                                                                                  \n",
      " conv5_block3_preact_relu (  (None, 4, 4, 2048)           0         ['conv5_block3_preact_bn[0][0]\n",
      " Activation)                                                        ']                            \n",
      "                                                                                                  \n",
      " conv5_block3_1_conv (Conv2  (None, 4, 4, 512)            1048576   ['conv5_block3_preact_relu[0][\n",
      " D)                                                                 0]']                          \n",
      "                                                                                                  \n",
      " conv5_block3_1_bn (BatchNo  (None, 4, 4, 512)            2048      ['conv5_block3_1_conv[0][0]'] \n",
      " rmalization)                                                                                     \n",
      "                                                                                                  \n",
      " conv5_block3_1_relu (Activ  (None, 4, 4, 512)            0         ['conv5_block3_1_bn[0][0]']   \n",
      " ation)                                                                                           \n",
      "                                                                                                  \n",
      " conv5_block3_2_pad (ZeroPa  (None, 6, 6, 512)            0         ['conv5_block3_1_relu[0][0]'] \n",
      " dding2D)                                                                                         \n",
      "                                                                                                  \n",
      " conv5_block3_2_conv (Conv2  (None, 4, 4, 512)            2359296   ['conv5_block3_2_pad[0][0]']  \n",
      " D)                                                                                               \n",
      "                                                                                                  \n",
      " conv5_block3_2_bn (BatchNo  (None, 4, 4, 512)            2048      ['conv5_block3_2_conv[0][0]'] \n",
      " rmalization)                                                                                     \n",
      "                                                                                                  \n",
      " conv5_block3_2_relu (Activ  (None, 4, 4, 512)            0         ['conv5_block3_2_bn[0][0]']   \n",
      " ation)                                                                                           \n",
      "                                                                                                  \n",
      " conv5_block3_3_conv (Conv2  (None, 4, 4, 2048)           1050624   ['conv5_block3_2_relu[0][0]'] \n",
      " D)                                                                                               \n",
      "                                                                                                  \n",
      " conv5_block3_out (Add)      (None, 4, 4, 2048)           0         ['conv5_block2_out[0][0]',    \n",
      "                                                                     'conv5_block3_3_conv[0][0]'] \n",
      "                                                                                                  \n",
      " post_bn (BatchNormalizatio  (None, 4, 4, 2048)           8192      ['conv5_block3_out[0][0]']    \n",
      " n)                                                                                               \n",
      "                                                                                                  \n",
      " post_relu (Activation)      (None, 4, 4, 2048)           0         ['post_bn[0][0]']             \n",
      "                                                                                                  \n",
      "==================================================================================================\n",
      "Total params: 23564800 (89.89 MB)\n",
      "Trainable params: 23519360 (89.72 MB)\n",
      "Non-trainable params: 45440 (177.50 KB)\n",
      "__________________________________________________________________________________________________\n"
     ]
    }
   ],
   "source": [
    "resnet.summary()"
   ]
  },
  {
   "cell_type": "code",
   "execution_count": 75,
   "id": "cc66218e",
   "metadata": {},
   "outputs": [],
   "source": [
    "#instantiate and train model  -12288 input shape if 64 pix   196608 if 256     49152\n",
    "np.random.seed(42)\n",
    "all_res_model = models.Sequential()\n",
    "all_res_model.add(resnet)\n",
    "all_res_model.add(layers.Flatten())\n",
    "all_res_model.add(layers.Dense(132, activation='relu'))\n",
    "all_res_model.add(layers.Dense(5, activation='sigmoid'))\n"
   ]
  },
  {
   "cell_type": "code",
   "execution_count": 76,
   "id": "58009833",
   "metadata": {},
   "outputs": [
    {
     "name": "stdout",
     "output_type": "stream",
     "text": [
      "resnet50v2 True\n",
      "flatten_1 True\n",
      "dense_2 True\n",
      "dense_3 True\n",
      "176\n"
     ]
    }
   ],
   "source": [
    "for layer in all_res_model.layers:\n",
    "    print(layer.name, layer.trainable)\n",
    "    \n",
    "# Similarly, you can check how many trainable weights are in the model\n",
    "print(len(all_res_model.trainable_weights))"
   ]
  },
  {
   "cell_type": "code",
   "execution_count": 77,
   "id": "9b20c9a5",
   "metadata": {},
   "outputs": [],
   "source": [
    "resnet.trainable = False"
   ]
  },
  {
   "cell_type": "code",
   "execution_count": 78,
   "id": "8857565b",
   "metadata": {},
   "outputs": [
    {
     "name": "stdout",
     "output_type": "stream",
     "text": [
      "resnet50v2 False\n",
      "flatten_1 True\n",
      "dense_2 True\n",
      "dense_3 True\n",
      "4\n"
     ]
    }
   ],
   "source": [
    "for layer in all_res_model.layers:\n",
    "    print(layer.name, layer.trainable)\n",
    "    \n",
    "# Similarly, we can check how many trainable weights are in the model\n",
    "print(len(all_res_model.trainable_weights))"
   ]
  },
  {
   "cell_type": "code",
   "execution_count": 79,
   "id": "2a713ed1",
   "metadata": {},
   "outputs": [],
   "source": [
    "all_res_model.compile(loss='categorical_crossentropy',\n",
    "              optimizer=optimizers.RMSprop(learning_rate=2e-5),\n",
    "              metrics=['acc'])"
   ]
  },
  {
   "cell_type": "code",
   "execution_count": 80,
   "id": "900a075c",
   "metadata": {},
   "outputs": [
    {
     "name": "stdout",
     "output_type": "stream",
     "text": [
      "Epoch 1/10\n",
      "27/27 [==============================] - 273s 9s/step - loss: 50.3420 - acc: 0.3853 - val_loss: 45.2471 - val_acc: 0.3074\n",
      "Epoch 2/10\n",
      "27/27 [==============================] - 230s 9s/step - loss: 33.2439 - acc: 0.4191 - val_loss: 47.4465 - val_acc: 0.3216\n",
      "Epoch 3/10\n",
      "27/27 [==============================] - 189s 7s/step - loss: 30.5328 - acc: 0.4233 - val_loss: 23.5152 - val_acc: 0.4064\n",
      "Epoch 4/10\n",
      "27/27 [==============================] - 118s 4s/step - loss: 26.4777 - acc: 0.4443 - val_loss: 31.1398 - val_acc: 0.4929\n",
      "Epoch 5/10\n",
      "27/27 [==============================] - 115s 4s/step - loss: 24.4708 - acc: 0.4569 - val_loss: 24.5505 - val_acc: 0.5150\n",
      "Epoch 6/10\n",
      "27/27 [==============================] - 119s 4s/step - loss: 24.4672 - acc: 0.4562 - val_loss: 24.2635 - val_acc: 0.5389\n",
      "Epoch 7/10\n",
      "27/27 [==============================] - 116s 4s/step - loss: 22.1957 - acc: 0.4589 - val_loss: 21.2281 - val_acc: 0.3472\n",
      "Epoch 8/10\n",
      "27/27 [==============================] - 184s 7s/step - loss: 21.7789 - acc: 0.4710 - val_loss: 19.2429 - val_acc: 0.5345\n",
      "Epoch 9/10\n",
      "27/27 [==============================] - 139s 5s/step - loss: 20.0814 - acc: 0.4772 - val_loss: 30.3538 - val_acc: 0.5194\n",
      "Epoch 10/10\n",
      "27/27 [==============================] - 116s 4s/step - loss: 19.7336 - acc: 0.4870 - val_loss: 24.5786 - val_acc: 0.3163\n"
     ]
    }
   ],
   "source": [
    "all_res_history = all_res_model.fit(all_cnn_train,\n",
    "                    all_cnn_train_labels,\n",
    "                    steps_per_epoch=27,\n",
    "                    epochs=10,\n",
    "                    validation_data=(all_cnn_test, all_cnn_test_labels),\n",
    "                    validation_steps=10)"
   ]
  },
  {
   "cell_type": "markdown",
   "id": "e92537ad",
   "metadata": {},
   "source": [
    "### Evaluation"
   ]
  },
  {
   "cell_type": "code",
   "execution_count": 81,
   "id": "b80206e5",
   "metadata": {},
   "outputs": [
    {
     "name": "stdout",
     "output_type": "stream",
     "text": [
      "36/36 [==============================] - 27s 692ms/step\n"
     ]
    }
   ],
   "source": [
    "y_pred = all_res_model.predict(all_cnn_test)"
   ]
  },
  {
   "cell_type": "code",
   "execution_count": 82,
   "id": "65f7f5b1",
   "metadata": {},
   "outputs": [
    {
     "name": "stdout",
     "output_type": "stream",
     "text": [
      "              precision    recall  f1-score   support\n",
      "\n",
      "           0       0.42      0.09      0.15        91\n",
      "           1       0.63      0.04      0.08       287\n",
      "           2       0.16      0.13      0.14       150\n",
      "           3       0.43      0.02      0.04       543\n",
      "           4       0.00      0.00      0.00        61\n",
      "\n",
      "   micro avg       0.28      0.05      0.08      1132\n",
      "   macro avg       0.33      0.06      0.08      1132\n",
      "weighted avg       0.42      0.05      0.07      1132\n",
      " samples avg       0.04      0.05      0.04      1132\n",
      "\n"
     ]
    },
    {
     "name": "stderr",
     "output_type": "stream",
     "text": [
      "C:\\Users\\lalyn\\anaconda3\\lib\\site-packages\\sklearn\\metrics\\_classification.py:1318: UndefinedMetricWarning: Precision and F-score are ill-defined and being set to 0.0 in samples with no predicted labels. Use `zero_division` parameter to control this behavior.\n",
      "  _warn_prf(average, modifier, msg_start, len(result))\n"
     ]
    }
   ],
   "source": [
    "print(classification_report(all_cnn_test_labels, np.round(y_pred)))"
   ]
  },
  {
   "cell_type": "code",
   "execution_count": 83,
   "id": "e48dc54c",
   "metadata": {},
   "outputs": [
    {
     "data": {
      "image/png": "[encoded data removed]",
      "text/plain": [
       "<Figure size 500x300 with 1 Axes>"
      ]
     },
     "metadata": {},
     "output_type": "display_data"
    }
   ],
   "source": [
    "visualize_training_results(all_res_history)"
   ]
  },
  {
   "cell_type": "code",
   "execution_count": 85,
   "id": "afff8771",
   "metadata": {},
   "outputs": [
    {
     "ename": "ValueError",
     "evalue": "The number of FixedLocator locations (5), usually from a call to set_ticks, does not match the number of ticklabels (1132).",
     "output_type": "error",
     "traceback": [
      "\u001b[1;31m---------------------------------------------------------------------------\u001b[0m",
      "\u001b[1;31mValueError\u001b[0m                                Traceback (most recent call last)",
      "\u001b[1;32m~\\AppData\\Local\\Temp\\ipykernel_23036\\4026066526.py\u001b[0m in \u001b[0;36m<module>\u001b[1;34m\u001b[0m\n\u001b[0;32m      3\u001b[0m \u001b[0mcnf_matrix\u001b[0m \u001b[1;33m=\u001b[0m \u001b[0mconfusion_matrix\u001b[0m\u001b[1;33m(\u001b[0m\u001b[0mall_cnn_test_labels\u001b[0m\u001b[1;33m.\u001b[0m\u001b[0margmax\u001b[0m\u001b[1;33m(\u001b[0m\u001b[0maxis\u001b[0m\u001b[1;33m=\u001b[0m\u001b[1;36m1\u001b[0m\u001b[1;33m)\u001b[0m\u001b[1;33m,\u001b[0m \u001b[0my_pred\u001b[0m\u001b[1;33m.\u001b[0m\u001b[0margmax\u001b[0m\u001b[1;33m(\u001b[0m\u001b[0maxis\u001b[0m\u001b[1;33m=\u001b[0m\u001b[1;36m1\u001b[0m\u001b[1;33m)\u001b[0m\u001b[1;33m)\u001b[0m\u001b[1;33m\u001b[0m\u001b[1;33m\u001b[0m\u001b[0m\n\u001b[0;32m      4\u001b[0m \u001b[0mdisp\u001b[0m \u001b[1;33m=\u001b[0m \u001b[0mConfusionMatrixDisplay\u001b[0m\u001b[1;33m(\u001b[0m\u001b[0mconfusion_matrix\u001b[0m\u001b[1;33m=\u001b[0m\u001b[0mcnf_matrix\u001b[0m\u001b[1;33m,\u001b[0m \u001b[0mdisplay_labels\u001b[0m\u001b[1;33m=\u001b[0m\u001b[0mall_cnn_test_labels\u001b[0m\u001b[1;33m)\u001b[0m\u001b[1;33m\u001b[0m\u001b[1;33m\u001b[0m\u001b[0m\n\u001b[1;32m----> 5\u001b[1;33m \u001b[0mdisp\u001b[0m\u001b[1;33m.\u001b[0m\u001b[0mplot\u001b[0m\u001b[1;33m(\u001b[0m\u001b[0mcmap\u001b[0m\u001b[1;33m=\u001b[0m\u001b[0mplt\u001b[0m\u001b[1;33m.\u001b[0m\u001b[0mcm\u001b[0m\u001b[1;33m.\u001b[0m\u001b[0mBlues\u001b[0m\u001b[1;33m)\u001b[0m\u001b[1;33m;\u001b[0m\u001b[1;33m\u001b[0m\u001b[1;33m\u001b[0m\u001b[0m\n\u001b[0m",
      "\u001b[1;32m~\\anaconda3\\lib\\site-packages\\sklearn\\metrics\\_plot\\confusion_matrix.py\u001b[0m in \u001b[0;36mplot\u001b[1;34m(self, include_values, cmap, xticks_rotation, values_format, ax, colorbar)\u001b[0m\n\u001b[0;32m    161\u001b[0m         \u001b[1;32mif\u001b[0m \u001b[0mcolorbar\u001b[0m\u001b[1;33m:\u001b[0m\u001b[1;33m\u001b[0m\u001b[1;33m\u001b[0m\u001b[0m\n\u001b[0;32m    162\u001b[0m             \u001b[0mfig\u001b[0m\u001b[1;33m.\u001b[0m\u001b[0mcolorbar\u001b[0m\u001b[1;33m(\u001b[0m\u001b[0mself\u001b[0m\u001b[1;33m.\u001b[0m\u001b[0mim_\u001b[0m\u001b[1;33m,\u001b[0m \u001b[0max\u001b[0m\u001b[1;33m=\u001b[0m\u001b[0max\u001b[0m\u001b[1;33m)\u001b[0m\u001b[1;33m\u001b[0m\u001b[1;33m\u001b[0m\u001b[0m\n\u001b[1;32m--> 163\u001b[1;33m         ax.set(\n\u001b[0m\u001b[0;32m    164\u001b[0m             \u001b[0mxticks\u001b[0m\u001b[1;33m=\u001b[0m\u001b[0mnp\u001b[0m\u001b[1;33m.\u001b[0m\u001b[0marange\u001b[0m\u001b[1;33m(\u001b[0m\u001b[0mn_classes\u001b[0m\u001b[1;33m)\u001b[0m\u001b[1;33m,\u001b[0m\u001b[1;33m\u001b[0m\u001b[1;33m\u001b[0m\u001b[0m\n\u001b[0;32m    165\u001b[0m             \u001b[0myticks\u001b[0m\u001b[1;33m=\u001b[0m\u001b[0mnp\u001b[0m\u001b[1;33m.\u001b[0m\u001b[0marange\u001b[0m\u001b[1;33m(\u001b[0m\u001b[0mn_classes\u001b[0m\u001b[1;33m)\u001b[0m\u001b[1;33m,\u001b[0m\u001b[1;33m\u001b[0m\u001b[1;33m\u001b[0m\u001b[0m\n",
      "\u001b[1;32m~\\anaconda3\\lib\\site-packages\\matplotlib\\artist.py\u001b[0m in \u001b[0;36m<lambda>\u001b[1;34m(self, **kwargs)\u001b[0m\n\u001b[0;32m    114\u001b[0m             \u001b[1;32mreturn\u001b[0m\u001b[1;33m\u001b[0m\u001b[1;33m\u001b[0m\u001b[0m\n\u001b[0;32m    115\u001b[0m \u001b[1;33m\u001b[0m\u001b[0m\n\u001b[1;32m--> 116\u001b[1;33m         \u001b[0mcls\u001b[0m\u001b[1;33m.\u001b[0m\u001b[0mset\u001b[0m \u001b[1;33m=\u001b[0m \u001b[1;32mlambda\u001b[0m \u001b[0mself\u001b[0m\u001b[1;33m,\u001b[0m \u001b[1;33m**\u001b[0m\u001b[0mkwargs\u001b[0m\u001b[1;33m:\u001b[0m \u001b[0mArtist\u001b[0m\u001b[1;33m.\u001b[0m\u001b[0mset\u001b[0m\u001b[1;33m(\u001b[0m\u001b[0mself\u001b[0m\u001b[1;33m,\u001b[0m \u001b[1;33m**\u001b[0m\u001b[0mkwargs\u001b[0m\u001b[1;33m)\u001b[0m\u001b[1;33m\u001b[0m\u001b[1;33m\u001b[0m\u001b[0m\n\u001b[0m\u001b[0;32m    117\u001b[0m         \u001b[0mcls\u001b[0m\u001b[1;33m.\u001b[0m\u001b[0mset\u001b[0m\u001b[1;33m.\u001b[0m\u001b[0m__name__\u001b[0m \u001b[1;33m=\u001b[0m \u001b[1;34m\"set\"\u001b[0m\u001b[1;33m\u001b[0m\u001b[1;33m\u001b[0m\u001b[0m\n\u001b[0;32m    118\u001b[0m         \u001b[0mcls\u001b[0m\u001b[1;33m.\u001b[0m\u001b[0mset\u001b[0m\u001b[1;33m.\u001b[0m\u001b[0m__qualname__\u001b[0m \u001b[1;33m=\u001b[0m \u001b[1;34mf\"{cls.__qualname__}.set\"\u001b[0m\u001b[1;33m\u001b[0m\u001b[1;33m\u001b[0m\u001b[0m\n",
      "\u001b[1;32m~\\anaconda3\\lib\\site-packages\\matplotlib\\artist.py\u001b[0m in \u001b[0;36mset\u001b[1;34m(self, **kwargs)\u001b[0m\n\u001b[0;32m   1162\u001b[0m         \u001b[1;31m# module.\u001b[0m\u001b[1;33m\u001b[0m\u001b[1;33m\u001b[0m\u001b[0m\n\u001b[0;32m   1163\u001b[0m         \u001b[0mkwargs\u001b[0m \u001b[1;33m=\u001b[0m \u001b[0mcbook\u001b[0m\u001b[1;33m.\u001b[0m\u001b[0mnormalize_kwargs\u001b[0m\u001b[1;33m(\u001b[0m\u001b[0mkwargs\u001b[0m\u001b[1;33m,\u001b[0m \u001b[0mself\u001b[0m\u001b[1;33m)\u001b[0m\u001b[1;33m\u001b[0m\u001b[1;33m\u001b[0m\u001b[0m\n\u001b[1;32m-> 1164\u001b[1;33m         \u001b[1;32mreturn\u001b[0m \u001b[0mself\u001b[0m\u001b[1;33m.\u001b[0m\u001b[0mupdate\u001b[0m\u001b[1;33m(\u001b[0m\u001b[0mkwargs\u001b[0m\u001b[1;33m)\u001b[0m\u001b[1;33m\u001b[0m\u001b[1;33m\u001b[0m\u001b[0m\n\u001b[0m\u001b[0;32m   1165\u001b[0m \u001b[1;33m\u001b[0m\u001b[0m\n\u001b[0;32m   1166\u001b[0m     \u001b[1;33m@\u001b[0m\u001b[0mcontextlib\u001b[0m\u001b[1;33m.\u001b[0m\u001b[0mcontextmanager\u001b[0m\u001b[1;33m\u001b[0m\u001b[1;33m\u001b[0m\u001b[0m\n",
      "\u001b[1;32m~\\anaconda3\\lib\\site-packages\\matplotlib\\artist.py\u001b[0m in \u001b[0;36mupdate\u001b[1;34m(self, props)\u001b[0m\n\u001b[0;32m   1064\u001b[0m                         raise AttributeError(f\"{type(self).__name__!r} object \"\n\u001b[0;32m   1065\u001b[0m                                              f\"has no property {k!r}\")\n\u001b[1;32m-> 1066\u001b[1;33m                     \u001b[0mret\u001b[0m\u001b[1;33m.\u001b[0m\u001b[0mappend\u001b[0m\u001b[1;33m(\u001b[0m\u001b[0mfunc\u001b[0m\u001b[1;33m(\u001b[0m\u001b[0mv\u001b[0m\u001b[1;33m)\u001b[0m\u001b[1;33m)\u001b[0m\u001b[1;33m\u001b[0m\u001b[1;33m\u001b[0m\u001b[0m\n\u001b[0m\u001b[0;32m   1067\u001b[0m         \u001b[1;32mif\u001b[0m \u001b[0mret\u001b[0m\u001b[1;33m:\u001b[0m\u001b[1;33m\u001b[0m\u001b[1;33m\u001b[0m\u001b[0m\n\u001b[0;32m   1068\u001b[0m             \u001b[0mself\u001b[0m\u001b[1;33m.\u001b[0m\u001b[0mpchanged\u001b[0m\u001b[1;33m(\u001b[0m\u001b[1;33m)\u001b[0m\u001b[1;33m\u001b[0m\u001b[1;33m\u001b[0m\u001b[0m\n",
      "\u001b[1;32m~\\anaconda3\\lib\\site-packages\\matplotlib\\axes\\_base.py\u001b[0m in \u001b[0;36mwrapper\u001b[1;34m(self, *args, **kwargs)\u001b[0m\n\u001b[0;32m     73\u001b[0m \u001b[1;33m\u001b[0m\u001b[0m\n\u001b[0;32m     74\u001b[0m         \u001b[1;32mdef\u001b[0m \u001b[0mwrapper\u001b[0m\u001b[1;33m(\u001b[0m\u001b[0mself\u001b[0m\u001b[1;33m,\u001b[0m \u001b[1;33m*\u001b[0m\u001b[0margs\u001b[0m\u001b[1;33m,\u001b[0m \u001b[1;33m**\u001b[0m\u001b[0mkwargs\u001b[0m\u001b[1;33m)\u001b[0m\u001b[1;33m:\u001b[0m\u001b[1;33m\u001b[0m\u001b[1;33m\u001b[0m\u001b[0m\n\u001b[1;32m---> 75\u001b[1;33m             \u001b[1;32mreturn\u001b[0m \u001b[0mget_method\u001b[0m\u001b[1;33m(\u001b[0m\u001b[0mself\u001b[0m\u001b[1;33m)\u001b[0m\u001b[1;33m(\u001b[0m\u001b[1;33m*\u001b[0m\u001b[0margs\u001b[0m\u001b[1;33m,\u001b[0m \u001b[1;33m**\u001b[0m\u001b[0mkwargs\u001b[0m\u001b[1;33m)\u001b[0m\u001b[1;33m\u001b[0m\u001b[1;33m\u001b[0m\u001b[0m\n\u001b[0m\u001b[0;32m     76\u001b[0m \u001b[1;33m\u001b[0m\u001b[0m\n\u001b[0;32m     77\u001b[0m         \u001b[0mwrapper\u001b[0m\u001b[1;33m.\u001b[0m\u001b[0m__module__\u001b[0m \u001b[1;33m=\u001b[0m \u001b[0mowner\u001b[0m\u001b[1;33m.\u001b[0m\u001b[0m__module__\u001b[0m\u001b[1;33m\u001b[0m\u001b[1;33m\u001b[0m\u001b[0m\n",
      "\u001b[1;32m~\\anaconda3\\lib\\site-packages\\matplotlib\\axis.py\u001b[0m in \u001b[0;36m_set_ticklabels\u001b[1;34m(self, labels, fontdict, minor, **kwargs)\u001b[0m\n\u001b[0;32m   1796\u001b[0m         \u001b[1;32mif\u001b[0m \u001b[0mfontdict\u001b[0m \u001b[1;32mis\u001b[0m \u001b[1;32mnot\u001b[0m \u001b[1;32mNone\u001b[0m\u001b[1;33m:\u001b[0m\u001b[1;33m\u001b[0m\u001b[1;33m\u001b[0m\u001b[0m\n\u001b[0;32m   1797\u001b[0m             \u001b[0mkwargs\u001b[0m\u001b[1;33m.\u001b[0m\u001b[0mupdate\u001b[0m\u001b[1;33m(\u001b[0m\u001b[0mfontdict\u001b[0m\u001b[1;33m)\u001b[0m\u001b[1;33m\u001b[0m\u001b[1;33m\u001b[0m\u001b[0m\n\u001b[1;32m-> 1798\u001b[1;33m         \u001b[1;32mreturn\u001b[0m \u001b[0mself\u001b[0m\u001b[1;33m.\u001b[0m\u001b[0mset_ticklabels\u001b[0m\u001b[1;33m(\u001b[0m\u001b[0mlabels\u001b[0m\u001b[1;33m,\u001b[0m \u001b[0mminor\u001b[0m\u001b[1;33m=\u001b[0m\u001b[0mminor\u001b[0m\u001b[1;33m,\u001b[0m \u001b[1;33m**\u001b[0m\u001b[0mkwargs\u001b[0m\u001b[1;33m)\u001b[0m\u001b[1;33m\u001b[0m\u001b[1;33m\u001b[0m\u001b[0m\n\u001b[0m\u001b[0;32m   1799\u001b[0m \u001b[1;33m\u001b[0m\u001b[0m\n\u001b[0;32m   1800\u001b[0m     \u001b[1;32mdef\u001b[0m \u001b[0m_set_tick_locations\u001b[0m\u001b[1;33m(\u001b[0m\u001b[0mself\u001b[0m\u001b[1;33m,\u001b[0m \u001b[0mticks\u001b[0m\u001b[1;33m,\u001b[0m \u001b[1;33m*\u001b[0m\u001b[1;33m,\u001b[0m \u001b[0mminor\u001b[0m\u001b[1;33m=\u001b[0m\u001b[1;32mFalse\u001b[0m\u001b[1;33m)\u001b[0m\u001b[1;33m:\u001b[0m\u001b[1;33m\u001b[0m\u001b[1;33m\u001b[0m\u001b[0m\n",
      "\u001b[1;32m~\\anaconda3\\lib\\site-packages\\matplotlib\\axis.py\u001b[0m in \u001b[0;36mset_ticklabels\u001b[1;34m(self, ticklabels, minor, **kwargs)\u001b[0m\n\u001b[0;32m   1718\u001b[0m             \u001b[1;31m# remove all tick labels, so only error for > 0 ticklabels\u001b[0m\u001b[1;33m\u001b[0m\u001b[1;33m\u001b[0m\u001b[0m\n\u001b[0;32m   1719\u001b[0m             \u001b[1;32mif\u001b[0m \u001b[0mlen\u001b[0m\u001b[1;33m(\u001b[0m\u001b[0mlocator\u001b[0m\u001b[1;33m.\u001b[0m\u001b[0mlocs\u001b[0m\u001b[1;33m)\u001b[0m \u001b[1;33m!=\u001b[0m \u001b[0mlen\u001b[0m\u001b[1;33m(\u001b[0m\u001b[0mticklabels\u001b[0m\u001b[1;33m)\u001b[0m \u001b[1;32mand\u001b[0m \u001b[0mlen\u001b[0m\u001b[1;33m(\u001b[0m\u001b[0mticklabels\u001b[0m\u001b[1;33m)\u001b[0m \u001b[1;33m!=\u001b[0m \u001b[1;36m0\u001b[0m\u001b[1;33m:\u001b[0m\u001b[1;33m\u001b[0m\u001b[1;33m\u001b[0m\u001b[0m\n\u001b[1;32m-> 1720\u001b[1;33m                 raise ValueError(\n\u001b[0m\u001b[0;32m   1721\u001b[0m                     \u001b[1;34m\"The number of FixedLocator locations\"\u001b[0m\u001b[1;33m\u001b[0m\u001b[1;33m\u001b[0m\u001b[0m\n\u001b[0;32m   1722\u001b[0m                     \u001b[1;34mf\" ({len(locator.locs)}), usually from a call to\"\u001b[0m\u001b[1;33m\u001b[0m\u001b[1;33m\u001b[0m\u001b[0m\n",
      "\u001b[1;31mValueError\u001b[0m: The number of FixedLocator locations (5), usually from a call to set_ticks, does not match the number of ticklabels (1132)."
     ]
    },
    {
     "data": {
      "image/png": "[encoded data removed]",
      "text/plain": [
       "<Figure size 640x480 with 2 Axes>"
      ]
     },
     "metadata": {},
     "output_type": "display_data"
    }
   ],
   "source": [
    "#confusion_matrix(y_test.values.argmax(axis=1), predictions.argmax(axis=1))\n",
    "\n",
    "cnf_matrix = confusion_matrix(all_cnn_test_labels.argmax(axis=1), y_pred.argmax(axis=1))\n",
    "disp = ConfusionMatrixDisplay(confusion_matrix=cnf_matrix, display_labels=all_cnn_test_labels)\n",
    "disp.plot(cmap=plt.cm.Blues);"
   ]
  },
  {
   "cell_type": "markdown",
   "id": "f49cd336",
   "metadata": {},
   "source": [
    "# pretrained binary model"
   ]
  },
  {
   "cell_type": "code",
   "execution_count": 12,
   "id": "11061b28",
   "metadata": {},
   "outputs": [
    {
     "name": "stdout",
     "output_type": "stream",
     "text": [
      "WARNING:tensorflow:From C:\\Users\\lalyn\\anaconda3\\lib\\site-packages\\keras\\src\\backend.py:1398: The name tf.executing_eagerly_outside_functions is deprecated. Please use tf.compat.v1.executing_eagerly_outside_functions instead.\n",
      "\n",
      "WARNING:tensorflow:From C:\\Users\\lalyn\\anaconda3\\lib\\site-packages\\keras\\src\\layers\\pooling\\max_pooling2d.py:161: The name tf.nn.max_pool is deprecated. Please use tf.nn.max_pool2d instead.\n",
      "\n"
     ]
    }
   ],
   "source": [
    "#instantiate and train model  -12288 input shape if 64 pix   196608 if 256     49152\n",
    "resnet = ResNet50V2(weights='imagenet', \n",
    "                 include_top=False, \n",
    "                 input_shape=(128, 128, 3))\n",
    "all_binary_res_model = models.Sequential()\n",
    "all_binary_res_model.add(resnet)\n",
    "all_binary_res_model.add(layers.Flatten())\n",
    "all_binary_res_model.add(layers.Dense(132, activation='relu'))\n",
    "all_binary_res_model.add(layers.Dense(2, activation='sigmoid'))"
   ]
  },
  {
   "cell_type": "code",
   "execution_count": 13,
   "id": "531f6325",
   "metadata": {},
   "outputs": [],
   "source": [
    "resnet.trainable = False"
   ]
  },
  {
   "cell_type": "code",
   "execution_count": 14,
   "id": "8320eb16",
   "metadata": {},
   "outputs": [
    {
     "name": "stdout",
     "output_type": "stream",
     "text": [
      "resnet50v2 False\n",
      "flatten True\n",
      "dense True\n",
      "dense_1 True\n",
      "4\n"
     ]
    }
   ],
   "source": [
    "for layer in all_binary_res_model.layers:\n",
    "    print(layer.name, layer.trainable)\n",
    "    \n",
    "# Similarly, we can check how many trainable weights are in the model\n",
    "print(len(all_binary_res_model.trainable_weights))"
   ]
  },
  {
   "cell_type": "code",
   "execution_count": 15,
   "id": "0e354f64",
   "metadata": {},
   "outputs": [
    {
     "name": "stdout",
     "output_type": "stream",
     "text": [
      "Epoch 1/10\n",
      "WARNING:tensorflow:From C:\\Users\\lalyn\\anaconda3\\lib\\site-packages\\keras\\src\\utils\\tf_utils.py:492: The name tf.ragged.RaggedTensorValue is deprecated. Please use tf.compat.v1.ragged.RaggedTensorValue instead.\n",
      "\n",
      "WARNING:tensorflow:From C:\\Users\\lalyn\\anaconda3\\lib\\site-packages\\keras\\src\\engine\\base_layer_utils.py:384: The name tf.executing_eagerly_outside_functions is deprecated. Please use tf.compat.v1.executing_eagerly_outside_functions instead.\n",
      "\n",
      "27/27 [==============================] - 238s 8s/step - loss: 8.1307 - acc: 0.9047 - val_loss: 5.0235 - val_acc: 0.9417\n",
      "Epoch 2/10\n",
      "27/27 [==============================] - 227s 8s/step - loss: 4.8344 - acc: 0.9304 - val_loss: 4.2549 - val_acc: 0.9417\n",
      "Epoch 3/10\n",
      "27/27 [==============================] - 222s 8s/step - loss: 4.4966 - acc: 0.9224 - val_loss: 3.0947 - val_acc: 0.9302\n",
      "Epoch 4/10\n",
      "27/27 [==============================] - 235s 9s/step - loss: 3.7092 - acc: 0.9332 - val_loss: 4.2473 - val_acc: 0.9417\n",
      "Epoch 5/10\n",
      "27/27 [==============================] - 226s 8s/step - loss: 3.3666 - acc: 0.9330 - val_loss: 4.0339 - val_acc: 0.9417\n",
      "Epoch 6/10\n",
      "27/27 [==============================] - 229s 9s/step - loss: 2.8326 - acc: 0.9344 - val_loss: 2.3271 - val_acc: 0.8843\n",
      "Epoch 7/10\n",
      "27/27 [==============================] - 228s 9s/step - loss: 2.8290 - acc: 0.9381 - val_loss: 3.0782 - val_acc: 0.8295\n",
      "Epoch 8/10\n",
      "27/27 [==============================] - 228s 9s/step - loss: 2.5911 - acc: 0.9302 - val_loss: 2.0456 - val_acc: 0.9408\n",
      "Epoch 9/10\n",
      "27/27 [==============================] - 229s 9s/step - loss: 2.4912 - acc: 0.9341 - val_loss: 2.6251 - val_acc: 0.9426\n",
      "Epoch 10/10\n",
      "27/27 [==============================] - 262s 10s/step - loss: 2.6581 - acc: 0.9273 - val_loss: 2.0369 - val_acc: 0.9408\n"
     ]
    }
   ],
   "source": [
    "np.random.seed(42)\n",
    "\n",
    "all_binary_res_model.compile(loss='binary_crossentropy',\n",
    "              optimizer=optimizers.RMSprop(learning_rate=2e-5),\n",
    "              metrics=['acc'])\n",
    "all_binary_res_history = all_binary_res_model.fit(all_cnn_binary_train,\n",
    "                    all_cnn_binary_train_labels,\n",
    "                    steps_per_epoch=27,\n",
    "                    epochs=10,\n",
    "                    validation_data=(all_cnn_binary_test, all_cnn_binary_test_labels),                   \n",
    "                    validation_steps=10)"
   ]
  },
  {
   "cell_type": "markdown",
   "id": "93a5470c",
   "metadata": {},
   "source": [
    "### Evaluation"
   ]
  },
  {
   "cell_type": "code",
   "execution_count": 16,
   "id": "f356e831",
   "metadata": {},
   "outputs": [
    {
     "name": "stdout",
     "output_type": "stream",
     "text": [
      "36/36 [==============================] - 55s 1s/step\n"
     ]
    }
   ],
   "source": [
    "y_pred = all_binary_res_model.predict(all_cnn_binary_test)"
   ]
  },
  {
   "cell_type": "code",
   "execution_count": 17,
   "id": "0ba09e4f",
   "metadata": {},
   "outputs": [
    {
     "name": "stdout",
     "output_type": "stream",
     "text": [
      "              precision    recall  f1-score   support\n",
      "\n",
      "           0       0.30      0.12      0.17        66\n",
      "           1       0.95      0.99      0.97      1066\n",
      "\n",
      "   micro avg       0.93      0.94      0.93      1132\n",
      "   macro avg       0.62      0.55      0.57      1132\n",
      "weighted avg       0.91      0.94      0.92      1132\n",
      " samples avg       0.93      0.94      0.93      1132\n",
      "\n"
     ]
    },
    {
     "name": "stderr",
     "output_type": "stream",
     "text": [
      "C:\\Users\\lalyn\\anaconda3\\lib\\site-packages\\sklearn\\metrics\\_classification.py:1318: UndefinedMetricWarning: Precision and F-score are ill-defined and being set to 0.0 in samples with no predicted labels. Use `zero_division` parameter to control this behavior.\n",
      "  _warn_prf(average, modifier, msg_start, len(result))\n"
     ]
    }
   ],
   "source": [
    "print(classification_report(all_cnn_binary_test_labels, np.round(y_pred)))"
   ]
  },
  {
   "cell_type": "markdown",
   "id": "dd2d88a1",
   "metadata": {},
   "source": [
    "This model performs significantly worse than the same one trained with the smaller dataset. "
   ]
  },
  {
   "cell_type": "code",
   "execution_count": 18,
   "id": "d78e6652",
   "metadata": {},
   "outputs": [
    {
     "data": {
      "image/png": "[encoded data removed]",
      "text/plain": [
       "<Figure size 500x300 with 1 Axes>"
      ]
     },
     "metadata": {},
     "output_type": "display_data"
    }
   ],
   "source": [
    "visualize_training_results(all_binary_res_history)"
   ]
  },
  {
   "cell_type": "code",
   "execution_count": 19,
   "id": "56adbe53",
   "metadata": {},
   "outputs": [
    {
     "data": {
      "image/png": "[encoded data removed]",
      "text/plain": [
       "<Figure size 640x480 with 2 Axes>"
      ]
     },
     "metadata": {},
     "output_type": "display_data"
    }
   ],
   "source": [
    "#confusion_matrix(y_test.values.argmax(axis=1), predictions.argmax(axis=1))\n",
    "\n",
    "cnf_matrix = confusion_matrix(all_cnn_binary_test_labels.values.argmax(axis=1), y_pred.argmax(axis=1))\n",
    "disp = ConfusionMatrixDisplay(confusion_matrix=cnf_matrix, display_labels=all_cnn_binary_test_labels)\n",
    "disp.plot(cmap=plt.cm.Blues);"
   ]
  },
  {
   "cell_type": "markdown",
   "id": "4b7a0045",
   "metadata": {},
   "source": [
    "# Multiclass summary"
   ]
  },
  {
   "cell_type": "markdown",
   "id": "99024c65",
   "metadata": {},
   "source": [
    "| Model                  | Precision | Recall | F-1 Score |   |\n",
    "|------------------------|-----------|--------|-----------|---|\n",
    "| Basic Neural Network   | .23       | .27    | .15       |   |\n",
    "| 1 hidden layer         | .29       | .30    | .28       |   |\n",
    "| 2 hidden layer         | .03       | .20    | .06       |   |\n",
    "| Grid Search            | .31       | .28    | .22       |   |\n",
    "| L2 Regularization      | .35       | .35    | .29       |   |\n",
    "| L1 Regularization      | .04       | .20    | .06       |   |\n",
    "| Dropout Regularization | .03       | .20    | .06       |   |\n",
    "| CNN Model              | .38       | .59    | .41       |   |\n",
    "| ResNet50V2 Model       | .32       | .86    | .46       |   |\n",
    "| Full ResNet50V2        | .31       | .14    | .15       |   |\n",
    "|                        |           |        |           |   |"
   ]
  },
  {
   "cell_type": "markdown",
   "id": "b3c68e35",
   "metadata": {},
   "source": [
    "# Binary summary"
   ]
  },
  {
   "cell_type": "markdown",
   "id": "7cd2c491",
   "metadata": {},
   "source": [
    "| Model                  | Precision | Recall | F-1 Score |   |\n",
    "|------------------------|-----------|--------|-----------|---|\n",
    "| Basic Neural Network   | .70       | .54    | .54       |   |\n",
    "| 1 hidden layer         | .42       | .50    | .46       |   |\n",
    "| 2 hidden layer         | .41       | .50    | .45       |   |\n",
    "| Grid Search            | .64       | .65    | .65       |   |\n",
    "| L2 Regularization      | .61       | .62    | .61       |   |\n",
    "| L1 Regularization      | .42       | .50    | .46       |   |\n",
    "| Dropout Regularization | .42       | .50    | .46       |   |\n",
    "| CNN Model              | .54       | .50    | .47       |   |\n",
    "| ResNet50V2 Model       | .78       | .76    | .77       |   |\n",
    "| Full ResNet50V2        | .55       | .60    | .57       |   |\n",
    "|                        |           |        |           |   |\n",
    "\n"
   ]
  },
  {
   "cell_type": "markdown",
   "id": "af4279b6",
   "metadata": {},
   "source": [
    "# Multiclass summary\n",
    "\n",
    "| Model                  | Precision | Recall | F-1 Score |   |\n",
    "|------------------------|-----------|--------|-----------|---|\n",
    "| Basic Neural Network   | .23       | .27    | .15       |   |\n",
    "| 1 hidden layer         | .29       | .30    | .28       |   |\n",
    "| 2 hidden layer         | .03       | .20    | .06       |   |\n",
    "| Grid Search            | .31       | .28    | .22       |   |\n",
    "| L2 Regularization      | .35       | .35    | .29       |   |\n",
    "| L1 Regularization      | .04       | .20    | .06       |   |\n",
    "| Dropout Regularization | .03       | .20    | .06       |   |\n",
    "| CNN Model              | .38       | .59    | .41       |   |\n",
    "| ResNet50V2 Model       | .32       | .86    | .46       |   |\n",
    "| Full ResNet50V2        | .31       | .14    | .15       |   |\n",
    "|                        |           |        |           |   |\n",
    "\n",
    "# Binary summary\n",
    "\n",
    "| Model                  | Precision | Recall | F-1 Score |   |\n",
    "|------------------------|-----------|--------|-----------|---|\n",
    "| Basic Neural Network   | .70       | .54    | .54       |   |\n",
    "| 1 hidden layer         | .42       | .50    | .46       |   |\n",
    "| 2 hidden layer         | .41       | .50    | .45       |   |\n",
    "| Grid Search            | .64       | .65    | .65       |   |\n",
    "| L2 Regularization      | .61       | .62    | .61       |   |\n",
    "| L1 Regularization      | .42       | .50    | .46       |   |\n",
    "| Dropout Regularization | .42       | .50    | .46       |   |\n",
    "| CNN Model              | .54       | .50    | .47       |   |\n",
    "| ResNet50V2 Model       | .78       | .76    | .77       |   |\n",
    "| Full ResNet50V2        | .55       | .60    | .57       |   |\n",
    "|                        |           |        |           |   |\n",
    "\n"
   ]
  },
  {
   "cell_type": "code",
   "execution_count": null,
   "id": "05235fc7",
   "metadata": {},
   "outputs": [],
   "source": []
  }
 ],
 "metadata": {
  "kernelspec": {
   "display_name": "Python 3 (ipykernel)",
   "language": "python",
   "name": "python3"
  },
  "language_info": {
   "codemirror_mode": {
    "name": "ipython",
    "version": 3
   },
   "file_extension": ".py",
   "mimetype": "text/x-python",
   "name": "python",
   "nbconvert_exporter": "python",
   "pygments_lexer": "ipython3",
   "version": "3.9.13"
  }
 },
 "nbformat": 4,
 "nbformat_minor": 5
}
